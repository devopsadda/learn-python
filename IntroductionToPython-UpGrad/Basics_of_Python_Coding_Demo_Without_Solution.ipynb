{
  "cells": [
    {
      "attachments": {},
      "cell_type": "markdown",
      "metadata": {
        "id": "ZstrsgRYu7u_"
      },
      "source": [
        "# Session 1: Basics of Python"
      ]
    },
    {
      "attachments": {},
      "cell_type": "markdown",
      "metadata": {
        "id": "82Pyd7UySXrK"
      },
      "source": [
        "# Problem Statement\n",
        "\n",
        "A software company is developing a new user management system that contains information about their:\n",
        "- `name` - The name of the user\n",
        "- `date of birth` - The date of birth of the user\n",
        "- `age` - The age of the user\n",
        "- `subscription status` - The subscription status is represented by a boolean value, where \"True\" indicates an active subscription and \"False\" indicates an inactive subscription.\n",
        "\n",
        "As a business analyst, your task is to use these details and extract useful information from them, using basic Python operations.\n",
        "\n",
        "---\n",
        "\n"
      ]
    },
    {
      "attachments": {},
      "cell_type": "markdown",
      "metadata": {
        "id": "3UsLTZqd1bBS"
      },
      "source": [
        "The company wants to generate user IDs from the user's name, age, year of birth, and subscription status by using string formatting to generate the user IDs."
      ]
    },
    {
      "cell_type": "code",
      "execution_count": 2,
      "metadata": {
        "id": "7RL0W3mm5i14"
      },
      "outputs": [],
      "source": [
        "# User details on name, year of birth and age\n",
        "name = 'Alice Kim'\n",
        "yob\t= 1965\t\n",
        "age\t= 58"
      ]
    },
    {
      "cell_type": "code",
      "execution_count": null,
      "metadata": {
        "id": "M8S-OyEoH80v"
      },
      "outputs": [],
      "source": [
        "# Extract user id using string formatting - user's name + yob + age without any whitespaces\n",
        "user_id =\n",
        "print()"
      ]
    },
    {
      "cell_type": "code",
      "execution_count": null,
      "metadata": {
        "id": "gyDTK9xmAl8K"
      },
      "outputs": [],
      "source": [
        "# Remove space and add an underscore in the name and use that as the id\n",
        "user_id = name.replace(\" \",\"_\") + \n",
        "print()"
      ]
    },
    {
      "attachments": {},
      "cell_type": "markdown",
      "metadata": {
        "id": "9a4SJLMO4n4V"
      },
      "source": [
        "The company needs to validate the length of user names to ensure none of the users' names are neither too long nor too short."
      ]
    },
    {
      "cell_type": "code",
      "execution_count": null,
      "metadata": {
        "id": "lE6cdI37mxWT"
      },
      "outputs": [],
      "source": [
        "# Find the length of the name\n"
      ]
    },
    {
      "cell_type": "code",
      "execution_count": null,
      "metadata": {
        "id": "PYZTQ_HzH-a-"
      },
      "outputs": [],
      "source": [
        "## Extract fixed length user_ids using only the first letter of the first name and the last name.\n",
        "user_id = \n",
        "print()"
      ]
    },
    {
      "attachments": {},
      "cell_type": "markdown",
      "metadata": {
        "id": "ff3yxIpX4OLE"
      },
      "source": [
        "The company needs to split user-provided full names into separate first and last name fields. The full name strings may contain leading or trailing whitespace, as well as mixed case text. The company wants to ensure that the first and last names are accurately extracted from the full name strings, while also handling any formatting inconsistencies."
      ]
    },
    {
      "cell_type": "code",
      "execution_count": null,
      "metadata": {
        "id": "m6TOmiUF44oX"
      },
      "outputs": [],
      "source": [
        "full_name = \"   Alice Kim  \"\n",
        "\n",
        "# Trim whitespace and lowercase text\n",
        "full_name = \n",
        "\n",
        "# Split full name into first and last name\n",
        "first_name, last_name = \n",
        "\n",
        "print(\"First Name:\", first_name)\n",
        "print(\"Last Name:\", last_name)"
      ]
    },
    {
      "attachments": {},
      "cell_type": "markdown",
      "metadata": {
        "id": "-CILyMsvZwA3"
      },
      "source": [
        "Write a Python program to extract the month value from the \"DOB\"."
      ]
    },
    {
      "cell_type": "code",
      "execution_count": null,
      "metadata": {
        "id": "iYj5r-WRqfv4"
      },
      "outputs": [],
      "source": [
        "# Slice string date to obtain month value\n",
        "date_string = \"23-05-1965\"\n",
        "\n",
        "# Use string slicing to extract the month value\n",
        "month = \n",
        "\n",
        "print(\"Month:\", month)"
      ]
    }
  ],
  "metadata": {
    "colab": {
      "provenance": []
    },
    "kernelspec": {
      "display_name": "Python 3",
      "name": "python3"
    },
    "language_info": {
      "name": "python"
    }
  },
  "nbformat": 4,
  "nbformat_minor": 0
}
