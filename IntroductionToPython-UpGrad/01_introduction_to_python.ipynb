{
 "cells": [
  {
   "cell_type": "code",
   "execution_count": 2,
   "metadata": {},
   "outputs": [
    {
     "name": "stdout",
     "output_type": "stream",
     "text": [
      "Hello, World!!!\n"
     ]
    }
   ],
   "source": [
    "print(\"Hello, World!!!\")"
   ]
  },
  {
   "cell_type": "code",
   "execution_count": 3,
   "metadata": {},
   "outputs": [],
   "source": [
    "name = input(\"What's your name?\")"
   ]
  },
  {
   "cell_type": "code",
   "execution_count": 4,
   "metadata": {},
   "outputs": [
    {
     "name": "stdout",
     "output_type": "stream",
     "text": [
      "Welcome to UpGrad Tanvir\n"
     ]
    }
   ],
   "source": [
    "print(\"Welcome to UpGrad\",name)"
   ]
  },
  {
   "cell_type": "code",
   "execution_count": 13,
   "metadata": {},
   "outputs": [
    {
     "name": "stdout",
     "output_type": "stream",
     "text": [
      "O     \n",
      "|     \n",
      "|_____\n",
      " |||| \n",
      " |||| \n",
      " |||| \n"
     ]
    }
   ],
   "source": [
    "print(\"O     \")\n",
    "print(\"|     \")\n",
    "print(\"|_____\")\n",
    "print(\" |||| \")\n",
    "print(\" |||| \")\n",
    "print(\" |||| \")"
   ]
  },
  {
   "cell_type": "code",
   "execution_count": 16,
   "metadata": {},
   "outputs": [
    {
     "name": "stdout",
     "output_type": "stream",
     "text": [
      "$$$$$\n"
     ]
    }
   ],
   "source": [
    "# Let's add another print statement\n",
    "print(\"$\" * 5)"
   ]
  },
  {
   "cell_type": "markdown",
   "metadata": {},
   "source": [
    "### Variables"
   ]
  },
  {
   "cell_type": "code",
   "execution_count": 19,
   "metadata": {},
   "outputs": [
    {
     "name": "stdout",
     "output_type": "stream",
     "text": [
      "Tanvir\n"
     ]
    }
   ],
   "source": [
    "# String Variable\n",
    "var1 = \"Tanvir\"\n",
    "print(var1)"
   ]
  },
  {
   "cell_type": "code",
   "execution_count": 20,
   "metadata": {},
   "outputs": [
    {
     "name": "stdout",
     "output_type": "stream",
     "text": [
      "6\n"
     ]
    }
   ],
   "source": [
    "# Integer Variable\n",
    "var2 = 6\n",
    "print(var2)"
   ]
  },
  {
   "cell_type": "code",
   "execution_count": 21,
   "metadata": {},
   "outputs": [
    {
     "name": "stdout",
     "output_type": "stream",
     "text": [
      "4.5\n"
     ]
    }
   ],
   "source": [
    "# Float Variable\n",
    "var3 = 4.5\n",
    "print(var3)"
   ]
  },
  {
   "cell_type": "code",
   "execution_count": 22,
   "metadata": {},
   "outputs": [],
   "source": [
    "# To get a input from a user we would use the 'input' function"
   ]
  },
  {
   "cell_type": "code",
   "execution_count": 24,
   "metadata": {},
   "outputs": [
    {
     "name": "stdout",
     "output_type": "stream",
     "text": [
      "6\n"
     ]
    }
   ],
   "source": [
    "number = input(\"What's your favourite number?\")\n",
    "print(number)"
   ]
  },
  {
   "cell_type": "code",
   "execution_count": 25,
   "metadata": {},
   "outputs": [
    {
     "name": "stdout",
     "output_type": "stream",
     "text": [
      "Welcome Tanvir\n"
     ]
    }
   ],
   "source": [
    "name = input(\"Enter your name: \")\n",
    "print(\"Welcome\", name)"
   ]
  },
  {
   "cell_type": "code",
   "execution_count": 27,
   "metadata": {},
   "outputs": [
    {
     "name": "stdout",
     "output_type": "stream",
     "text": [
      "Your are 288 months old\n"
     ]
    }
   ],
   "source": [
    "age = int(input(\"Enter you age: \"))\n",
    "print(\"Your are\", age * 12, \"months old\")"
   ]
  },
  {
   "cell_type": "markdown",
   "metadata": {},
   "source": [
    "#### How to find the data type for a variable in Python!"
   ]
  },
  {
   "cell_type": "code",
   "execution_count": 28,
   "metadata": {},
   "outputs": [
    {
     "name": "stdout",
     "output_type": "stream",
     "text": [
      "<class 'int'>\n",
      "<class 'float'>\n",
      "<class 'str'>\n",
      "<class 'bool'>\n"
     ]
    }
   ],
   "source": [
    "int_num = 10\n",
    "print(type(int_num))\n",
    "float_num = 5.6\n",
    "print(type(float_num))\n",
    "string = \"Tanvir\"\n",
    "print(type(string))\n",
    "boolean = True\n",
    "print(type(boolean))\n"
   ]
  },
  {
   "cell_type": "markdown",
   "metadata": {},
   "source": [
    "##### Type Casting in Python"
   ]
  },
  {
   "cell_type": "code",
   "execution_count": 29,
   "metadata": {},
   "outputs": [
    {
     "data": {
      "text/plain": [
       "3"
      ]
     },
     "execution_count": 29,
     "metadata": {},
     "output_type": "execute_result"
    }
   ],
   "source": [
    "x = 3.75\n",
    "int(x)\n"
   ]
  },
  {
   "cell_type": "code",
   "execution_count": 30,
   "metadata": {},
   "outputs": [
    {
     "data": {
      "text/plain": [
       "3.75"
      ]
     },
     "execution_count": 30,
     "metadata": {},
     "output_type": "execute_result"
    }
   ],
   "source": [
    "float(x)"
   ]
  },
  {
   "cell_type": "code",
   "execution_count": 31,
   "metadata": {},
   "outputs": [
    {
     "data": {
      "text/plain": [
       "'3.75'"
      ]
     },
     "execution_count": 31,
     "metadata": {},
     "output_type": "execute_result"
    }
   ],
   "source": [
    "str(x)"
   ]
  },
  {
   "cell_type": "code",
   "execution_count": 32,
   "metadata": {},
   "outputs": [
    {
     "data": {
      "text/plain": [
       "True"
      ]
     },
     "execution_count": 32,
     "metadata": {},
     "output_type": "execute_result"
    }
   ],
   "source": [
    "bool(x)"
   ]
  },
  {
   "cell_type": "code",
   "execution_count": 36,
   "metadata": {},
   "outputs": [
    {
     "name": "stdout",
     "output_type": "stream",
     "text": [
      "<class 'str'>\n"
     ]
    }
   ],
   "source": [
    "name = 'Tanvir'\n",
    "print(type(name))"
   ]
  },
  {
   "cell_type": "code",
   "execution_count": 37,
   "metadata": {},
   "outputs": [
    {
     "name": "stdout",
     "output_type": "stream",
     "text": [
      "3.0\n"
     ]
    }
   ],
   "source": [
    "# Testing\n",
    "x = 3.5\n",
    "print(float(int(x)))"
   ]
  },
  {
   "cell_type": "code",
   "execution_count": 39,
   "metadata": {},
   "outputs": [
    {
     "ename": "NameError",
     "evalue": "name 'Varma' is not defined",
     "output_type": "error",
     "traceback": [
      "\u001b[1;31m---------------------------------------------------------------------------\u001b[0m",
      "\u001b[1;31mNameError\u001b[0m                                 Traceback (most recent call last)",
      "Cell \u001b[1;32mIn[39], line 1\u001b[0m\n\u001b[1;32m----> 1\u001b[0m name \u001b[38;5;241m=\u001b[39m Varma\n\u001b[0;32m      3\u001b[0m \u001b[38;5;28mprint\u001b[39m(\u001b[38;5;28mtype\u001b[39m(name))\n",
      "\u001b[1;31mNameError\u001b[0m: name 'Varma' is not defined"
     ]
    }
   ],
   "source": [
    "name = Varma\n",
    "\n",
    "print(type(name))"
   ]
  },
  {
   "cell_type": "markdown",
   "metadata": {},
   "source": [
    "#### Arithmetic Operations"
   ]
  },
  {
   "cell_type": "code",
   "execution_count": 40,
   "metadata": {},
   "outputs": [
    {
     "name": "stdout",
     "output_type": "stream",
     "text": [
      "Addition =  13\n"
     ]
    }
   ],
   "source": [
    "a = 6\n",
    "b = 7\n",
    "print(\"Addition = \", a + b)"
   ]
  },
  {
   "cell_type": "code",
   "execution_count": 41,
   "metadata": {},
   "outputs": [
    {
     "name": "stdout",
     "output_type": "stream",
     "text": [
      "Substraction =  -1\n"
     ]
    }
   ],
   "source": [
    "print(\"Substraction = \", a - b)"
   ]
  },
  {
   "cell_type": "code",
   "execution_count": 42,
   "metadata": {},
   "outputs": [
    {
     "name": "stdout",
     "output_type": "stream",
     "text": [
      "Mupltiplication =  42\n"
     ]
    }
   ],
   "source": [
    "print(\"Mupltiplication = \", a * b)"
   ]
  },
  {
   "cell_type": "code",
   "execution_count": 43,
   "metadata": {},
   "outputs": [
    {
     "name": "stdout",
     "output_type": "stream",
     "text": [
      "Division =  0.8571428571428571\n"
     ]
    }
   ],
   "source": [
    "print(\"Division = \", a / b)"
   ]
  },
  {
   "cell_type": "code",
   "execution_count": 44,
   "metadata": {},
   "outputs": [
    {
     "name": "stdout",
     "output_type": "stream",
     "text": [
      "Floor Division =  0\n"
     ]
    }
   ],
   "source": [
    "print(\"Floor Division = \", a // b)"
   ]
  },
  {
   "cell_type": "code",
   "execution_count": 45,
   "metadata": {},
   "outputs": [
    {
     "name": "stdout",
     "output_type": "stream",
     "text": [
      "Modulus =  6\n"
     ]
    }
   ],
   "source": [
    "print(\"Modulus = \", a % b)"
   ]
  },
  {
   "cell_type": "code",
   "execution_count": 47,
   "metadata": {},
   "outputs": [
    {
     "name": "stdout",
     "output_type": "stream",
     "text": [
      "Exponential =  279936\n"
     ]
    }
   ],
   "source": [
    "print(\"Exponential = \", a ** b)"
   ]
  },
  {
   "cell_type": "code",
   "execution_count": 48,
   "metadata": {},
   "outputs": [
    {
     "name": "stdout",
     "output_type": "stream",
     "text": [
      "11.857142857142858\n"
     ]
    }
   ],
   "source": [
    "print((4 * 5) - 9 + 6 / 7)"
   ]
  },
  {
   "cell_type": "code",
   "execution_count": 46,
   "metadata": {},
   "outputs": [
    {
     "data": {
      "text/plain": [
       "0.8571428571428571"
      ]
     },
     "execution_count": 46,
     "metadata": {},
     "output_type": "execute_result"
    }
   ],
   "source": [
    "6/7"
   ]
  },
  {
   "cell_type": "code",
   "execution_count": 47,
   "metadata": {},
   "outputs": [
    {
     "ename": "NameError",
     "evalue": "name 'X' is not defined",
     "output_type": "error",
     "traceback": [
      "\u001b[1;31m---------------------------------------------------------------------------\u001b[0m",
      "\u001b[1;31mNameError\u001b[0m                                 Traceback (most recent call last)",
      "Cell \u001b[1;32mIn[47], line 5\u001b[0m\n\u001b[0;32m      3\u001b[0m y \u001b[38;5;241m=\u001b[39m \u001b[38;5;241m2.5\u001b[39m\n\u001b[0;32m      4\u001b[0m z \u001b[38;5;241m=\u001b[39m \u001b[38;5;241m5\u001b[39m\n\u001b[1;32m----> 5\u001b[0m \u001b[38;5;28mprint\u001b[39m(X \u001b[38;5;241m+\u001b[39m y \u001b[38;5;241m/\u001b[39m z)\n",
      "\u001b[1;31mNameError\u001b[0m: name 'X' is not defined"
     ]
    }
   ],
   "source": [
    "# Testing\n",
    "x = 3\n",
    "y = 2.5\n",
    "z = 5\n",
    "print(X + y / z)"
   ]
  },
  {
   "cell_type": "code",
   "execution_count": 48,
   "metadata": {},
   "outputs": [
    {
     "data": {
      "text/plain": [
       "-2"
      ]
     },
     "execution_count": 48,
     "metadata": {},
     "output_type": "execute_result"
    }
   ],
   "source": [
    "4 % (1 + 9)**2 - 60 // (7 + 2)"
   ]
  },
  {
   "cell_type": "code",
   "execution_count": 49,
   "metadata": {},
   "outputs": [
    {
     "name": "stdout",
     "output_type": "stream",
     "text": [
      "68\n"
     ]
    }
   ],
   "source": [
    "a = 4 + (8 ** 2) - 3 ** 2 % 1\n",
    "print(a)"
   ]
  },
  {
   "cell_type": "code",
   "execution_count": 50,
   "metadata": {},
   "outputs": [
    {
     "name": "stdout",
     "output_type": "stream",
     "text": [
      "3.5\n"
     ]
    }
   ],
   "source": [
    "x = 3\n",
    "y = 2.5\n",
    "z = 5\n",
    "print(x + y / z)"
   ]
  },
  {
   "cell_type": "code",
   "execution_count": 51,
   "metadata": {},
   "outputs": [
    {
     "name": "stdout",
     "output_type": "stream",
     "text": [
      "-2\n"
     ]
    }
   ],
   "source": [
    "print(4 % (1 + 9)**2 - 60 // (7 + 2))"
   ]
  },
  {
   "cell_type": "markdown",
   "metadata": {},
   "source": [
    "#### String Operations"
   ]
  },
  {
   "cell_type": "code",
   "execution_count": 58,
   "metadata": {},
   "outputs": [
    {
     "name": "stdout",
     "output_type": "stream",
     "text": [
      "z Mike John\n"
     ]
    }
   ],
   "source": [
    "c = 'z'\n",
    "d = 'Mike'\n",
    "e = \"John\"\n",
    "\n",
    "print(c, d, e)"
   ]
  },
  {
   "cell_type": "code",
   "execution_count": 63,
   "metadata": {},
   "outputs": [
    {
     "name": "stdout",
     "output_type": "stream",
     "text": [
      "I didn't know\n",
      "I didn't know\n",
      "Hi Bob \n",
      "\n",
      "How are you\n"
     ]
    }
   ],
   "source": [
    "print('I didn\\'t know')\n",
    "print(\"I didn't know\")\n",
    "print(\"Hi Bob \\n\\nHow are you\")"
   ]
  },
  {
   "cell_type": "code",
   "execution_count": 72,
   "metadata": {},
   "outputs": [],
   "source": [
    "# Let's try building a system that could ask for flavour , and type of desert user wants\n",
    "flavour = input(\"What flavour would you like?\")"
   ]
  },
  {
   "cell_type": "code",
   "execution_count": 73,
   "metadata": {},
   "outputs": [],
   "source": [
    "desert_type = input(\"What type of desert do you like?\")"
   ]
  },
  {
   "cell_type": "code",
   "execution_count": 74,
   "metadata": {},
   "outputs": [
    {
     "name": "stdout",
     "output_type": "stream",
     "text": [
      "You have entered vanilla ice cream\n"
     ]
    }
   ],
   "source": [
    "print(\"You have entered\", flavour + ' ' + desert_type )"
   ]
  },
  {
   "cell_type": "markdown",
   "metadata": {},
   "source": [
    "#### String Indexing"
   ]
  },
  {
   "cell_type": "markdown",
   "metadata": {},
   "source": [
    "#### String Slicing"
   ]
  },
  {
   "cell_type": "code",
   "execution_count": 92,
   "metadata": {},
   "outputs": [],
   "source": [
    "word = \"I love Python programming\""
   ]
  },
  {
   "cell_type": "code",
   "execution_count": 93,
   "metadata": {},
   "outputs": [
    {
     "name": "stdout",
     "output_type": "stream",
     "text": [
      "Python\n"
     ]
    }
   ],
   "source": [
    "print(word[7:13])\n"
   ]
  },
  {
   "cell_type": "code",
   "execution_count": 94,
   "metadata": {},
   "outputs": [
    {
     "name": "stdout",
     "output_type": "stream",
     "text": [
      "Pytho\n"
     ]
    }
   ],
   "source": [
    "print(word[7:12])"
   ]
  },
  {
   "cell_type": "code",
   "execution_count": 96,
   "metadata": {},
   "outputs": [
    {
     "name": "stdout",
     "output_type": "stream",
     "text": [
      "Python\n"
     ]
    }
   ],
   "source": [
    "print(word[-18:-12])"
   ]
  },
  {
   "cell_type": "code",
   "execution_count": 97,
   "metadata": {},
   "outputs": [
    {
     "name": "stdout",
     "output_type": "stream",
     "text": [
      "e\n"
     ]
    }
   ],
   "source": [
    "x = 'len'\n",
    "print(x[len(x * 2) - 5])"
   ]
  },
  {
   "cell_type": "markdown",
   "metadata": {},
   "source": [
    "#### String Methods"
   ]
  },
  {
   "cell_type": "code",
   "execution_count": 98,
   "metadata": {},
   "outputs": [],
   "source": [
    "string = 'I love breaking bad'"
   ]
  },
  {
   "cell_type": "code",
   "execution_count": 99,
   "metadata": {},
   "outputs": [
    {
     "data": {
      "text/plain": [
       "'i love breaking bad'"
      ]
     },
     "execution_count": 99,
     "metadata": {},
     "output_type": "execute_result"
    }
   ],
   "source": [
    "string.lower()"
   ]
  },
  {
   "cell_type": "code",
   "execution_count": 100,
   "metadata": {},
   "outputs": [
    {
     "data": {
      "text/plain": [
       "'I LOVE BREAKING BAD'"
      ]
     },
     "execution_count": 100,
     "metadata": {},
     "output_type": "execute_result"
    }
   ],
   "source": [
    "string.upper()"
   ]
  },
  {
   "cell_type": "code",
   "execution_count": 103,
   "metadata": {},
   "outputs": [
    {
     "name": "stdout",
     "output_type": "stream",
     "text": [
      "There is an apple\n",
      "There is an apple\n",
      "There is an apple\n"
     ]
    }
   ],
   "source": [
    "sentance = \"There is an apple   \"\n",
    "print(sentance.rstrip())\n",
    "\n",
    "sentance = \"   There is an apple\"\n",
    "print(sentance.lstrip())\n",
    "\n",
    "sentance = \"   There is an apple    \"\n",
    "print(sentance.strip()) "
   ]
  },
  {
   "cell_type": "code",
   "execution_count": 90,
   "metadata": {},
   "outputs": [
    {
     "data": {
      "text/plain": [
       "'e'"
      ]
     },
     "execution_count": 90,
     "metadata": {},
     "output_type": "execute_result"
    }
   ],
   "source": [
    "x = 'len'\n",
    "x[len(x * 2) - 5]"
   ]
  },
  {
   "cell_type": "code",
   "execution_count": 107,
   "metadata": {},
   "outputs": [
    {
     "name": "stdout",
     "output_type": "stream",
     "text": [
      "2\n"
     ]
    }
   ],
   "source": [
    "string = 'I love breaking bad'\n",
    "print(string.count('a'))"
   ]
  },
  {
   "cell_type": "code",
   "execution_count": 126,
   "metadata": {},
   "outputs": [
    {
     "name": "stdout",
     "output_type": "stream",
     "text": [
      "bbandra mumbaimumbai\n"
     ]
    }
   ],
   "source": [
    "input_str = 'bmaunmdbraai'\n",
    "#Type your code here\n",
    "message1 = input_str[0]\n",
    "\n",
    "for i in range(0, len(input_str)):\n",
    "    if (i % 2 == 0):\n",
    "        message1 = input_str[::2]\n",
    "    else:\n",
    "        message2 = message2 + input_str[i]\n",
    "\n",
    "print(message1, message2)"
   ]
  },
  {
   "cell_type": "code",
   "execution_count": 132,
   "metadata": {},
   "outputs": [
    {
     "name": "stdout",
     "output_type": "stream",
     "text": [
      "bandra,mumbai\n"
     ]
    }
   ],
   "source": [
    "input_str = 'bmaunmdbraai'\n",
    "\n",
    "message1 = input_str[::2]   # even\n",
    "message2 = input_str[1::2]  # odd\n",
    "\n",
    "print(f\"{message1},{message2}\")"
   ]
  },
  {
   "cell_type": "code",
   "execution_count": null,
   "metadata": {},
   "outputs": [],
   "source": [
    "import sys\n",
    "\n",
    "def decrypt_message(encrypted_message):\n",
    "    # Since strings are immutable in Python, we need to trim it here to process\n",
    "    if ',' in encrypted_message:\n",
    "        encrypted_message = encrypted_message.split(',')[0]\n",
    "    \n",
    "    mid = (len(encrypted_message) + 1) // 2\n",
    "    message1 = ''\n",
    "    message2 = ''\n",
    "    \n",
    "    for i in range(mid):\n",
    "        if i < len(encrypted_message):\n",
    "            message1 += encrypted_message[i * 2]\n",
    "        if (i * 2 + 1) < len(encrypted_message):\n",
    "            message2 += encrypted_message[i * 2 + 1]\n",
    "    \n",
    "    message1 = message1.replace('#', '')\n",
    "    message2 = message2.replace('#', '')\n",
    "    \n",
    "    return message1, message2\n",
    "\n",
    "# Read the input from standard input\n",
    "input_str = sys.stdin.read().strip()\n",
    "\n",
    "# Decrypt the message and prepare the output\n",
    "message1, message2 = decrypt_message(input_str)\n",
    "\n",
    "# Output result\n",
    "print(message1, message2)"
   ]
  },
  {
   "cell_type": "code",
   "execution_count": null,
   "metadata": {},
   "outputs": [],
   "source": [
    "input_str='bmaunmdbraai'"
   ]
  },
  {
   "cell_type": "code",
   "execution_count": 123,
   "metadata": {},
   "outputs": [],
   "source": [
    "def decrypt_message(encrypted_message):\n",
    "    # Initialize output containers for each half of the message\n",
    "    word1, word2 = [], []\n",
    "    \n",
    "    # Iterate over the message length\n",
    "    for i in range(len(encrypted_message)):\n",
    "        # Alternate adding characters to each word\n",
    "        if i % 2 == 0:\n",
    "            word1.append(encrypted_message[i])\n",
    "        else:\n",
    "            word2.append(encrypted_message[i])\n",
    "\n",
    "    # Join all characters for each word and combine\n",
    "    decrypted_message = ''.join(word1) + ''.join(word2)\n",
    "    return decrypted_message.replace('#', '')  # Remove any placeholder characters"
   ]
  },
  {
   "cell_type": "code",
   "execution_count": 124,
   "metadata": {},
   "outputs": [
    {
     "name": "stdout",
     "output_type": "stream",
     "text": [
      "bandramumbai\n"
     ]
    }
   ],
   "source": [
    "# Example usage:\n",
    "encrypted_input = \"bmaunmdbraai\"\n",
    "decrypted_output = decrypt_message(encrypted_input)\n",
    "print(decrypted_output)"
   ]
  },
  {
   "cell_type": "code",
   "execution_count": 118,
   "metadata": {},
   "outputs": [
    {
     "name": "stdout",
     "output_type": "stream",
     "text": [
      "bandra mumbai\n"
     ]
    }
   ],
   "source": [
    "input_str = \"bmaunmdbraai\"\n",
    "word1, word2 = [], []\n",
    "for i in range(len(input_str)):\n",
    "    # Alternate adding characters to each word\n",
    "    if i % 2 == 0:\n",
    "        word1.append(input_str[i])\n",
    "    else:\n",
    "        word2.append(input_str[i])\n",
    "message1 = ''.join(word1)\n",
    "message2 = ''.join(word2)\n",
    "\n",
    "print(message1,message2)"
   ]
  },
  {
   "cell_type": "code",
   "execution_count": 121,
   "metadata": {},
   "outputs": [],
   "source": [
    "def decrypt_jumbled_message(encrypted_message):\n",
    "    # Determine the lengths of the two original parts\n",
    "    # Assuming the second part (word) could be longer if the total length is odd\n",
    "    length = len(encrypted_message)\n",
    "    length1 = length // 2  # First part is surely at least this long\n",
    "    length2 = length - length1  # Second part takes remainder, could be equal or more by 1\n",
    "\n",
    "    # To handle decryption correctly:\n",
    "    word1 = []\n",
    "    word2 = []\n",
    "\n",
    "    # Re-split the message based on the interleaved structure\n",
    "    for i in range(length2):\n",
    "        word1.append(encrypted_message[2 * i])          # Every even index character\n",
    "        word2.append(encrypted_message[2 * i + 1])      # Every odd index character\n",
    "    \n",
    "    # Check if word1 needs one more character (for odd total lengths where word1 is shorter by one)\n",
    "    if length1 > length2:\n",
    "        word1.append(encrypted_message[-1])             # Take the last character for word1\n",
    "\n",
    "    # Join characters to form the original words\n",
    "    return ''.join(word1) + ''.join(word2)\n"
   ]
  },
  {
   "cell_type": "code",
   "execution_count": 122,
   "metadata": {},
   "outputs": [
    {
     "name": "stdout",
     "output_type": "stream",
     "text": [
      "bandramumbai\n"
     ]
    }
   ],
   "source": [
    "\n",
    "# Example usage:\n",
    "encrypted_input = \"bmaunmdbraai\"\n",
    "decrypted_output = decrypt_jumbled_message(encrypted_input)\n",
    "print(decrypted_output)"
   ]
  },
  {
   "cell_type": "code",
   "execution_count": 104,
   "metadata": {},
   "outputs": [
    {
     "name": "stdout",
     "output_type": "stream",
     "text": [
      "mohammad\n",
      "tanvir\n"
     ]
    }
   ],
   "source": [
    "full_name = \"    Mohammad Tanvir   \"\n",
    "full_name = full_name.strip().lower()\n",
    "first_name, last_name = full_name.split(\" \")"
   ]
  },
  {
   "cell_type": "code",
   "execution_count": 106,
   "metadata": {},
   "outputs": [
    {
     "name": "stdout",
     "output_type": "stream",
     "text": [
      "02\n"
     ]
    }
   ],
   "source": [
    "dob = \"01-02-1992\"\n",
    "month = dob[3:5]\n",
    "print(month)\n",
    "age = 32"
   ]
  },
  {
   "cell_type": "code",
   "execution_count": 97,
   "metadata": {},
   "outputs": [
    {
     "name": "stdout",
     "output_type": "stream",
     "text": [
      "____Mohammad_Tanvir___199232\n"
     ]
    }
   ],
   "source": [
    "\n",
    "\n",
    "user_id = name.replace(\" \", \"_\")+str(yob)+str(age)\n",
    "print(user_id)"
   ]
  },
  {
   "cell_type": "code",
   "execution_count": 98,
   "metadata": {},
   "outputs": [
    {
     "ename": "IndexError",
     "evalue": "string index out of range",
     "output_type": "error",
     "traceback": [
      "\u001b[1;31m---------------------------------------------------------------------------\u001b[0m",
      "\u001b[1;31mIndexError\u001b[0m                                Traceback (most recent call last)",
      "Cell \u001b[1;32mIn[98], line 1\u001b[0m\n\u001b[1;32m----> 1\u001b[0m user_id \u001b[38;5;241m=\u001b[39m name\u001b[38;5;241m.\u001b[39msplit(\u001b[38;5;124m\"\u001b[39m\u001b[38;5;124m \u001b[39m\u001b[38;5;124m\"\u001b[39m)[\u001b[38;5;241m0\u001b[39m][\u001b[38;5;241m0\u001b[39m]\u001b[38;5;241m+\u001b[39mname\u001b[38;5;241m.\u001b[39msplit(\u001b[38;5;124m\"\u001b[39m\u001b[38;5;124m \u001b[39m\u001b[38;5;124m\"\u001b[39m)[\u001b[38;5;241m1\u001b[39m][\u001b[38;5;241m0\u001b[39m]\u001b[38;5;241m+\u001b[39m\u001b[38;5;28mstr\u001b[39m(yob)\u001b[38;5;241m+\u001b[39m\u001b[38;5;28mstr\u001b[39m(age)\n\u001b[0;32m      2\u001b[0m \u001b[38;5;28mprint\u001b[39m(user_id)\n",
      "\u001b[1;31mIndexError\u001b[0m: string index out of range"
     ]
    }
   ],
   "source": [
    "user_id = name.split(\" \")[0][0]+name.split(\" \")[1][0]+str(yob)+str(age)\n",
    "print(user_id)"
   ]
  },
  {
   "cell_type": "code",
   "execution_count": 3,
   "metadata": {},
   "outputs": [],
   "source": [
    "inp=input()3aa"
   ]
  },
  {
   "cell_type": "code",
   "execution_count": null,
   "metadata": {},
   "outputs": [],
   "source": []
  },
  {
   "cell_type": "code",
   "execution_count": 3,
   "metadata": {},
   "outputs": [
    {
     "name": "stdout",
     "output_type": "stream",
     "text": [
      "Alphabet\n"
     ]
    }
   ],
   "source": [
    "inp=input()\n",
    "\n",
    "if inp.isdigit():\n",
    "    print(\"Integer\")\n",
    "elif inp.isalpha():\n",
    "    print('Alphabet')"
   ]
  },
  {
   "cell_type": "code",
   "execution_count": 7,
   "metadata": {},
   "outputs": [
    {
     "name": "stdout",
     "output_type": "stream",
     "text": [
      "A\n",
      "C\n"
     ]
    }
   ],
   "source": [
    "inp=input()\n",
    "\n",
    "ascii_value = ord(inp)\n",
    "print(chr(ascii_value - 1))\n",
    "print(chr(ascii_value + 1))"
   ]
  },
  {
   "cell_type": "code",
   "execution_count": 10,
   "metadata": {},
   "outputs": [
    {
     "name": "stdout",
     "output_type": "stream",
     "text": [
      "sdT\n"
     ]
    }
   ],
   "source": [
    "# Take input\n",
    "s=input()\n",
    "\n",
    "# Write your code here\n",
    "vowels = 'aeiouAEIOU'\n",
    "result = ''\n",
    "for char in s:\n",
    "    if char not in vowels:\n",
    "        result += char\n",
    "\n",
    "#Print the result\n",
    "print(result)\n"
   ]
  },
  {
   "cell_type": "code",
   "execution_count": 19,
   "metadata": {},
   "outputs": [
    {
     "name": "stdout",
     "output_type": "stream",
     "text": [
      "Invalid\n"
     ]
    }
   ],
   "source": [
    "a,b,c= input().split()\n",
    "a = int(a)\n",
    "b = int(b)\n",
    "c = int(c)\n",
    "if (a + b > c) and (b + c > a) and (a + c > b):\n",
    "     print(\"Valid\")\n",
    "else:\n",
    "    print(\"Invalid\")"
   ]
  },
  {
   "cell_type": "code",
   "execution_count": 25,
   "metadata": {},
   "outputs": [
    {
     "name": "stdout",
     "output_type": "stream",
     "text": [
      "9 * 1 = 9\n",
      "9 * 2 = 18\n",
      "9 * 3 = 27\n",
      "9 * 4 = 36\n",
      "9 * 5 = 45\n",
      "9 * 6 = 54\n",
      "9 * 7 = 63\n",
      "9 * 8 = 72\n",
      "9 * 9 = 81\n",
      "9 * 10 = 90\n"
     ]
    }
   ],
   "source": [
    "n=int(input())\n",
    "for i in range(1, 11):\n",
    "    # Calculate the product for the current multiplier\n",
    "    product = n * i\n",
    "    # Print the multiplication table entry\n",
    "    print(f\"{n} * {i} = {product}\")"
   ]
  },
  {
   "cell_type": "code",
   "execution_count": 26,
   "metadata": {},
   "outputs": [
    {
     "name": "stdout",
     "output_type": "stream",
     "text": [
      "2\n"
     ]
    }
   ],
   "source": [
    "# Take input\n",
    "input_string=input()\n",
    "input_char=input()\n",
    "\n",
    "#write your code here\n",
    "input_string = input_string.lower()\n",
    "input_char = input_char.lower()\n",
    "\n",
    "char_to_count = input_string.count(input_char)\n",
    "print(char_to_count)\n",
    "\n"
   ]
  },
  {
   "cell_type": "code",
   "execution_count": null,
   "metadata": {},
   "outputs": [],
   "source": []
  }
 ],
 "metadata": {
  "kernelspec": {
   "display_name": "Python 3",
   "language": "python",
   "name": "python3"
  },
  "language_info": {
   "codemirror_mode": {
    "name": "ipython",
    "version": 3
   },
   "file_extension": ".py",
   "mimetype": "text/x-python",
   "name": "python",
   "nbconvert_exporter": "python",
   "pygments_lexer": "ipython3",
   "version": "3.12.5"
  }
 },
 "nbformat": 4,
 "nbformat_minor": 2
}
