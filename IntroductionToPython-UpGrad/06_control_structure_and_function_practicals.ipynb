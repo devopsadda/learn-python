{
 "cells": [
  {
   "cell_type": "markdown",
   "metadata": {},
   "source": [
    "    "
   ]
  },
  {
   "cell_type": "code",
   "execution_count": null,
   "metadata": {},
   "outputs": [],
   "source": [
    "X = 12\n",
    "\n",
    "if (X > 10 & X < 15):\n",
    "print('YES')\n",
    "else:\n",
    "print('No')"
   ]
  },
  {
   "cell_type": "code",
   "execution_count": null,
   "metadata": {},
   "outputs": [],
   "source": [
    "a=10\n",
    "b=16\n",
    "c=20\n",
    "\n",
    "if( a > b and a > c ):\n",
    "    print(\"a\")\n",
    "elif( b > a and b > c):\n",
    "    print(\"b\")\n",
    "else:\n",
    "     print(\"c\")"
   ]
  },
  {
   "cell_type": "code",
   "execution_count": null,
   "metadata": {},
   "outputs": [],
   "source": [
    "if True or True:\n",
    "    if False and True or False:\n",
    "        print('A')\n",
    "    elif False and False or True and True:\n",
    "        print('B')\n",
    "    else:\n",
    "        print('C')\n",
    "else:\n",
    "    print('D')"
   ]
  },
  {
   "cell_type": "code",
   "execution_count": null,
   "metadata": {},
   "outputs": [],
   "source": [
    "score = \n",
    "if score >= 90:\n",
    "   print('A')\n",
    "elif score >=80:\n",
    "   print('B')\n",
    "elif score >= 70:\n",
    "   print('C')\n",
    "elif score >= 60:\n",
    "   print('D')\n",
    "else:\n",
    "   print('F')"
   ]
  },
  {
   "cell_type": "code",
   "execution_count": null,
   "metadata": {},
   "outputs": [],
   "source": [
    "if (10 < 0) and (0 < -10):\n",
    "    print(\"A\")\n",
    "elif (10 > 0) or False:\n",
    "    print(\"B\")\n",
    "else:\n",
    "    print(\"C\")"
   ]
  },
  {
   "cell_type": "code",
   "execution_count": null,
   "metadata": {},
   "outputs": [],
   "source": [
    "vowel = ['a', 'A', 'e', 'E', 'i', 'I', 'o', 'O', 'u', 'U']\n",
    "input_str = 'analytics'\n",
    "if input_str[0] in vowel:\n",
    "    print('YES')\n",
    "else:\n",
    "    print('NO')"
   ]
  },
  {
   "cell_type": "code",
   "execution_count": null,
   "metadata": {},
   "outputs": [],
   "source": [
    "L1 = [10, 20, 30, 24, 18]\n",
    "L2 = [8, 14, 15, 20, 10]\n",
    "L3=[]\n",
    "for  i in range(len(L2)):\n",
    "    L3.append(L2[i] -L1[i])\n",
    "L3"
   ]
  },
  {
   "cell_type": "code",
   "execution_count": null,
   "metadata": {},
   "outputs": [],
   "source": [
    "list(range(-100, -1, 2))"
   ]
  },
  {
   "cell_type": "code",
   "execution_count": null,
   "metadata": {},
   "outputs": [],
   "source": [
    "sorted(set(range(-2, -101, -2)))"
   ]
  },
  {
   "cell_type": "code",
   "execution_count": null,
   "metadata": {},
   "outputs": [],
   "source": [
    "l = []\n",
    "for i in range(-100, 0):\n",
    "    if(i % 2 == 0):\n",
    "        l.append(i)\n",
    "l"
   ]
  },
  {
   "cell_type": "code",
   "execution_count": null,
   "metadata": {},
   "outputs": [],
   "source": [
    "l = []\n",
    "for i in range(-10, 0):\n",
    "    if(i % 2 == 0):\n",
    "        l.append(i)\n",
    "l"
   ]
  },
  {
   "cell_type": "code",
   "execution_count": null,
   "metadata": {},
   "outputs": [],
   "source": [
    "print(list(range(0, -101, 2)))"
   ]
  },
  {
   "cell_type": "code",
   "execution_count": null,
   "metadata": {},
   "outputs": [],
   "source": [
    "list(range(-10, -1, 2))"
   ]
  },
  {
   "cell_type": "code",
   "execution_count": null,
   "metadata": {},
   "outputs": [],
   "source": [
    "sorted(set(range(-2, -11, -2)))"
   ]
  },
  {
   "cell_type": "code",
   "execution_count": null,
   "metadata": {},
   "outputs": [],
   "source": [
    "l = []\n",
    "for i in range(-100, 0):\n",
    "    if(i % 2 == 0):\n",
    "        l.append(i)\n",
    "l"
   ]
  },
  {
   "cell_type": "code",
   "execution_count": null,
   "metadata": {},
   "outputs": [],
   "source": [
    "d = {0: 'Fish', 1: 'Bird', 2: 'Mammal'}\n",
    "for i in d:\n",
    "    print(i)"
   ]
  },
  {
   "cell_type": "code",
   "execution_count": null,
   "metadata": {},
   "outputs": [],
   "source": [
    "## Loops and Iterations\n",
    "\n",
    "pin = input(\"Enter your four digit pin: \")\n",
    "while pin != '1234':\n",
    "    pin = input(\"Invalid input, please try again: \")\n",
    "\n",
    "print(\"Pin Validation successfull.\")"
   ]
  },
  {
   "cell_type": "code",
   "execution_count": null,
   "metadata": {},
   "outputs": [],
   "source": [
    "# You are given an integer 'n' as the input. Create a list comprehension containing \n",
    "# the squares of the integers from 1 till n^2 (including 1 and n), and print the list.\n",
    " \n",
    "n = 4\n",
    "l1 = [i*i for i in range(1, n+1)]\n",
    "l1"
   ]
  },
  {
   "cell_type": "code",
   "execution_count": null,
   "metadata": {},
   "outputs": [],
   "source": [
    "# Extract the words that start with a vowel from a list \n",
    "# input_list=[wood, old, apple, big, item, euphoria] using list comprehensions.\n",
    "# ['old', 'apple', 'item', 'euphoria']\n",
    "input_list=[\"wood\", \"old\", \"apple\", \"big\", \"item\", \"euphoria\"]\n",
    "list_vowel = [ word for word in input_list if word[0] in 'aeiou']\n",
    "list_vowel\n",
    "\n",
    "\n"
   ]
  },
  {
   "cell_type": "code",
   "execution_count": null,
   "metadata": {},
   "outputs": [],
   "source": [
    "input_list = list(range(1,100))\n",
    "output_dict = {}\n",
    "\n",
    "for val in input_list:\n",
    "    if val % 3 == 0:\n",
    "        output_dict[val] = val**3\n",
    "\n",
    "output_dict"
   ]
  },
  {
   "cell_type": "code",
   "execution_count": 16,
   "metadata": {},
   "outputs": [
    {
     "name": "stdout",
     "output_type": "stream",
     "text": [
      "{3: 27, 6: 216, 9: 729, 12: 1728, 15: 3375, 18: 5832, 21: 9261, 24: 13824, 27: 19683, 30: 27000, 33: 35937, 36: 46656, 39: 59319, 42: 74088, 45: 91125, 48: 110592, 51: 132651, 54: 157464, 57: 185193, 60: 216000, 63: 250047, 66: 287496, 69: 328509, 72: 373248, 75: 421875, 78: 474552, 81: 531441, 84: 592704, 87: 658503, 90: 729000, 93: 804357, 96: 884736, 99: 970299}\n"
     ]
    }
   ],
   "source": [
    "output_dict= {val : val**3 for val in input_list if val % 3 == 0}\n",
    "print(output_dict)"
   ]
  },
  {
   "cell_type": "code",
   "execution_count": 17,
   "metadata": {},
   "outputs": [
    {
     "name": "stdout",
     "output_type": "stream",
     "text": [
      "['ad', 'ae', 'af', 'bd', 'be', 'bf', 'cd', 'ce', 'cf']\n"
     ]
    }
   ],
   "source": [
    "print([i+j for i in \"abc\" for j in \"def\"])"
   ]
  },
  {
   "cell_type": "code",
   "execution_count": 18,
   "metadata": {},
   "outputs": [
    {
     "name": "stdout",
     "output_type": "stream",
     "text": [
      "{'A': 'aaa', 'C': 'ccc', 'B': 'bbb', 'D': 'ddd'}\n"
     ]
    }
   ],
   "source": [
    "d = {x.upper(): x*3 for x in 'acbd'}\n",
    "print(d)"
   ]
  },
  {
   "cell_type": "code",
   "execution_count": null,
   "metadata": {},
   "outputs": [
    {
     "ename": "SyntaxError",
     "evalue": "invalid syntax (4028594764.py, line 8)",
     "output_type": "error",
     "traceback": [
      "\u001b[1;36m  Cell \u001b[1;32mIn[3], line 8\u001b[1;36m\u001b[0m\n\u001b[1;33m    count = len(list(map(lambda x : if x[0] == 'S', input_list)))\u001b[0m\n\u001b[1;37m                                    ^\u001b[0m\n\u001b[1;31mSyntaxError\u001b[0m\u001b[1;31m:\u001b[0m invalid syntax\n"
     ]
    }
   ],
   "source": [
    "# Using the function Map, count the number of words that start with ‘S’ in input_list.\n",
    "# Sample Input:\n",
    "# ['Santa Cruz','Santa fe','Mumbai','Delhi']\n",
    "# Sample Output:\n",
    "# 2\n",
    "\n"
   ]
  },
  {
   "cell_type": "code",
   "execution_count": null,
   "metadata": {},
   "outputs": [],
   "source": []
  },
  {
   "cell_type": "code",
   "execution_count": 4,
   "metadata": {},
   "outputs": [
    {
     "name": "stdout",
     "output_type": "stream",
     "text": [
      "[('I', 1), ('LOVE', 4), ('PYTHON', 6)]\n"
     ]
    }
   ],
   "source": [
    "input_string = \"I love Python\"\n",
    "k = [(i.upper(), len(i)) for i in input_string.split(' ')]\n",
    "print(k)"
   ]
  },
  {
   "cell_type": "code",
   "execution_count": 5,
   "metadata": {},
   "outputs": [
    {
     "name": "stdout",
     "output_type": "stream",
     "text": [
      "[0, 1, 4, 9, 16]\n"
     ]
    }
   ],
   "source": [
    "var = [i**2 for i in range(5)]\n",
    "print(var)"
   ]
  },
  {
   "cell_type": "code",
   "execution_count": 6,
   "metadata": {},
   "outputs": [
    {
     "data": {
      "text/plain": [
       "[5, 6, 7, 10, 6, 7, 8, 11, 7, 8, 9, 12, 11, 12, 13, 16]"
      ]
     },
     "execution_count": 6,
     "metadata": {},
     "output_type": "execute_result"
    }
   ],
   "source": [
    "l1=[1,2,3,7]\n",
    "l2=[4,5,6,9]\n",
    "[x+y for x in l1 for y in l2]"
   ]
  },
  {
   "cell_type": "code",
   "execution_count": 7,
   "metadata": {},
   "outputs": [
    {
     "name": "stdout",
     "output_type": "stream",
     "text": [
      "None\n"
     ]
    }
   ],
   "source": [
    "def function(n):\n",
    "  n=n+1\n",
    " \n",
    "n=2\n",
    "print(function(2))"
   ]
  },
  {
   "cell_type": "code",
   "execution_count": 8,
   "metadata": {},
   "outputs": [
    {
     "name": "stdout",
     "output_type": "stream",
     "text": [
      "10\n",
      "10\n"
     ]
    }
   ],
   "source": [
    "x=10\n",
    "def func(x):\n",
    "   x=20\n",
    "print(x)\n",
    " \n",
    "print(x)"
   ]
  },
  {
   "cell_type": "code",
   "execution_count": 9,
   "metadata": {},
   "outputs": [
    {
     "name": "stdout",
     "output_type": "stream",
     "text": [
      "0\n"
     ]
    }
   ],
   "source": [
    "f=lambda x:bool(x%2)\n",
    "print(f(100)* f(101))"
   ]
  },
  {
   "cell_type": "code",
   "execution_count": 10,
   "metadata": {},
   "outputs": [
    {
     "name": "stdout",
     "output_type": "stream",
     "text": [
      "[0, -1, -2, 2, 2]\n"
     ]
    }
   ],
   "source": [
    "l=(1, -2, -3, 4, 5)\n",
    "def f1(x):\n",
    "    return x//2\n",
    "m1=map(f1, l)\n",
    "print(list(m1))"
   ]
  },
  {
   "cell_type": "code",
   "execution_count": 11,
   "metadata": {},
   "outputs": [
    {
     "name": "stdout",
     "output_type": "stream",
     "text": [
      "0\n"
     ]
    }
   ],
   "source": [
    "from functools import reduce\n",
    "numbers = [-1, 2, -5, 3, 8,-2, 1,-4,-2]\n",
    "sum = reduce(lambda x, y: x + y, numbers)\n",
    "print(sum)"
   ]
  },
  {
   "cell_type": "code",
   "execution_count": 12,
   "metadata": {},
   "outputs": [
    {
     "name": "stdout",
     "output_type": "stream",
     "text": [
      "<map object at 0x000002730A91DE10>\n"
     ]
    }
   ],
   "source": [
    "sample=[-4,2,5,-3]\n",
    "ans=map(lambda x: x*2, sample)\n",
    "print(ans)"
   ]
  },
  {
   "cell_type": "code",
   "execution_count": 13,
   "metadata": {},
   "outputs": [
    {
     "ename": "TypeError",
     "evalue": "'int' object is not iterable",
     "output_type": "error",
     "traceback": [
      "\u001b[1;31m---------------------------------------------------------------------------\u001b[0m",
      "\u001b[1;31mTypeError\u001b[0m                                 Traceback (most recent call last)",
      "Cell \u001b[1;32mIn[13], line 2\u001b[0m\n\u001b[0;32m      1\u001b[0m \u001b[38;5;28;01mfrom\u001b[39;00m \u001b[38;5;21;01mfunctools\u001b[39;00m \u001b[38;5;28;01mimport\u001b[39;00m reduce\n\u001b[1;32m----> 2\u001b[0m \u001b[38;5;28mprint\u001b[39m(\u001b[38;5;28mlist\u001b[39m(reduce(\u001b[38;5;28;01mlambda\u001b[39;00m x,y:x\u001b[38;5;241m+\u001b[39my,\u001b[38;5;28mrange\u001b[39m(\u001b[38;5;241m5\u001b[39m,\u001b[38;5;241m15\u001b[39m))))\n",
      "\u001b[1;31mTypeError\u001b[0m: 'int' object is not iterable"
     ]
    }
   ],
   "source": [
    "from functools import reduce\n",
    "print(list(reduce(lambda x,y:x+y,range(5,15))))"
   ]
  },
  {
   "cell_type": "code",
   "execution_count": 14,
   "metadata": {},
   "outputs": [
    {
     "name": "stdout",
     "output_type": "stream",
     "text": [
      "1\n"
     ]
    }
   ],
   "source": [
    "import functools\n",
    "lis=[1, 2, 3, 4, 5]\n",
    "m=functools.reduce(lambda x, y:x if x<y else y, lis)\n",
    "print(m)"
   ]
  },
  {
   "cell_type": "code",
   "execution_count": 15,
   "metadata": {},
   "outputs": [
    {
     "name": "stdout",
     "output_type": "stream",
     "text": [
      "1\n"
     ]
    }
   ],
   "source": [
    "lis=[1, 2, 3, 4, 5]\n",
    "c=lis[0]\n",
    "for i in range(len(lis)-1):\n",
    "    if lis[i]<c:\n",
    "       c=lis[i]\n",
    "print(c)"
   ]
  },
  {
   "cell_type": "code",
   "execution_count": 16,
   "metadata": {},
   "outputs": [
    {
     "name": "stdout",
     "output_type": "stream",
     "text": [
      "[12, 20, 28]\n"
     ]
    }
   ],
   "source": [
    "def sf(a):\n",
    "    return a%4==0 and a%8!=0\n",
    "m=filter(sf, range(10, 31))\n",
    "print(list(m))"
   ]
  },
  {
   "cell_type": "markdown",
   "metadata": {},
   "source": []
  }
 ],
 "metadata": {
  "kernelspec": {
   "display_name": "venv",
   "language": "python",
   "name": "python3"
  },
  "language_info": {
   "codemirror_mode": {
    "name": "ipython",
    "version": 3
   },
   "file_extension": ".py",
   "mimetype": "text/x-python",
   "name": "python",
   "nbconvert_exporter": "python",
   "pygments_lexer": "ipython3",
   "version": "3.12.5"
  }
 },
 "nbformat": 4,
 "nbformat_minor": 2
}
