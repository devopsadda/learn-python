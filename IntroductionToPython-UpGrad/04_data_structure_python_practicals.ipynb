{
 "cells": [
  {
   "cell_type": "code",
   "execution_count": 31,
   "metadata": {},
   "outputs": [
    {
     "name": "stdout",
     "output_type": "stream",
     "text": [
      "['SAS', 'R', 'PYTHON']\n",
      "['SAS', 'R', 'PYTHON', 'SPARK']\n"
     ]
    }
   ],
   "source": [
    "# Remove SPSS from input_list=['SAS', 'R', 'PYTHON', 'SPSS'] and add 'SPARK' in its place.\n",
    "input_list=['SAS', 'R', 'PYTHON', 'SPSS']\n",
    "input_list.remove('SPSS')\n",
    "print(input_list)\n",
    "input_list.append('SPARK')\n",
    "print(input_list)"
   ]
  },
  {
   "cell_type": "code",
   "execution_count": 32,
   "metadata": {},
   "outputs": [
    {
     "name": "stdout",
     "output_type": "stream",
     "text": [
      "Pythons syntax is easy to learn & Pythons syntax is very clear\n"
     ]
    }
   ],
   "source": [
    "# Convert a list ['Pythons syntax is easy to learn', 'Pythons syntax is very clear'] \n",
    "# to a string using ‘&’. \n",
    "# The sample output of this string will be:\n",
    "\n",
    "input_str = ['Pythons syntax is easy to learn', 'Pythons syntax is very clear']\n",
    "string_1 = input_str[0] + ' & ' + input_str[1]\n",
    "print(string_1)"
   ]
  },
  {
   "cell_type": "code",
   "execution_count": 38,
   "metadata": {},
   "outputs": [
    {
     "name": "stdout",
     "output_type": "stream",
     "text": [
      "Kumar\n",
      "Ravi\n",
      "003\n"
     ]
    }
   ],
   "source": [
    "# Split the string input_str = 'Kumar_Ravi_003' to the person's second name, \n",
    "# first name and unique customer code. In this example, second_name= 'Kumar', first_name= 'Ravi', \n",
    "# customer_code = '003'.\n",
    "\n",
    "input_str = 'Kumar_Ravi_003'\n",
    "print(input_str.split('_')[0])\n",
    "print(input_str.split('_')[1])\n",
    "print(input_str.split('_')[2])"
   ]
  },
  {
   "cell_type": "code",
   "execution_count": 37,
   "metadata": {},
   "outputs": [
    {
     "name": "stdout",
     "output_type": "stream",
     "text": [
      "('Monty Python', 'British', 1969, 'Python')\n"
     ]
    }
   ],
   "source": [
    "# Add the element ‘Python’ to a tuple input_tuple = ('Monty Python', 'British', 1969). \n",
    "# Since tuples are immutable, one way to do this is to convert the tuple to a list, add the element, \n",
    "# and convert it back to a tuple.\n",
    "\n",
    "input_tuple = ('Monty Python', 'British', 1969)\n",
    "tuple_2 = input_tuple[0:] + (\"Python\",)\n",
    "print(tuple_2)"
   ]
  },
  {
   "cell_type": "code",
   "execution_count": 39,
   "metadata": {},
   "outputs": [
    {
     "name": "stdout",
     "output_type": "stream",
     "text": [
      "[1, 3, 5, 7]\n"
     ]
    }
   ],
   "source": [
    "## Let’s say you have two lists A and B. Identify the elements which are common in the \n",
    "# two lists A and B and return them in a sorted manner. For example \n",
    "\n",
    "input_list = [[5, 1, 3, 4, 4, 5, 6, 7],[3, 3, 5, 5, 1 ,7 ,2]]\n",
    "list_1 = input_list[0]\n",
    "list_2 = input_list[1]\n",
    "\n",
    "#Type your answer here\n",
    "set_a = set(list_1)\n",
    "set_b = set(list_2)\n",
    "common_elements = set_a.intersection(set_b)\n",
    "common_sorted = sorted(list(common_elements))\n",
    "answer = common_sorted\n",
    "print(answer)"
   ]
  },
  {
   "cell_type": "code",
   "execution_count": 1,
   "metadata": {},
   "outputs": [
    {
     "ename": "TypeError",
     "evalue": "'str' object cannot be interpreted as an integer",
     "output_type": "error",
     "traceback": [
      "\u001b[1;31m---------------------------------------------------------------------------\u001b[0m",
      "\u001b[1;31mTypeError\u001b[0m                                 Traceback (most recent call last)",
      "Cell \u001b[1;32mIn[1], line 2\u001b[0m\n\u001b[0;32m      1\u001b[0m s \u001b[38;5;241m=\u001b[39m \u001b[38;5;124m'\u001b[39m\u001b[38;5;124ma$b@c@d\u001b[39m\u001b[38;5;124m'\u001b[39m\n\u001b[1;32m----> 2\u001b[0m \u001b[38;5;28mprint\u001b[39m(s\u001b[38;5;241m.\u001b[39msplit(\u001b[38;5;124m'\u001b[39m\u001b[38;5;124m@\u001b[39m\u001b[38;5;124m'\u001b[39m,\u001b[38;5;124m'\u001b[39m\u001b[38;5;124m$\u001b[39m\u001b[38;5;124m'\u001b[39m))\n",
      "\u001b[1;31mTypeError\u001b[0m: 'str' object cannot be interpreted as an integer"
     ]
    }
   ],
   "source": [
    "s = 'a$b@c@d'\n",
    "print(s.split('@','$'))"
   ]
  },
  {
   "cell_type": "code",
   "execution_count": 2,
   "metadata": {},
   "outputs": [
    {
     "name": "stdout",
     "output_type": "stream",
     "text": [
      "None\n"
     ]
    }
   ],
   "source": [
    "list_1 = ['red' , 'orange', 'blue', 'green', 'black', 'white']\n",
    "print(list_1.sort())"
   ]
  },
  {
   "cell_type": "code",
   "execution_count": 3,
   "metadata": {},
   "outputs": [
    {
     "name": "stdout",
     "output_type": "stream",
     "text": [
      "[2, 4, 7, 9]\n",
      "[9, 4, 2, 7]\n",
      "None\n",
      "[1, 3, 6, 8]\n"
     ]
    }
   ],
   "source": [
    "num_1=[9,4,2,7]\n",
    "num_2=[8,3,6,1]\n",
    "print(sorted(num_1))\n",
    "print(num_1)\n",
    "print(num_2.sort())\n",
    "print(num_2)"
   ]
  },
  {
   "cell_type": "code",
   "execution_count": 4,
   "metadata": {},
   "outputs": [
    {
     "name": "stdout",
     "output_type": "stream",
     "text": [
      "('paris', 'india', 'china', 'london', 'sri lanka')\n"
     ]
    }
   ],
   "source": [
    "l = ['paris','india','china','london']\n",
    "print(tuple(l+['sri lanka']))"
   ]
  },
  {
   "cell_type": "code",
   "execution_count": 5,
   "metadata": {},
   "outputs": [
    {
     "name": "stdout",
     "output_type": "stream",
     "text": [
      "('paris', 'india', 'china', 'london', 'sri lanka')\n"
     ]
    }
   ],
   "source": [
    "l = ['paris','india','china','london']\n",
    "print(tuple(l+['sri lanka']))"
   ]
  },
  {
   "cell_type": "code",
   "execution_count": 6,
   "metadata": {},
   "outputs": [
    {
     "name": "stdout",
     "output_type": "stream",
     "text": [
      "('paris', 'india', 'china', 'london', 'sri lanka')\n"
     ]
    }
   ],
   "source": [
    "l = ['paris','india','china','london']\n",
    "print(tuple(l+['sri lanka']))"
   ]
  },
  {
   "cell_type": "code",
   "execution_count": 7,
   "metadata": {},
   "outputs": [
    {
     "name": "stdout",
     "output_type": "stream",
     "text": [
      "<class 'int'>\n"
     ]
    }
   ],
   "source": [
    "var=(5)\n",
    "print(type(var))"
   ]
  },
  {
   "cell_type": "code",
   "execution_count": 8,
   "metadata": {},
   "outputs": [
    {
     "name": "stdout",
     "output_type": "stream",
     "text": [
      "([1, 3, 7], 'abcd', (2, 4), 6)\n"
     ]
    }
   ],
   "source": [
    "tup=([1,3,5],\"abcd\",(2,4),6)\n",
    "tup[0][2]=7\n",
    "print(tup)"
   ]
  },
  {
   "cell_type": "code",
   "execution_count": 9,
   "metadata": {},
   "outputs": [
    {
     "name": "stdout",
     "output_type": "stream",
     "text": [
      "{1, 2, 4}\n"
     ]
    }
   ],
   "source": [
    "a= {1,2,4,5}\n",
    "b= {5,6,7,8}\n",
    "print(a-b)"
   ]
  },
  {
   "cell_type": "code",
   "execution_count": 10,
   "metadata": {},
   "outputs": [
    {
     "ename": "TypeError",
     "evalue": "unsupported operand type(s) for *: 'set' and 'int'",
     "output_type": "error",
     "traceback": [
      "\u001b[1;31m---------------------------------------------------------------------------\u001b[0m",
      "\u001b[1;31mTypeError\u001b[0m                                 Traceback (most recent call last)",
      "Cell \u001b[1;32mIn[10], line 2\u001b[0m\n\u001b[0;32m      1\u001b[0m s\u001b[38;5;241m=\u001b[39m {\u001b[38;5;241m3\u001b[39m,\u001b[38;5;241m4\u001b[39m,\u001b[38;5;241m5\u001b[39m}\n\u001b[1;32m----> 2\u001b[0m s\u001b[38;5;241m*\u001b[39m\u001b[38;5;241m2\u001b[39m\n",
      "\u001b[1;31mTypeError\u001b[0m: unsupported operand type(s) for *: 'set' and 'int'"
     ]
    }
   ],
   "source": [
    "s= {3,4,5}\n",
    "s*2"
   ]
  },
  {
   "cell_type": "code",
   "execution_count": 11,
   "metadata": {},
   "outputs": [
    {
     "name": "stdout",
     "output_type": "stream",
     "text": [
      "5\n"
     ]
    }
   ],
   "source": [
    "numbers= {1,0,6,1,4,0,7}\n",
    "print(len(numbers))"
   ]
  },
  {
   "cell_type": "code",
   "execution_count": 12,
   "metadata": {},
   "outputs": [
    {
     "ename": "KeyError",
     "evalue": "1",
     "output_type": "error",
     "traceback": [
      "\u001b[1;31m---------------------------------------------------------------------------\u001b[0m",
      "\u001b[1;31mKeyError\u001b[0m                                  Traceback (most recent call last)",
      "Cell \u001b[1;32mIn[12], line 2\u001b[0m\n\u001b[0;32m      1\u001b[0m \u001b[38;5;28mdict\u001b[39m\u001b[38;5;241m=\u001b[39m {\u001b[38;5;124m'\u001b[39m\u001b[38;5;124mab\u001b[39m\u001b[38;5;124m'\u001b[39m:\u001b[38;5;241m12\u001b[39m,\u001b[38;5;124m'\u001b[39m\u001b[38;5;124mcd\u001b[39m\u001b[38;5;124m'\u001b[39m:\u001b[38;5;241m34\u001b[39m,\u001b[38;5;124m'\u001b[39m\u001b[38;5;124mef\u001b[39m\u001b[38;5;124m'\u001b[39m:\u001b[38;5;241m56\u001b[39m}\n\u001b[1;32m----> 2\u001b[0m \u001b[38;5;28mprint\u001b[39m(\u001b[38;5;28mdict\u001b[39m[\u001b[38;5;241m1\u001b[39m])\n",
      "\u001b[1;31mKeyError\u001b[0m: 1"
     ]
    }
   ],
   "source": [
    "dict= {'ab':12,'cd':34,'ef':56}\n",
    "print(dict[1])"
   ]
  },
  {
   "cell_type": "code",
   "execution_count": 13,
   "metadata": {},
   "outputs": [
    {
     "name": "stdout",
     "output_type": "stream",
     "text": [
      "dict_keys(['John', 'Alex'])\n"
     ]
    }
   ],
   "source": [
    "marks= {'John':45,'Alex':60}\n",
    "print(marks.keys())"
   ]
  },
  {
   "cell_type": "code",
   "execution_count": 14,
   "metadata": {},
   "outputs": [
    {
     "data": {
      "text/plain": [
       "True"
      ]
     },
     "execution_count": 14,
     "metadata": {},
     "output_type": "execute_result"
    }
   ],
   "source": [
    "d = {\"Python\":40, \"R\":45}\n",
    "\"Python\" in d"
   ]
  },
  {
   "cell_type": "code",
   "execution_count": 15,
   "metadata": {},
   "outputs": [
    {
     "name": "stdout",
     "output_type": "stream",
     "text": [
      "1\n",
      "2\n",
      "3\n"
     ]
    }
   ],
   "source": [
    "input_dict= {1:\"one\",2:\"two\",3:\"three\"}\n",
    "for i in input_dict:\n",
    "  print(i)"
   ]
  },
  {
   "cell_type": "code",
   "execution_count": 16,
   "metadata": {},
   "outputs": [
    {
     "name": "stdout",
     "output_type": "stream",
     "text": [
      "8\n"
     ]
    }
   ],
   "source": [
    "input_str=\"I love programming in python\"\n",
    "count=0\n",
    "l=['a','e','i','o','u']\n",
    "for i in input_str.lower():\n",
    "  if i in l:\n",
    "  \tcount=count+1\n",
    "print(count)"
   ]
  },
  {
   "cell_type": "code",
   "execution_count": 19,
   "metadata": {},
   "outputs": [
    {
     "name": "stdout",
     "output_type": "stream",
     "text": [
      "223\n"
     ]
    }
   ],
   "source": [
    "'''\n",
    "List sum\n",
    "\n",
    "Description\n",
    "Suppose you want to know the total score of the Indian cricket team in a given match. \n",
    "To do so, your task is to find the sum of all the scores of the Indian team players. \n",
    "The scores are provided as a list, with each element as an individual score of the players. \n",
    "Also, there is a condition that if the number of elements in the list is more than 11, \n",
    "then it is an invalid input and the output should be -1.\n",
    "\n",
    "Input - List\n",
    "Output - An integer\n",
    "\n",
    "Sample Input : [11, 13, 101, 14, 33, 141]\n",
    "Sample Output : 313\n",
    "'''\n",
    "def total_score(scores):\n",
    "    # Check if the number of scores provided is more than allowed for a cricket team\n",
    "    if len(scores) > 11:\n",
    "        return -1  # Return -1 if the input list has more than 11 elements (invalid input scenario)\n",
    "    else:\n",
    "        # Calculate the total score by summing up the values in the list\n",
    "        return sum(scores)\n",
    "    \n",
    "# Get input from the user\n",
    "input_scores = input(\"Enter the scores in list format, like [11, 13, 101, 14, 33, 141]: \")\n",
    "\n",
    "# Remove the brackets and spaces, then split the string by commas\n",
    "scores_list = [int(score) for score in input_scores.strip('[] ').split(',')]\n",
    "\n",
    "# Calculate total score\n",
    "result = total_score(scores_list)\n",
    "print(result)\n"
   ]
  },
  {
   "cell_type": "code",
   "execution_count": null,
   "metadata": {},
   "outputs": [],
   "source": [
    "import ast\n",
    "\n",
    "def total_score(scores):\n",
    "    if len(scores) > 11:\n",
    "        return -1  # Invalid input if more than 11 scores\n",
    "    else:\n",
    "        return sum(scores)  # Calculate sum of scores\n",
    "\n",
    "# Prompt user for input\n",
    "input_scores = input(\"Enter the scores in list format, like [11, 13, 101, 14, 33, 141]: \")\n",
    "\n",
    "try:\n",
    "    # Convert the string input to a Python list using ast.literal_eval\n",
    "    scores_list = ast.literal_eval(input_scores)\n",
    "    \n",
    "    # Check if the result is indeed a list\n",
    "    if not isinstance(scores_list, list):\n",
    "        raise ValueError(\"Input is not a list\")\n",
    "    \n",
    "    # Ensure all items in the list are integers\n",
    "    if not all(isinstance(item, int) for item in scores_list):\n",
    "        raise ValueError(\"All items in the list must be integers\")\n",
    "\n",
    "    # Calculate total score\n",
    "    result = total_score(scores_list)\n",
    "    print(\"Total Score:\", result)\n",
    "except (SyntaxError, ValueError) as e:\n",
    "    print(f\"Invalid input: {e}\")"
   ]
  },
  {
   "cell_type": "code",
   "execution_count": null,
   "metadata": {},
   "outputs": [],
   "source": [
    "import ast,sys\n",
    "\n",
    "def total_score(scores):\n",
    "    # Check if the number of scores provided is more than allowed for a cricket team\n",
    "    if len(scores) > 11:\n",
    "        return -1  # Return -1 if the input list has more than 11 elements (invalid input scenario)\n",
    "    else:\n",
    "        # Calculate the total score by summing up the values in the list\n",
    "        return sum(scores)\n",
    "    \n",
    "# Get input from the user\n",
    "input_str = sys.stdin.read()\n",
    "input_scores = ast.literal_eval(input_str)\n",
    "\n",
    "# Calculate total score\n",
    "result = total_score(input_scores)\n",
    "print(result)"
   ]
  },
  {
   "cell_type": "code",
   "execution_count": null,
   "metadata": {},
   "outputs": [],
   "source": [
    "'''\n",
    "Given a list of strings, write a program to find the number of \n",
    "strings whose length is greater than or equal to K, \n",
    "where K is a positive integer.\n",
    "\n",
    "Input - List of strings and an integer\n",
    "Output - Integer\n",
    "\n",
    "Sample Input :\n",
    "\n",
    "[Datascience, Data Analyst, Programmer, Manager]\n",
    "8\n",
    "\n",
    "Sample Output : 3\n",
    "'''\n",
    "\n",
    "import ast\n",
    "\n",
    "#Take input here using ast sys\n",
    "input_list = ast.literal_eval(input())\n",
    "K = int(input())\n",
    "\n",
    "#start writing your code here\n",
    "def count_long_strings(strings, k):\n",
    "    # Use list comprehension to filter and count strings longer than or equal to k\n",
    "    return len([string for string in strings if len(string) >= k])\n",
    "\n",
    "result = count_long_strings(input_list, K)\n",
    "print(result)"
   ]
  },
  {
   "cell_type": "code",
   "execution_count": null,
   "metadata": {},
   "outputs": [],
   "source": [
    "'''\n",
    "Increment list elements\n",
    "Description\n",
    "Given a list of strings, increment the value of the numeric strings by 'k’. \n",
    "Hint: The function isdigit() may be useful here.\n",
    "\n",
    "Input - A list in the first line and an integer in the second line\n",
    "Output - A list\n",
    "\n",
    "Sample Input :\n",
    "['Python', '123', 'Data']\n",
    "4\n",
    "Sample Output : ['Python', '127', 'Data']\n",
    "'''\n",
    "\n",
    "#Input has been taken for you\n",
    "import ast\n",
    "input_list = ast.literal_eval(input())\n",
    "K = int(input())\n",
    "\n",
    "#write the code\n",
    "def increment_numeric_strings(strings, k):\n",
    "    # Initialize the result list\n",
    "    result = []\n",
    "    \n",
    "    # Iterate through each string in the input list\n",
    "    for s in strings:\n",
    "        # Check if the string is numeric\n"
   ]
  },
  {
   "cell_type": "code",
   "execution_count": null,
   "metadata": {},
   "outputs": [],
   "source": [
    "'''\n",
    "Slicing a list\n",
    "Description\n",
    "Given a list of strings and an integer K, write a python code to print all the elements from the K th position \n",
    "till the end of the list.\n",
    "\n",
    "Note: Assume that K (a positive integer) will always be less than or equal to the length of the list\n",
    "Input - A list of strings in the first line and an integer in the second line of the input.\n",
    "Output - A list\n",
    "'''\n"
   ]
  }
 ],
 "metadata": {
  "kernelspec": {
   "display_name": "Python 3",
   "language": "python",
   "name": "python3"
  },
  "language_info": {
   "codemirror_mode": {
    "name": "ipython",
    "version": 3
   },
   "file_extension": ".py",
   "mimetype": "text/x-python",
   "name": "python",
   "nbconvert_exporter": "python",
   "pygments_lexer": "ipython3",
   "version": "3.12.5"
  }
 },
 "nbformat": 4,
 "nbformat_minor": 2
}
