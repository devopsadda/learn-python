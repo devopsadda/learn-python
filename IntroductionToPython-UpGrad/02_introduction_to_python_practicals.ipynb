{
 "cells": [
  {
   "cell_type": "code",
   "execution_count": 7,
   "metadata": {},
   "outputs": [
    {
     "name": "stdout",
     "output_type": "stream",
     "text": [
      "A\n",
      "C\n"
     ]
    }
   ],
   "source": [
    "inp=input()\n",
    "\n",
    "ascii_value = ord(inp)\n",
    "print(chr(ascii_value - 1))\n",
    "print(chr(ascii_value + 1))"
   ]
  },
  {
   "cell_type": "code",
   "execution_count": 10,
   "metadata": {},
   "outputs": [
    {
     "name": "stdout",
     "output_type": "stream",
     "text": [
      "sdT\n"
     ]
    }
   ],
   "source": [
    "# Take input\n",
    "s=input()\n",
    "\n",
    "# Write your code here\n",
    "vowels = 'aeiouAEIOU'\n",
    "result = ''\n",
    "for char in s:\n",
    "    if char not in vowels:\n",
    "        result += char\n",
    "\n",
    "#Print the result\n",
    "print(result)\n"
   ]
  },
  {
   "cell_type": "code",
   "execution_count": 19,
   "metadata": {},
   "outputs": [
    {
     "name": "stdout",
     "output_type": "stream",
     "text": [
      "Invalid\n"
     ]
    }
   ],
   "source": [
    "a,b,c= input().split()\n",
    "a = int(a)\n",
    "b = int(b)\n",
    "c = int(c)\n",
    "if (a + b > c) and (b + c > a) and (a + c > b):\n",
    "     print(\"Valid\")\n",
    "else:\n",
    "    print(\"Invalid\")"
   ]
  },
  {
   "cell_type": "code",
   "execution_count": 1,
   "metadata": {},
   "outputs": [
    {
     "name": "stdout",
     "output_type": "stream",
     "text": [
      "5 * 1 = 5\n",
      "5 * 2 = 10\n",
      "5 * 3 = 15\n",
      "5 * 4 = 20\n",
      "5 * 5 = 25\n",
      "5 * 6 = 30\n",
      "5 * 7 = 35\n",
      "5 * 8 = 40\n",
      "5 * 9 = 45\n",
      "5 * 10 = 50\n",
      "6 * 1 = 6\n",
      "6 * 2 = 12\n",
      "6 * 3 = 18\n",
      "6 * 4 = 24\n",
      "6 * 5 = 30\n",
      "6 * 6 = 36\n",
      "6 * 7 = 42\n",
      "6 * 8 = 48\n",
      "6 * 9 = 54\n",
      "6 * 10 = 60\n"
     ]
    }
   ],
   "source": [
    "# Write a program to display the multiplication table of a given number.\n",
    "\n",
    "# Solution 01\n",
    "n=int(input())\n",
    "for i in range(1, 11):\n",
    "    # Calculate the product for the current multiplier\n",
    "    product = n * i\n",
    "    # Print the multiplication table entry\n",
    "    print(f\"{n} * {i} = {product}\")\n",
    "\n",
    "# Solution 02\n",
    "#Take an integer input\n",
    "n=int(input())\n",
    "\n",
    "# Loop through 1 to 10 and print the multiplication result with n\n",
    "for i in range(1,11):\n",
    "    print(\"{0} * {1} =\".format(n,i),n*i)"
   ]
  },
  {
   "cell_type": "code",
   "execution_count": 2,
   "metadata": {},
   "outputs": [
    {
     "name": "stdout",
     "output_type": "stream",
     "text": [
      "2\n",
      "4\n"
     ]
    }
   ],
   "source": [
    "# Write a program to accept a string value from the user \n",
    "# and accept a char value from the user and find out the total \n",
    "# occurrence of the char value in the string value. Note that the count is not case-sensitive\n",
    "\n",
    "# Solution 01:\n",
    "# Take input\n",
    "input_string=input()\n",
    "input_char=input()\n",
    "\n",
    "#write your code here\n",
    "input_string = input_string.lower()\n",
    "input_char = input_char.lower()\n",
    "\n",
    "char_to_count = input_string.count(input_char)\n",
    "print(char_to_count)\n",
    "\n",
    "# Solution 02: \n",
    "# Take input\n",
    "input_string=input()\n",
    "input_char=input()\n",
    "\n",
    "#Check the count of input_char in the string input_string and print it\n",
    "input_char=input_char.lower()\n",
    "print(input_string.lower().count(input_char))\n",
    "\n"
   ]
  },
  {
   "cell_type": "code",
   "execution_count": 4,
   "metadata": {},
   "outputs": [
    {
     "name": "stdout",
     "output_type": "stream",
     "text": [
      "45\n"
     ]
    }
   ],
   "source": [
    "# Write a program to calculate the sum of the digits of a given number \n",
    "# Solution 01:\n",
    "\n",
    "#Take input\n",
    "n=int(input())\n",
    "\n",
    "# write your code here\n",
    "total_sum = 0\n",
    "while n > 0:\n",
    "    # Extract the last digit and add it to total_sum\n",
    "    total_sum += n % 10\n",
    "    # Remove the last digit\n",
    "    n = n // 10\n",
    "# print the results\n",
    "print(total_sum)"
   ]
  },
  {
   "cell_type": "code",
   "execution_count": 4,
   "metadata": {},
   "outputs": [
    {
     "name": "stdout",
     "output_type": "stream",
     "text": [
      "23\n",
      "2\n",
      "0\n",
      "Number of odd digits: 0\n",
      "Number of non-zero even digits: 2\n",
      "Number of zeros: 1\n"
     ]
    }
   ],
   "source": [
    "# Write a program to accept a number from the user and count the zeros, \n",
    "# odd digits and non-zero even digits from the entered number.\n",
    "\n",
    "# Take input\n",
    "n=int(input())\n",
    "\n",
    "#write your code here\n",
    "zero_count = 0\n",
    "odd_count = 0\n",
    "even_count = 0\n",
    "\n",
    "while n > 0:\n",
    "    # Extract the last digit\n",
    "    digit = n % 10\n",
    "        \n",
    "    # Check and count the digit based on its value\n",
    "    if digit == 0:\n",
    "        zero_count += 1\n",
    "    elif digit % 2 == 0:\n",
    "        even_count += 1\n",
    "    else:\n",
    "        odd_count += 1\n",
    "        \n",
    "    # Drop the last digit from the number\n",
    "    n //= 10\n",
    "    print(n)\n",
    "print(\"Number of odd digits:\",zero_count)\n",
    "print(\"Number of non-zero even digits:\",even_count)\n",
    "print(\"Number of zeros:\",odd_count)"
   ]
  },
  {
   "cell_type": "code",
   "execution_count": 6,
   "metadata": {},
   "outputs": [
    {
     "name": "stdout",
     "output_type": "stream",
     "text": [
      "12\n",
      "1\n",
      "0\n",
      "Number of odd digits: 2\n",
      "Number of non-zero even digits: 1\n",
      "Number of zeros: 0\n"
     ]
    }
   ],
   "source": [
    "# Write a program to accept a number from the user and count the zeros, \n",
    "# odd digits and non-zero even digits from the entered number.\n",
    "\n",
    "# Take input\n",
    "n=int(input())\n",
    "\n",
    "#write your code here\n",
    "zero_count = 0\n",
    "odd_count = 0\n",
    "even_count = 0\n",
    "\n",
    "while n > 0:\n",
    "    # Extract the last digit\n",
    "    digit = n % 10\n",
    "        \n",
    "    # Check and count the digit based on its value\n",
    "    if digit == 0:\n",
    "        zero_count += 1\n",
    "    elif digit % 2 == 0:\n",
    "        even_count += 1\n",
    "    else:\n",
    "        odd_count += 1\n",
    "        \n",
    "    # Drop the last digit from the number\n",
    "    n //= 10\n",
    "print(\"Number of odd digits:\",odd_count)\n",
    "print(\"Number of non-zero even digits:\",even_count)\n",
    "print(\"Number of zeros:\",zero_count)"
   ]
  },
  {
   "cell_type": "code",
   "execution_count": 5,
   "metadata": {},
   "outputs": [
    {
     "name": "stdout",
     "output_type": "stream",
     "text": [
      "Number of odd digits: 0\n",
      "Number of non-zero even digits: 1\n",
      "Number of zeros: 2\n"
     ]
    }
   ],
   "source": [
    "# Write a program to accept a number from the user and count the zeros, \n",
    "# odd digits and non-zero even digits from the entered number.\n",
    "\n",
    "# Take input\n",
    "n=input()\n",
    "\n",
    "digits = [int(i) for i in n]\n",
    "\n",
    "#write your code here\n",
    "zero_count = 0\n",
    "odd_count = 0\n",
    "even_count = 0\n",
    "\n",
    "for i in digits:\n",
    "    if i == 0:\n",
    "        zero_count += 1\n",
    "    elif i % 2 == 0:\n",
    "        even_count += 1\n",
    "    else:\n",
    "        odd_count += 1\n",
    "\n",
    "print(\"Number of odd digits:\",zero_count)\n",
    "print(\"Number of non-zero even digits:\",even_count)\n",
    "print(\"Number of zeros:\",odd_count)"
   ]
  },
  {
   "cell_type": "code",
   "execution_count": 7,
   "metadata": {},
   "outputs": [
    {
     "name": "stdout",
     "output_type": "stream",
     "text": [
      "pROGRAMMINGISFUN\n"
     ]
    }
   ],
   "source": [
    "#Take input\n",
    "input_string=input()\n",
    "\n",
    "#write your code here\n",
    "result = \"\"\n",
    "for char in input_string:\n",
    "    # Check if the character is alphabetic\n",
    "    if char.isalpha():\n",
    "        # Convert uppercase to lowercase and vice versa\n",
    "        if char.islower():\n",
    "            result += char.upper()\n",
    "        else:\n",
    "            result += char.lower()\n",
    "        # Ignore numbers and special characters\n",
    "print(result)"
   ]
  },
  {
   "cell_type": "code",
   "execution_count": null,
   "metadata": {},
   "outputs": [],
   "source": []
  }
 ],
 "metadata": {
  "kernelspec": {
   "display_name": "Python 3",
   "language": "python",
   "name": "python3"
  },
  "language_info": {
   "codemirror_mode": {
    "name": "ipython",
    "version": 3
   },
   "file_extension": ".py",
   "mimetype": "text/x-python",
   "name": "python",
   "nbconvert_exporter": "python",
   "pygments_lexer": "ipython3",
   "version": "3.12.5"
  }
 },
 "nbformat": 4,
 "nbformat_minor": 2
}
