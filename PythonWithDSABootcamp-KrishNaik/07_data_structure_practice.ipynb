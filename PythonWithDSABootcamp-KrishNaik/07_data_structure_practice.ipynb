{
 "cells": [
  {
   "cell_type": "markdown",
   "metadata": {},
   "source": []
  },
  {
   "cell_type": "code",
   "execution_count": 1,
   "metadata": {},
   "outputs": [
    {
     "data": {
      "text/plain": [
       "['Mohammad Tanvir', 1965, 34]"
      ]
     },
     "execution_count": 1,
     "metadata": {},
     "output_type": "execute_result"
    }
   ],
   "source": [
    "# User information in a list instead of separate variables\n",
    "user_info = ['Mohammad Tanvir', 1965, 34]\n",
    "user_info"
   ]
  },
  {
   "cell_type": "code",
   "execution_count": 7,
   "metadata": {},
   "outputs": [
    {
     "data": {
      "text/plain": [
       "'MT196534'"
      ]
     },
     "execution_count": 7,
     "metadata": {},
     "output_type": "execute_result"
    }
   ],
   "source": [
    "# Extract user id from the list\n",
    "user_id = user_info[0].split()[0][0] + user_info[0].split()[1][0] + str(user_info[1]) + str(user_info[2])\n",
    "user_id"
   ]
  },
  {
   "cell_type": "code",
   "execution_count": 16,
   "metadata": {},
   "outputs": [
    {
     "data": {
      "text/plain": [
       "['Alice Kim', 'Eric Lee', 'Paul Kim', 'Ben Kim', 'Brien Wu']"
      ]
     },
     "execution_count": 16,
     "metadata": {},
     "output_type": "execute_result"
    }
   ],
   "source": [
    "# Info for Multiple users stored as nested lists\n",
    "user_list = [['Alice Kim', 'Eric Lee', 'Paul Kim', 'Ben Kim', 'Brien Wu'], [1965, 1983, 1994, 1972, 1994], [58, 40, 29, 51, 29]]\n",
    "user_list[0]"
   ]
  },
  {
   "cell_type": "code",
   "execution_count": 17,
   "metadata": {},
   "outputs": [
    {
     "data": {
      "text/plain": [
       "['Alice Kim', 'Eric Lee', 'Paul Kim', 'Ben Kim', 'Brien Wu']"
      ]
     },
     "execution_count": 17,
     "metadata": {},
     "output_type": "execute_result"
    }
   ],
   "source": [
    "names = user_list[0]\n",
    "names"
   ]
  },
  {
   "cell_type": "code",
   "execution_count": 18,
   "metadata": {},
   "outputs": [
    {
     "data": {
      "text/plain": [
       "[58, 40, 29, 51, 29]"
      ]
     },
     "execution_count": 18,
     "metadata": {},
     "output_type": "execute_result"
    }
   ],
   "source": [
    "ages = user_list[2]\n",
    "ages"
   ]
  },
  {
   "cell_type": "code",
   "execution_count": 19,
   "metadata": {},
   "outputs": [
    {
     "name": "stdout",
     "output_type": "stream",
     "text": [
      "[['Alice Kim', 'Eric Lee', 'Paul Kim', 'Ben Kim', 'Brien Wu'], [1965, 1983, 1994, 1972, 1994], [58, 40, 29, 51, 29], [True, True, False, False, True]]\n"
     ]
    }
   ],
   "source": [
    "sub_status_list = [True, True, False, False, True]\n",
    "user_list.append(sub_status_list)\n",
    "print(user_list)"
   ]
  },
  {
   "cell_type": "code",
   "execution_count": 24,
   "metadata": {},
   "outputs": [
    {
     "name": "stdout",
     "output_type": "stream",
     "text": [
      "4\n"
     ]
    },
    {
     "data": {
      "text/plain": [
       "{1965, 1972, 1983, 1994}"
      ]
     },
     "execution_count": 24,
     "metadata": {},
     "output_type": "execute_result"
    }
   ],
   "source": [
    "# Conver your list into set\n",
    "unique_user_yob = set(user_list[1])\n",
    "print(len(unique_user_yob))\n",
    "unique_user_yob"
   ]
  },
  {
   "cell_type": "code",
   "execution_count": 26,
   "metadata": {},
   "outputs": [
    {
     "data": {
      "text/plain": [
       "{2000}"
      ]
     },
     "execution_count": 26,
     "metadata": {},
     "output_type": "execute_result"
    }
   ],
   "source": [
    "candidate_yob_set = set([1965, 1994, 2000])\n",
    "candidate_yob_set - unique_user_yob"
   ]
  },
  {
   "cell_type": "code",
   "execution_count": null,
   "metadata": {},
   "outputs": [],
   "source": []
  }
 ],
 "metadata": {
  "kernelspec": {
   "display_name": "Python 3",
   "language": "python",
   "name": "python3"
  },
  "language_info": {
   "codemirror_mode": {
    "name": "ipython",
    "version": 3
   },
   "file_extension": ".py",
   "mimetype": "text/x-python",
   "name": "python",
   "nbconvert_exporter": "python",
   "pygments_lexer": "ipython3",
   "version": "3.12.5"
  }
 },
 "nbformat": 4,
 "nbformat_minor": 2
}
