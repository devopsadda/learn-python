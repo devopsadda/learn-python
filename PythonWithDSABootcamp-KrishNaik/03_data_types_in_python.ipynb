{
 "cells": [
  {
   "cell_type": "markdown",
   "metadata": {},
   "source": [
    "#### Datatype in Python"
   ]
  },
  {
   "cell_type": "markdown",
   "metadata": {},
   "source": [
    "##### Basic Datatypes\n",
    "- Integers\n",
    "- Float\n",
    "- String\n",
    "- Booleans\n",
    "\n",
    "##### Advanced Data Types\n",
    "- Lists\n",
    "- Tuples\n",
    "- Sets\n",
    "- Dictionaries"
   ]
  },
  {
   "cell_type": "code",
   "execution_count": 1,
   "metadata": {},
   "outputs": [],
   "source": [
    "age=35 # Integer\n",
    "height=7.1 # Float\n",
    "name=\"Tanvir\" # String\n",
    "is_student=True # Boolean"
   ]
  },
  {
   "cell_type": "markdown",
   "metadata": {},
   "source": [
    "#### Operators in Python"
   ]
  },
  {
   "cell_type": "code",
   "execution_count": 2,
   "metadata": {},
   "outputs": [
    {
     "name": "stdout",
     "output_type": "stream",
     "text": [
      "Addition:  68.0\n",
      "Substration:  -22.0\n",
      "Multiplication:  1035.0\n",
      "Division:  0.5111111111111111\n",
      "Floor Division:  0.0\n",
      "Modulus:  23.0\n",
      "Exponentiation:  1.8956258430116204e+61\n"
     ]
    }
   ],
   "source": [
    "# Arithmetic Operators\n",
    "# + (addition), - (substration), * (Multiplication), / (division), // (floor division), ** (Modulus)\n",
    "\n",
    "# Comparison Operators\n",
    "# ==, !=, >, >=, <, <=\n",
    "\n",
    "# Logical Operators\n",
    "# AND, OR, NOT\n",
    "\n",
    "\n",
    "## Simple Calculator to perform Arithmetic Operation\n",
    "num1=float(input(\"Enter first number:\"))\n",
    "num2=float(input(\"Enter second number:\"))\n",
    "\n",
    "addition = num1 + num2\n",
    "substration = num1 - num2\n",
    "multiplication = num1 * num2\n",
    "division = num1 / num2\n",
    "floor_division = num1 // num2\n",
    "modulus = num1 % num2\n",
    "exponentiation = num1 ** num2\n",
    "\n",
    "\n",
    "print(\"Addition: \",addition)\n",
    "print(\"Substration: \",substration)\n",
    "print(\"Multiplication: \",multiplication)\n",
    "print(\"Division: \",division)\n",
    "print(\"Floor Division: \", floor_division)\n",
    "print(\"Modulus: \", modulus)\n",
    "print(\"Exponentiation: \", exponentiation)"
   ]
  }
 ],
 "metadata": {
  "kernelspec": {
   "display_name": "Python 3",
   "language": "python",
   "name": "python3"
  },
  "language_info": {
   "codemirror_mode": {
    "name": "ipython",
    "version": 3
   },
   "file_extension": ".py",
   "mimetype": "text/x-python",
   "name": "python",
   "nbconvert_exporter": "python",
   "pygments_lexer": "ipython3",
   "version": "3.12.0"
  }
 },
 "nbformat": 4,
 "nbformat_minor": 2
}
