{
 "cells": [
  {
   "cell_type": "markdown",
   "metadata": {},
   "source": [
    "#### Basic Syntax and Semantics"
   ]
  },
  {
   "cell_type": "code",
   "execution_count": 10,
   "metadata": {},
   "outputs": [
    {
     "name": "stdout",
     "output_type": "stream",
     "text": [
      "Let's Start learning Python!!!\n",
      "Mohammad\n",
      "Tanvir\n",
      "32\n",
      "45\n",
      "15\n"
     ]
    }
   ],
   "source": [
    "# Single Line Comment\n",
    "\n",
    "'''\n",
    "Welcome to the Python - Multi line comments\n",
    "'''\n",
    "\n",
    "print(\"Let's Start learning Python!!!\")\n",
    "\n",
    "# Python is case sensitive\n",
    "name=\"Mohammad\"\n",
    "Name=\"Tanvir\"\n",
    "print(name)\n",
    "print(Name)\n",
    "\n",
    "# Indentation\n",
    "# Python uses uses indentation to define blocks of code\n",
    "\n",
    "age=32\n",
    "if age>32:\n",
    "    print(age)\n",
    "print(age)\n",
    "\n",
    "# Line Continuation\n",
    "total= 1+2+3+4+5+6+\\\n",
    "    7+8+9\n",
    "print(total)\n",
    "\n",
    "# Multiple Statements in single line\n",
    "x=5;y=10;z=x+y\n",
    "print(z)\n"
   ]
  },
  {
   "cell_type": "markdown",
   "metadata": {},
   "source": [
    "#### Variables in Python"
   ]
  },
  {
   "cell_type": "code",
   "execution_count": 20,
   "metadata": {},
   "outputs": [
    {
     "name": "stdout",
     "output_type": "stream",
     "text": [
      "Age:  32\n",
      "Height:  7.1\n",
      "Name:  Tanvir\n",
      "<class 'str'>\n",
      "<class 'float'>\n",
      "<class 'int'>\n",
      "25\n",
      "<class 'str'>\n",
      "10 <class 'int'>\n",
      "24 <class 'str'>\n"
     ]
    }
   ],
   "source": [
    "# Declaring and assigning variables\n",
    "\n",
    "age=32\n",
    "height=7.1\n",
    "name=\"Tanvir\"\n",
    "is_student=True\n",
    "\n",
    "# printing the Variables\n",
    "print(\"Age: \",age)\n",
    "print(\"Height: \",height)\n",
    "print(\"Name: \", name)\n",
    "\n",
    "# Naming Conventions\n",
    "first_name=\"Mohammad\"\n",
    "last_name=\"Tanvir\"\n",
    "\n",
    "# Understanding Variable Data Types\n",
    "age=25\n",
    "height=6.1\n",
    "name=\"Krish\"\n",
    "is_student=True\n",
    "\n",
    "print(type(name))\n",
    "print(type(height))\n",
    "print(type(age))\n",
    "\n",
    "age_str=str(age)\n",
    "print(age_str)\n",
    "print(type(age_str))\n",
    "\n",
    "# Dynamic Typing\n",
    "var=10\n",
    "print(var,type(var))\n",
    "\n",
    "# Variable Input\n",
    "age=input(\"What is the age.\")\n",
    "print(age,type(age))\n"
   ]
  },
  {
   "cell_type": "code",
   "execution_count": 22,
   "metadata": {},
   "outputs": [
    {
     "name": "stdout",
     "output_type": "stream",
     "text": [
      "Sum:  24.0\n",
      "Difference:  0.0\n",
      "Product:  144.0\n",
      "Quotient:  1.0\n"
     ]
    }
   ],
   "source": [
    "## Simple Calculator\n",
    "num1=float(input(\"Enter first number:\"))\n",
    "num2=float(input(\"Enter second number:\"))\n",
    "\n",
    "sum = num1 + num2\n",
    "diff = num1 - num2\n",
    "product = num1 * num2\n",
    "quotient = num1 / num2\n",
    "\n",
    "print(\"Sum: \",sum)\n",
    "print(\"Difference: \",diff)\n",
    "print(\"Product: \", product)\n",
    "print(\"Quotient: \", quotient)\n"
   ]
  },
  {
   "cell_type": "markdown",
   "metadata": {},
   "source": [
    "#### Datatype in Python"
   ]
  },
  {
   "cell_type": "markdown",
   "metadata": {},
   "source": [
    "##### Basic Datatypes\n",
    "- Integers\n",
    "- Float\n",
    "- String\n",
    "- Booleans\n",
    "\n",
    "##### Advanced Data Types\n",
    "- Lists\n",
    "- Tuples\n",
    "- Sets\n",
    "- Dictionaries\n",
    "\n",
    "\n"
   ]
  },
  {
   "cell_type": "code",
   "execution_count": 23,
   "metadata": {},
   "outputs": [],
   "source": [
    "age=35 # Integer\n",
    "height=7.1 # Float\n",
    "name=\"Tanvir\" # String\n",
    "is_student=True # Boolean\n",
    "\n"
   ]
  },
  {
   "cell_type": "markdown",
   "metadata": {},
   "source": [
    "#### Operators in Python"
   ]
  },
  {
   "cell_type": "code",
   "execution_count": 24,
   "metadata": {},
   "outputs": [
    {
     "name": "stdout",
     "output_type": "stream",
     "text": [
      "Addition:  8.0\n",
      "Substration:  0.0\n",
      "Multiplication:  16.0\n",
      "Division:  1.0\n",
      "Floor Division:  1.0\n",
      "Modulus:  0.0\n",
      "Exponentiation:  256.0\n"
     ]
    }
   ],
   "source": [
    "# Arithmetic Operators\n",
    "# + (addition), - (substration), * (Multiplication), / (division), // (floor division), ** (Modulus)\n",
    "\n",
    "# Comparison Operators\n",
    "# ==, !=, >, >=, <, <=\n",
    "\n",
    "# Logical Operators\n",
    "# AND, OR, NOT\n",
    "\n",
    "\n",
    "## Simple Calculator to perform Arithmetic Operation\n",
    "num1=float(input(\"Enter first number:\"))\n",
    "num2=float(input(\"Enter second number:\"))\n",
    "\n",
    "addition = num1 + num2\n",
    "substration = num1 - num2\n",
    "multiplication = num1 * num2\n",
    "division = num1 / num2\n",
    "floor_division = num1 // num2\n",
    "modulus = num1 % num2\n",
    "exponentiation = num1 ** num2\n",
    "\n",
    "\n",
    "print(\"Addition: \",addition)\n",
    "print(\"Substration: \",substration)\n",
    "print(\"Multiplication: \",multiplication)\n",
    "print(\"Division: \",division)\n",
    "print(\"Floor Division: \", floor_division)\n",
    "print(\"Modulus: \", modulus)\n",
    "print(\"Exponentiation: \", exponentiation)\n",
    "\n",
    "\n"
   ]
  },
  {
   "cell_type": "markdown",
   "metadata": {},
   "source": [
    "#### Conditional Statements (if, elif, else)"
   ]
  },
  {
   "cell_type": "code",
   "execution_count": 25,
   "metadata": {},
   "outputs": [
    {
     "name": "stdout",
     "output_type": "stream",
     "text": [
      "You are allowed to vote in the elections\n",
      "You are eligible for voting\n"
     ]
    }
   ],
   "source": [
    "# If Statement\n",
    "age=20\n",
    "if age>=18:\n",
    "    print(\"You are allowed to vote in the elections\")\n",
    "\n",
    "# if and else statement\n",
    "if age>=18:\n",
    "    print(\"You are eligible for voting\")\n",
    "else:\n",
    "    print(\"You are a minor\")\n"
   ]
  },
  {
   "cell_type": "code",
   "execution_count": 26,
   "metadata": {},
   "outputs": [
    {
     "name": "stdout",
     "output_type": "stream",
     "text": [
      "You are an adult\n"
     ]
    }
   ],
   "source": [
    "age=20\n",
    "if age<13:\n",
    "    print(\"You are child\")\n",
    "elif age<18:\n",
    "    print(\"You are teenager\")\n",
    "else:\n",
    "    print(\"You are an adult\")\n",
    "\n"
   ]
  },
  {
   "cell_type": "code",
   "execution_count": 29,
   "metadata": {},
   "outputs": [
    {
     "name": "stdout",
     "output_type": "stream",
     "text": [
      "2024 is a leap year!\n"
     ]
    }
   ],
   "source": [
    "# Determine if an year is a leap year using nested conditional statement\n",
    "year=int(input(\"Enter the year\"))\n",
    "if year%4==0:\n",
    "    if year%100==0:\n",
    "        if year%400==0:\n",
    "            print(year,\"is a leap year!\")\n",
    "        else:\n",
    "            print(year,\"is not a leap year!\")\n",
    "    else:\n",
    "        print(year,\"is a leap year!\")\n",
    "else:\n",
    "    print(year,\"is not a leap year!\")"
   ]
  },
  {
   "cell_type": "code",
   "execution_count": null,
   "metadata": {},
   "outputs": [],
   "source": [
    "# Write a program for a simple calculator\n",
    "num1 = float(input(\"Enter first number: \"))\n",
    "num2 = float(input(\"Enter second number: \"))\n",
    "operation = input(\"Enter operation (+, -, *, /): \")\n",
    "\n",
    "if operation == '+':\n",
    "    result = num1 + num2\n",
    "elif operation == '-':\n",
    "    result = num1 - num2\n",
    "elif operation == '*':\n",
    "    result = num1 * num2\n",
    "elif operation == '/':\n",
    "    if num2 != 0:\n",
    "        result = num1 / num2\n",
    "    else:\n",
    "        result = \"Error! Division by zero\"\n",
    "else:\n",
    "    result = \"Invalid operation!\"\n",
    "\n",
    "print(\"Result: \", result)"
   ]
  },
  {
   "cell_type": "markdown",
   "metadata": {},
   "source": [
    "#### Loops in Python"
   ]
  },
  {
   "cell_type": "code",
   "execution_count": 32,
   "metadata": {},
   "outputs": [
    {
     "name": "stdout",
     "output_type": "stream",
     "text": [
      "0\n",
      "1\n",
      "2\n",
      "3\n",
      "4\n"
     ]
    }
   ],
   "source": [
    "range(0,5)\n",
    "\n",
    "# for loop\n",
    "for i in range(0,5):\n",
    "    print(i)"
   ]
  },
  {
   "cell_type": "code",
   "execution_count": 34,
   "metadata": {},
   "outputs": [
    {
     "name": "stdout",
     "output_type": "stream",
     "text": [
      "2\n",
      "4\n",
      "6\n",
      "8\n",
      "10\n"
     ]
    }
   ],
   "source": [
    "for i in range(2, 11, 2):\n",
    "    print(i)"
   ]
  },
  {
   "cell_type": "code",
   "execution_count": 40,
   "metadata": {},
   "outputs": [
    {
     "name": "stdout",
     "output_type": "stream",
     "text": [
      "M\n",
      "o\n",
      "h\n",
      "a\n",
      "m\n",
      "m\n",
      "a\n",
      "d\n",
      " \n",
      "T\n",
      "a\n",
      "n\n",
      "v\n",
      "i\n",
      "r\n"
     ]
    }
   ],
   "source": [
    "# Strings\n",
    "str=\"Mohammad Tanvir\"\n",
    "for i in str: \n",
    "    print(i)"
   ]
  },
  {
   "cell_type": "code",
   "execution_count": 1,
   "metadata": {},
   "outputs": [
    {
     "name": "stdout",
     "output_type": "stream",
     "text": [
      "0\n",
      "1\n",
      "2\n",
      "3\n",
      "4\n"
     ]
    }
   ],
   "source": [
    "# while loop\n",
    "count = 0\n",
    "while count<5:\n",
    "    print(count)\n",
    "    count = count+1"
   ]
  },
  {
   "cell_type": "code",
   "execution_count": 3,
   "metadata": {},
   "outputs": [
    {
     "name": "stdout",
     "output_type": "stream",
     "text": [
      "2\n",
      "3\n",
      "5\n",
      "7\n",
      "11\n",
      "13\n",
      "17\n",
      "19\n",
      "23\n",
      "29\n",
      "31\n",
      "37\n",
      "41\n",
      "43\n",
      "47\n",
      "53\n",
      "59\n",
      "61\n",
      "67\n",
      "71\n",
      "73\n",
      "79\n",
      "83\n",
      "89\n",
      "97\n"
     ]
    }
   ],
   "source": [
    "# Prime numbers between 1 and 100\n",
    "\n",
    "for num in range(1,100):\n",
    "    if num>1:\n",
    "        for i in range(2,num):\n",
    "            if num%i==0:\n",
    "                break\n",
    "        else:\n",
    "            print(num)\n"
   ]
  },
  {
   "cell_type": "code",
   "execution_count": null,
   "metadata": {},
   "outputs": [],
   "source": []
  },
  {
   "cell_type": "code",
   "execution_count": null,
   "metadata": {},
   "outputs": [],
   "source": []
  },
  {
   "cell_type": "code",
   "execution_count": null,
   "metadata": {},
   "outputs": [],
   "source": []
  },
  {
   "cell_type": "code",
   "execution_count": null,
   "metadata": {},
   "outputs": [],
   "source": []
  }
 ],
 "metadata": {
  "kernelspec": {
   "display_name": "Python 3",
   "language": "python",
   "name": "python3"
  },
  "language_info": {
   "codemirror_mode": {
    "name": "ipython",
    "version": 3
   },
   "file_extension": ".py",
   "mimetype": "text/x-python",
   "name": "python",
   "nbconvert_exporter": "python",
   "pygments_lexer": "ipython3",
   "version": "3.12.5"
  }
 },
 "nbformat": 4,
 "nbformat_minor": 2
}
