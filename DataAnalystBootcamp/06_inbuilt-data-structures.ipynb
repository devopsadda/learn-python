{
 "cells": [
  {
   "cell_type": "code",
   "execution_count": 27,
   "metadata": {},
   "outputs": [
    {
     "name": "stdout",
     "output_type": "stream",
     "text": [
      "[]\n",
      "['Tanvir', 'Saket', 'Sanjeev']\n",
      "['Tanvir', 'Anees', 'Arham']\n"
     ]
    }
   ],
   "source": [
    "# List\n",
    "lst=[]\n",
    "print(lst)\n",
    "\n",
    "names=[\"Tanvir\", \"Saket\", \"Sanjeev\"]\n",
    "print(names)\n",
    "family=[\"Tanvir\", \"Anees\", \"Arham\"]\n",
    "print(family)"
   ]
  },
  {
   "cell_type": "code",
   "execution_count": 28,
   "metadata": {},
   "outputs": [
    {
     "name": "stdout",
     "output_type": "stream",
     "text": [
      "Apple\n",
      "Orange\n",
      "Cherry\n",
      "Orange\n",
      "['Banana', 'Cherry', 'Kiwi', 'Orange']\n",
      "['Banana', 'Cherry', 'Kiwi']\n",
      "[]\n"
     ]
    }
   ],
   "source": [
    "# Accessing List Elements\n",
    "fruits=[\"Apple\", \"Banana\", \"Cherry\", \"Kiwi\", \"Orange\"]\n",
    "print(fruits[0])\n",
    "print(fruits[4])\n",
    "print(fruits[2])\n",
    "print(fruits[-1])\n",
    "print(fruits[1:])\n",
    "print(fruits[1:4])\n",
    "print(fruits[-1:-3])\n"
   ]
  },
  {
   "cell_type": "code",
   "execution_count": 29,
   "metadata": {},
   "outputs": [
    {
     "name": "stdout",
     "output_type": "stream",
     "text": [
      "['Apple', 'Banana', 'Cherry', 'Kiwi', 'Orange', 'Guava']\n",
      "['Apple', 'watermelon', 'Banana', 'Cherry', 'Kiwi', 'Orange', 'Guava']\n",
      "['Apple', 'watermelon', 'Cherry', 'Kiwi', 'Orange', 'Guava']\n",
      "['Apple', 'watermelon', 'Cherry', 'Kiwi', 'Orange']\n"
     ]
    }
   ],
   "source": [
    "# List Methods\n",
    "fruits.append(\"Guava\")\n",
    "print(fruits)\n",
    "fruits.insert(1,\"watermelon\")\n",
    "print(fruits)\n",
    "fruits.remove(\"Banana\")\n",
    "print(fruits)\n",
    "fruits.pop()\n",
    "print(fruits)\n",
    "index=fruits.index(\"Cherry\")"
   ]
  },
  {
   "cell_type": "code",
   "execution_count": 31,
   "metadata": {},
   "outputs": [
    {
     "name": "stdout",
     "output_type": "stream",
     "text": [
      "[0, 1, 4, 9, 16, 25, 36, 49, 64, 81]\n"
     ]
    },
    {
     "data": {
      "text/plain": [
       "[0, 1, 4, 9, 16, 25, 36, 49, 64, 81]"
      ]
     },
     "execution_count": 31,
     "metadata": {},
     "output_type": "execute_result"
    }
   ],
   "source": [
    "# List Comprehension\n",
    "lst=[]\n",
    "for x in range(10):\n",
    "    lst.append(x**2)\n",
    "\n",
    "print(lst)\n",
    "\n",
    "[x**2 for x in range(10)]"
   ]
  },
  {
   "cell_type": "code",
   "execution_count": 1,
   "metadata": {},
   "outputs": [
    {
     "name": "stdout",
     "output_type": "stream",
     "text": [
      "[0, 1, 4, 9, 16, 25, 36, 49, 64, 81]\n",
      "[0, 2, 4, 6, 8]\n",
      "[[1, 'a'], [1, 'b'], [1, 'c'], [1, 'd'], [2, 'a'], [2, 'b'], [2, 'c'], [2, 'd'], [3, 'a'], [3, 'b'], [3, 'c'], [3, 'd'], [4, 'a'], [4, 'b'], [4, 'c'], [4, 'd']]\n",
      "[5, 5, 6, 4, 13]\n"
     ]
    }
   ],
   "source": [
    "\n",
    "## Basisc Syntax: [expression for item in iterable]\n",
    "square=[num**2 for num in range(10)]\n",
    "print(square)\n",
    "\n",
    "## With conditional Logic: [expression for item in iterable if condition]\n",
    "even_numbers=[num for num in range(10) if num%2==0]\n",
    "print(even_numbers)\n",
    "\n",
    "## Nested List comprehension [expression for item1 in iterable1 for item2 in iterable2]\n",
    "lst1=[1,2,3,4]\n",
    "lst2=['a','b','c','d']\n",
    "\n",
    "pair=[[i,j] for i in lst1 for j in lst2]\n",
    "print(pair)\n",
    "\n",
    "## List comprehension with function calls\n",
    "words = [\"hello\", \"world\", \"python\", \"list\", \"comprehension\"]\n",
    "lengths = [len(word) for word in words]\n",
    "print(lengths) # Output: [5, 5, 6, 4, 13]"
   ]
  }
 ],
 "metadata": {
  "kernelspec": {
   "display_name": "Python 3",
   "language": "python",
   "name": "python3"
  },
  "language_info": {
   "codemirror_mode": {
    "name": "ipython",
    "version": 3
   },
   "file_extension": ".py",
   "mimetype": "text/x-python",
   "name": "python",
   "nbconvert_exporter": "python",
   "pygments_lexer": "ipython3",
   "version": "3.12.5"
  }
 },
 "nbformat": 4,
 "nbformat_minor": 2
}
