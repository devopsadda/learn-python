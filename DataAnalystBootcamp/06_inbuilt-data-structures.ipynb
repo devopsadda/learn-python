{
 "cells": [
  {
   "cell_type": "code",
   "execution_count": 27,
   "metadata": {},
   "outputs": [
    {
     "name": "stdout",
     "output_type": "stream",
     "text": [
      "[]\n",
      "['Tanvir', 'Saket', 'Sanjeev']\n",
      "['Tanvir', 'Anees', 'Arham']\n"
     ]
    }
   ],
   "source": [
    "# List\n",
    "lst=[]\n",
    "print(lst)\n",
    "\n",
    "names=[\"Tanvir\", \"Saket\", \"Sanjeev\"]\n",
    "print(names)\n",
    "family=[\"Tanvir\", \"Anees\", \"Arham\"]\n",
    "print(family)"
   ]
  },
  {
   "cell_type": "code",
   "execution_count": 28,
   "metadata": {},
   "outputs": [
    {
     "name": "stdout",
     "output_type": "stream",
     "text": [
      "Apple\n",
      "Orange\n",
      "Cherry\n",
      "Orange\n",
      "['Banana', 'Cherry', 'Kiwi', 'Orange']\n",
      "['Banana', 'Cherry', 'Kiwi']\n",
      "[]\n"
     ]
    }
   ],
   "source": [
    "# Accessing List Elements\n",
    "fruits=[\"Apple\", \"Banana\", \"Cherry\", \"Kiwi\", \"Orange\"]\n",
    "print(fruits[0])\n",
    "print(fruits[4])\n",
    "print(fruits[2])\n",
    "print(fruits[-1])\n",
    "print(fruits[1:])\n",
    "print(fruits[1:4])\n",
    "print(fruits[-1:-3])\n"
   ]
  },
  {
   "cell_type": "code",
   "execution_count": 29,
   "metadata": {},
   "outputs": [
    {
     "name": "stdout",
     "output_type": "stream",
     "text": [
      "['Apple', 'Banana', 'Cherry', 'Kiwi', 'Orange', 'Guava']\n",
      "['Apple', 'watermelon', 'Banana', 'Cherry', 'Kiwi', 'Orange', 'Guava']\n",
      "['Apple', 'watermelon', 'Cherry', 'Kiwi', 'Orange', 'Guava']\n",
      "['Apple', 'watermelon', 'Cherry', 'Kiwi', 'Orange']\n"
     ]
    }
   ],
   "source": [
    "# List Methods\n",
    "fruits.append(\"Guava\")\n",
    "print(fruits)\n",
    "fruits.insert(1,\"watermelon\")\n",
    "print(fruits)\n",
    "fruits.remove(\"Banana\")\n",
    "print(fruits)\n",
    "fruits.pop()\n",
    "print(fruits)\n",
    "index=fruits.index(\"Cherry\")"
   ]
  },
  {
   "cell_type": "code",
   "execution_count": 31,
   "metadata": {},
   "outputs": [
    {
     "name": "stdout",
     "output_type": "stream",
     "text": [
      "[0, 1, 4, 9, 16, 25, 36, 49, 64, 81]\n"
     ]
    },
    {
     "data": {
      "text/plain": [
       "[0, 1, 4, 9, 16, 25, 36, 49, 64, 81]"
      ]
     },
     "execution_count": 31,
     "metadata": {},
     "output_type": "execute_result"
    }
   ],
   "source": [
    "# List Comprehension\n",
    "lst=[]\n",
    "for x in range(10):\n",
    "    lst.append(x**2)\n",
    "\n",
    "print(lst)\n",
    "\n",
    "[x**2 for x in range(10)]"
   ]
  },
  {
   "cell_type": "code",
   "execution_count": 36,
   "metadata": {},
   "outputs": [
    {
     "name": "stdout",
     "output_type": "stream",
     "text": [
      "[0, 1, 4, 9, 16, 25, 36, 49, 64, 81]\n",
      "[0, 2, 4, 6, 8]\n",
      "[[1, 'a'], [1, 'b'], [1, 'c'], [1, 'd'], [2, 'a'], [2, 'b'], [2, 'c'], [2, 'd'], [3, 'a'], [3, 'b'], [3, 'c'], [3, 'd'], [4, 'a'], [4, 'b'], [4, 'c'], [4, 'd']]\n"
     ]
    }
   ],
   "source": [
    "square=[num**2 for num in range(10)]\n",
    "print(square)\n",
    "\n",
    "even_numbers=[num for num in range(10) if num%2==0]\n",
    "print(even_numbers)\n",
    "\n",
    "lst1=[1,2,3,4]\n",
    "lst2=['a','b','c','d']\n",
    "\n",
    "pair=[[i,j] for i in lst1 for j in lst2]\n",
    "print(pair)"
   ]
  },
  {
   "cell_type": "code",
   "execution_count": null,
   "metadata": {},
   "outputs": [],
   "source": []
  }
 ],
 "metadata": {
  "kernelspec": {
   "display_name": "Python 3",
   "language": "python",
   "name": "python3"
  },
  "language_info": {
   "codemirror_mode": {
    "name": "ipython",
    "version": 3
   },
   "file_extension": ".py",
   "mimetype": "text/x-python",
   "name": "python",
   "nbconvert_exporter": "python",
   "pygments_lexer": "ipython3",
   "version": "3.12.5"
  }
 },
 "nbformat": 4,
 "nbformat_minor": 2
}
