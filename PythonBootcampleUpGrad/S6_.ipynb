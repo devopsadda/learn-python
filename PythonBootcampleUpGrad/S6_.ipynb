{
 "cells": [
  {
   "cell_type": "code",
   "execution_count": null,
   "metadata": {},
   "outputs": [],
   "source": []
  },
  {
   "cell_type": "code",
   "execution_count": 2,
   "metadata": {},
   "outputs": [],
   "source": [
    "input_numbers = [4,6,1,9,9,9,9,3,7,8,8,7,7]"
   ]
  },
  {
   "cell_type": "code",
   "execution_count": 7,
   "metadata": {},
   "outputs": [
    {
     "name": "stdout",
     "output_type": "stream",
     "text": [
      "8\n"
     ]
    }
   ],
   "source": [
    "unique_numbers = list(set(input_numbers))\n",
    "unique_numbers.sort(reverse=True)\n",
    "\n",
    "print(unique_numbers[1])"
   ]
  },
  {
   "cell_type": "code",
   "execution_count": 8,
   "metadata": {},
   "outputs": [
    {
     "name": "stdout",
     "output_type": "stream",
     "text": [
      "8\n"
     ]
    }
   ],
   "source": [
    "unique_numbers = list(set(input_numbers))\n",
    "print(unique_numbers[-2])\n"
   ]
  },
  {
   "cell_type": "code",
   "execution_count": 9,
   "metadata": {},
   "outputs": [],
   "source": [
    "# 2) Question: Calculate the sum of all the numbers\n",
    "# in the list\n",
    "numbers = [1, 2, 3, 4, 5]\n",
    "# O/P : 15"
   ]
  },
  {
   "cell_type": "code",
   "execution_count": 13,
   "metadata": {},
   "outputs": [
    {
     "name": "stdout",
     "output_type": "stream",
     "text": [
      "15\n"
     ]
    }
   ],
   "source": [
    "# Sol 1: Loop\n",
    "sum = 0\n",
    "for num in numbers:\n",
    "    sum += num\n",
    "print(sum)"
   ]
  },
  {
   "cell_type": "code",
   "execution_count": 20,
   "metadata": {},
   "outputs": [
    {
     "data": {
      "text/plain": [
       "15"
      ]
     },
     "execution_count": 20,
     "metadata": {},
     "output_type": "execute_result"
    }
   ],
   "source": [
    "# Sol 2: Lambda Func and Reduce\n",
    "from functools import reduce\n",
    "f = lambda a, b: a + b\n",
    "reduce(f, numbers)"
   ]
  },
  {
   "cell_type": "code",
   "execution_count": null,
   "metadata": {},
   "outputs": [
    {
     "name": "stdout",
     "output_type": "stream",
     "text": [
      "105\n"
     ]
    }
   ],
   "source": [
    "# Write a loop to compute the product (multiply)\n",
    "# of all **odd numbers** \n",
    "numbers = [1, 2, 3, 4, 5, 6, 7]\n",
    "result = 1\n",
    "for num in numbers:\n",
    "    if num % 2 != 0:\n",
    "        result *= num\n",
    "\n",
    "print(result)\n"
   ]
  },
  {
   "cell_type": "code",
   "execution_count": null,
   "metadata": {},
   "outputs": [],
   "source": [
    "# Q: Write a function that takes a list of numbers, \n",
    "# filters out the odd numbers, \n",
    "# squares the remaining even numbers, \n",
    "# and then sums them up."
   ]
  },
  {
   "cell_type": "code",
   "execution_count": 32,
   "metadata": {},
   "outputs": [],
   "source": [
    "# Sol 1: Loop\n",
    "nums = [1, 2, 3, 4, 5, 6, 7]\n",
    "sum = 0\n",
    "for num in nums:\n",
    "    if num % 2 == 0:\n",
    "        sum += num * num\n",
    "\n"
   ]
  },
  {
   "cell_type": "code",
   "execution_count": 29,
   "metadata": {},
   "outputs": [
    {
     "ename": "TypeError",
     "evalue": "'int' object is not iterable",
     "output_type": "error",
     "traceback": [
      "\u001b[1;31m---------------------------------------------------------------------------\u001b[0m",
      "\u001b[1;31mTypeError\u001b[0m                                 Traceback (most recent call last)",
      "Cell \u001b[1;32mIn[29], line 10\u001b[0m\n\u001b[0;32m      7\u001b[0m     sum_squares \u001b[38;5;241m=\u001b[39m reduce(\u001b[38;5;28;01mlambda\u001b[39;00m x, y: x \u001b[38;5;241m+\u001b[39m y, squared_even_num)\n\u001b[0;32m      9\u001b[0m     \u001b[38;5;28;01mreturn\u001b[39;00m sum_squares\n\u001b[1;32m---> 10\u001b[0m \u001b[38;5;28mprint\u001b[39m(sum_of_squares_of_even_numbers(nums))\n",
      "Cell \u001b[1;32mIn[29], line 5\u001b[0m, in \u001b[0;36msum_of_squares_of_even_numbers\u001b[1;34m(nums)\u001b[0m\n\u001b[0;32m      4\u001b[0m \u001b[38;5;28;01mdef\u001b[39;00m \u001b[38;5;21msum_of_squares_of_even_numbers\u001b[39m(nums):\n\u001b[1;32m----> 5\u001b[0m     even_nums \u001b[38;5;241m=\u001b[39m \u001b[38;5;28mlist\u001b[39m(\u001b[38;5;28mfilter\u001b[39m(\u001b[38;5;28;01mlambda\u001b[39;00m x: x \u001b[38;5;241m%\u001b[39m \u001b[38;5;241m2\u001b[39m \u001b[38;5;241m==\u001b[39m \u001b[38;5;241m0\u001b[39m, num))\n\u001b[0;32m      6\u001b[0m     squared_even_num \u001b[38;5;241m=\u001b[39m \u001b[38;5;28mlist\u001b[39m(\u001b[38;5;28mmap\u001b[39m(\u001b[38;5;28;01mlambda\u001b[39;00m x: x\u001b[38;5;241m*\u001b[39m\u001b[38;5;241m*\u001b[39m\u001b[38;5;241m2\u001b[39m, even_nums))\n\u001b[0;32m      7\u001b[0m     sum_squares \u001b[38;5;241m=\u001b[39m reduce(\u001b[38;5;28;01mlambda\u001b[39;00m x, y: x \u001b[38;5;241m+\u001b[39m y, squared_even_num)\n",
      "\u001b[1;31mTypeError\u001b[0m: 'int' object is not iterable"
     ]
    }
   ],
   "source": [
    "# Sol 2:  Use filter, map, and the reduc\n",
    "from functools import reduce\n",
    "nums = [1, 2, 3, 4, 5, 6, 7]\n",
    "def sum_of_squares_of_even_numbers(nums):\n",
    "    even_nums = list(filter(lambda x: x % 2 == 0, num))\n",
    "    squared_even_num = list(map(lambda x: x**2, even_nums))\n",
    "    sum_squares = reduce(lambda x, y: x + y, squared_even_num)\n",
    "\n",
    "    return sum_squares\n",
    "print(sum_of_squares_of_even_numbers(nums))"
   ]
  },
  {
   "cell_type": "code",
   "execution_count": 36,
   "metadata": {},
   "outputs": [
    {
     "name": "stdout",
     "output_type": "stream",
     "text": [
      "6\n"
     ]
    }
   ],
   "source": [
    "def factorial(num):\n",
    "    result = 1\n",
    "    for i in range(2, num + 1):\n",
    "        result *= i\n",
    "    return result\n",
    "    \n",
    "\n",
    "num_fact = 0\n",
    "num = int(input(\"Enter a number to calculate factorial: \"))\n",
    "if num < 0:\n",
    "    print(\"Please enter a correct number.\")\n",
    "elif num <= 1:\n",
    "    num_fact = 1\n",
    "else:\n",
    "    num_fact = factorial(num)\n",
    "\n",
    "print(num_fact)"
   ]
  },
  {
   "cell_type": "code",
   "execution_count": 37,
   "metadata": {},
   "outputs": [],
   "source": [
    "products = [('pen', 3.50), ('notebook', 25), ('pencil', 2), ('bag', 50)] \n",
    "# Output: [('notebook', 25), ('bag', 50)]"
   ]
  },
  {
   "cell_type": "code",
   "execution_count": 42,
   "metadata": {},
   "outputs": [
    {
     "name": "stdout",
     "output_type": "stream",
     "text": [
      "[('notebook', 25), ('bag', 50)]\n"
     ]
    }
   ],
   "source": [
    "# Sol 01:\n",
    "output_list = []\n",
    "for num in range(0, len(products)):\n",
    "    if products[num][1] > 20:\n",
    "        output_list.append(products[num])\n",
    "print(output_list)"
   ]
  },
  {
   "cell_type": "code",
   "execution_count": null,
   "metadata": {},
   "outputs": [
    {
     "name": "stdout",
     "output_type": "stream",
     "text": [
      "[('bag', 50), ('bag', 50)]\n"
     ]
    }
   ],
   "source": [
    "# Sol 02:\n",
    "output_list = []\n",
    "\n",
    "[for i in range(0, len(products)) if products[i][1] > 20]\n",
    "print(output_list)"
   ]
  },
  {
   "cell_type": "code",
   "execution_count": null,
   "metadata": {},
   "outputs": [],
   "source": []
  }
 ],
 "metadata": {
  "kernelspec": {
   "display_name": "Python 3",
   "language": "python",
   "name": "python3"
  },
  "language_info": {
   "codemirror_mode": {
    "name": "ipython",
    "version": 3
   },
   "file_extension": ".py",
   "mimetype": "text/x-python",
   "name": "python",
   "nbconvert_exporter": "python",
   "pygments_lexer": "ipython3",
   "version": "3.12.5"
  }
 },
 "nbformat": 4,
 "nbformat_minor": 2
}
