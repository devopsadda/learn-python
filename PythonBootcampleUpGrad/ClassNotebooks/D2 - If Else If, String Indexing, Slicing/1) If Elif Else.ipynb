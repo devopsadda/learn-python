{
 "cells": [
  {
   "cell_type": "code",
   "execution_count": 1,
   "id": "c9a42e72",
   "metadata": {},
   "outputs": [],
   "source": [
    "# int float bool\n",
    "# strings\n",
    "# if else - logic building"
   ]
  },
  {
   "cell_type": "code",
   "execution_count": 2,
   "id": "397f8203",
   "metadata": {},
   "outputs": [
    {
     "name": "stdout",
     "output_type": "stream",
     "text": [
      "Enter your age - 30\n"
     ]
    }
   ],
   "source": [
    "age = input(\"Enter your age - \")"
   ]
  },
  {
   "cell_type": "code",
   "execution_count": 3,
   "id": "0f9a8116",
   "metadata": {},
   "outputs": [
    {
     "name": "stdout",
     "output_type": "stream",
     "text": [
      "30\n"
     ]
    }
   ],
   "source": [
    "print(age)"
   ]
  },
  {
   "cell_type": "code",
   "execution_count": 4,
   "id": "5631d58e",
   "metadata": {},
   "outputs": [
    {
     "data": {
      "text/plain": [
       "str"
      ]
     },
     "execution_count": 4,
     "metadata": {},
     "output_type": "execute_result"
    }
   ],
   "source": [
    "type(age)"
   ]
  },
  {
   "cell_type": "code",
   "execution_count": null,
   "id": "b6eadbe3",
   "metadata": {},
   "outputs": [],
   "source": []
  },
  {
   "cell_type": "code",
   "execution_count": 5,
   "id": "3271afb0",
   "metadata": {},
   "outputs": [
    {
     "name": "stdout",
     "output_type": "stream",
     "text": [
      "Enter your age - 28\n"
     ]
    }
   ],
   "source": [
    "age = int(input(\"Enter your age - \"))\n",
    "# typecasting!"
   ]
  },
  {
   "cell_type": "code",
   "execution_count": 6,
   "id": "5326ed94",
   "metadata": {},
   "outputs": [
    {
     "name": "stdout",
     "output_type": "stream",
     "text": [
      "28\n"
     ]
    }
   ],
   "source": [
    "print(age)"
   ]
  },
  {
   "cell_type": "code",
   "execution_count": 7,
   "id": "366bf63d",
   "metadata": {},
   "outputs": [
    {
     "data": {
      "text/plain": [
       "int"
      ]
     },
     "execution_count": 7,
     "metadata": {},
     "output_type": "execute_result"
    }
   ],
   "source": [
    "type(age)"
   ]
  },
  {
   "cell_type": "code",
   "execution_count": null,
   "id": "a3587ea0",
   "metadata": {},
   "outputs": [],
   "source": []
  },
  {
   "cell_type": "code",
   "execution_count": 8,
   "id": "eea7b82b",
   "metadata": {},
   "outputs": [
    {
     "name": "stdout",
     "output_type": "stream",
     "text": [
      "Cannot\n"
     ]
    }
   ],
   "source": [
    "# Voting System : \n",
    "age = 10\n",
    "if age >= 18 :\n",
    "    print(\"Vote\")\n",
    "else :\n",
    "    print(\"Cannot\")"
   ]
  },
  {
   "cell_type": "code",
   "execution_count": 9,
   "id": "ba6580b9",
   "metadata": {},
   "outputs": [
    {
     "name": "stdout",
     "output_type": "stream",
     "text": [
      "Vote\n"
     ]
    }
   ],
   "source": [
    "age = 60\n",
    "if age >= 18 :\n",
    "    print(\"Vote\")\n",
    "else :\n",
    "    print(\"Cannot\")"
   ]
  },
  {
   "cell_type": "code",
   "execution_count": 10,
   "id": "d615f466",
   "metadata": {},
   "outputs": [
    {
     "name": "stdout",
     "output_type": "stream",
     "text": [
      "Cannot\n"
     ]
    }
   ],
   "source": [
    "age = -10\n",
    "if age >= 18 :\n",
    "    print(\"Vote\")\n",
    "else :\n",
    "    print(\"Cannot\")\n",
    "#  Age CANNOT be -ve!"
   ]
  },
  {
   "cell_type": "code",
   "execution_count": 11,
   "id": "985925b3",
   "metadata": {},
   "outputs": [
    {
     "name": "stdout",
     "output_type": "stream",
     "text": [
      "Enter Valid Age\n"
     ]
    }
   ],
   "source": [
    "age = -100\n",
    "if age <= 0:\n",
    "    print(\"Enter Valid Age\")\n",
    "elif age>=18:\n",
    "    print(\"Vote\")\n",
    "else :\n",
    "    print(\"Cannot VOTE\")"
   ]
  },
  {
   "cell_type": "code",
   "execution_count": 12,
   "id": "ad0a6cf2",
   "metadata": {},
   "outputs": [
    {
     "name": "stdout",
     "output_type": "stream",
     "text": [
      "Cannot VOTE\n"
     ]
    }
   ],
   "source": [
    "age = 17\n",
    "if age <= 0:\n",
    "    print(\"Enter Valid Age\")\n",
    "\n",
    "elif age>=18:\n",
    "    print(\"Vote\")\n",
    "\n",
    "else :\n",
    "    print(\"Cannot VOTE\")"
   ]
  },
  {
   "cell_type": "code",
   "execution_count": null,
   "id": "e2280baa",
   "metadata": {},
   "outputs": [],
   "source": []
  },
  {
   "cell_type": "code",
   "execution_count": null,
   "id": "70688668",
   "metadata": {},
   "outputs": [],
   "source": []
  },
  {
   "cell_type": "code",
   "execution_count": 13,
   "id": "16231fdc",
   "metadata": {},
   "outputs": [
    {
     "name": "stdout",
     "output_type": "stream",
     "text": [
      "Enter Valid Age\n"
     ]
    }
   ],
   "source": [
    "age = -100\n",
    "if age >= 0 :\n",
    "    if age >=18 :\n",
    "        print(\"Vote\")\n",
    "    else :\n",
    "        print(\"CANNOT\")\n",
    "else :\n",
    "    print(\"Enter Valid Age\")"
   ]
  },
  {
   "cell_type": "code",
   "execution_count": 14,
   "id": "41a3aa6e",
   "metadata": {},
   "outputs": [
    {
     "data": {
      "text/plain": [
       "False"
      ]
     },
     "execution_count": 14,
     "metadata": {},
     "output_type": "execute_result"
    }
   ],
   "source": [
    "100==101\n",
    "# is 100 equal to 101? \n",
    "# == equality"
   ]
  },
  {
   "cell_type": "code",
   "execution_count": 15,
   "id": "413baf0c",
   "metadata": {},
   "outputs": [
    {
     "data": {
      "text/plain": [
       "True"
      ]
     },
     "execution_count": 15,
     "metadata": {},
     "output_type": "execute_result"
    }
   ],
   "source": [
    "100!=101\n",
    "# is 100 not equal to 101?\n",
    "# != not equal to!"
   ]
  },
  {
   "cell_type": "code",
   "execution_count": null,
   "id": "1e3aa569",
   "metadata": {},
   "outputs": [],
   "source": []
  },
  {
   "cell_type": "code",
   "execution_count": null,
   "id": "52b0bc14",
   "metadata": {},
   "outputs": [],
   "source": [
    "# Take marks from students as input:\n",
    "# 1) >= 90 --> A\n",
    "# 2) >=80 and < 90 --> B\n",
    "# 3) else C grade"
   ]
  },
  {
   "cell_type": "code",
   "execution_count": 18,
   "id": "b124830e",
   "metadata": {},
   "outputs": [
    {
     "name": "stdout",
     "output_type": "stream",
     "text": [
      "B\n"
     ]
    }
   ],
   "source": [
    "marks = 89\n",
    "if marks >=90:\n",
    "    print(\"A\")\n",
    "elif marks >=80 and marks < 90 :\n",
    "    print(\"B\")\n",
    "else :\n",
    "    print(\"C\")"
   ]
  },
  {
   "cell_type": "code",
   "execution_count": null,
   "id": "5a147452",
   "metadata": {},
   "outputs": [],
   "source": []
  },
  {
   "cell_type": "code",
   "execution_count": null,
   "id": "dcccf8cf",
   "metadata": {},
   "outputs": [],
   "source": []
  },
  {
   "cell_type": "code",
   "execution_count": 22,
   "id": "cf5eb276",
   "metadata": {},
   "outputs": [],
   "source": [
    "# marks as input!\n",
    "# 1) >= 90 --> A\n",
    "# 2) >=80 and < 90 --> B\n",
    "# 3) >=70 and < 80 --> C \n",
    "# 4) >=60 and < 70 --> D\n",
    "# 5) >=50 and < 60 --> E\n",
    "# 6) FAIL\n",
    "# 7) enter -ve marks, prints - marks cannot be -ve!"
   ]
  },
  {
   "cell_type": "code",
   "execution_count": 24,
   "id": "f7514de0",
   "metadata": {},
   "outputs": [
    {
     "name": "stdout",
     "output_type": "stream",
     "text": [
      "FAIL\n"
     ]
    }
   ],
   "source": [
    "marks = 10\n",
    "if marks < 0 :\n",
    "    print(\"Enter Valid Marks\")\n",
    "elif marks >=90 : \n",
    "    print(\"A\")\n",
    "elif marks >=80 and marks < 90 :\n",
    "    print(\"B\")\n",
    "elif marks >=70 and marks < 80 :\n",
    "    print(\"C\")\n",
    "elif marks >=60 and marks < 60 :\n",
    "    print(\"D\")\n",
    "elif marks >=50 and marks < 60 :\n",
    "    print(\"E\")\n",
    "else :\n",
    "    print(\"FAIL\")"
   ]
  },
  {
   "cell_type": "code",
   "execution_count": null,
   "id": "64532f3c",
   "metadata": {},
   "outputs": [],
   "source": []
  },
  {
   "cell_type": "code",
   "execution_count": null,
   "id": "fa27bb03",
   "metadata": {},
   "outputs": [],
   "source": []
  },
  {
   "cell_type": "code",
   "execution_count": 32,
   "id": "ba636c6e",
   "metadata": {},
   "outputs": [],
   "source": [
    "# 2 inputs from the user!\n",
    "# a. Gender - male/female\n",
    "# b. age    - 0 to 99\n",
    "\n",
    "# Combined Conditions:\n",
    "# 1) Age >= 65 and Male   --> Senior Male\n",
    "# 2) Age >= 65 and Female --> Senior Female\n",
    "# 3) \"Citizen\""
   ]
  },
  {
   "cell_type": "code",
   "execution_count": 36,
   "id": "01830a82",
   "metadata": {},
   "outputs": [],
   "source": [
    "gender = 'MaLe'\n",
    "age = 70"
   ]
  },
  {
   "cell_type": "code",
   "execution_count": 40,
   "id": "7f503b31",
   "metadata": {},
   "outputs": [
    {
     "name": "stdout",
     "output_type": "stream",
     "text": [
      "Sr Male\n"
     ]
    }
   ],
   "source": [
    "if age < 0 :\n",
    "    print(\"Enter Valid Age\")\n",
    "elif gender.lower() == 'male' and age >= 65 :\n",
    "    print(\"Sr Male\")\n",
    "elif gender.lower() == 'female' and age >= 65 :\n",
    "    print(\"Sr Female\")\n",
    "else :\n",
    "    print(\"Citizen\")"
   ]
  },
  {
   "cell_type": "code",
   "execution_count": null,
   "id": "f2044110",
   "metadata": {},
   "outputs": [],
   "source": []
  }
 ],
 "metadata": {
  "kernelspec": {
   "display_name": "Python 3 (ipykernel)",
   "language": "python",
   "name": "python3"
  },
  "language_info": {
   "codemirror_mode": {
    "name": "ipython",
    "version": 3
   },
   "file_extension": ".py",
   "mimetype": "text/x-python",
   "name": "python",
   "nbconvert_exporter": "python",
   "pygments_lexer": "ipython3",
   "version": "3.9.7"
  }
 },
 "nbformat": 4,
 "nbformat_minor": 5
}
