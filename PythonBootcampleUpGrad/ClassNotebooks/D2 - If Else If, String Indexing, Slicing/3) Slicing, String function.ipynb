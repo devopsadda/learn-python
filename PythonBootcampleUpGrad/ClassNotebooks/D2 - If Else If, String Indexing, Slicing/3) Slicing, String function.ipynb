{
 "cells": [
  {
   "cell_type": "code",
   "execution_count": 1,
   "id": "a32727d8",
   "metadata": {},
   "outputs": [],
   "source": [
    "# indexing : fetching single element"
   ]
  },
  {
   "cell_type": "code",
   "execution_count": 2,
   "id": "c6f87b5f",
   "metadata": {},
   "outputs": [],
   "source": [
    "# slicing  : fetch one or more than one element"
   ]
  },
  {
   "cell_type": "code",
   "execution_count": 3,
   "id": "6e418a3e",
   "metadata": {},
   "outputs": [],
   "source": [
    "a = 'upgrad'"
   ]
  },
  {
   "cell_type": "code",
   "execution_count": 4,
   "id": "0a32a93a",
   "metadata": {},
   "outputs": [],
   "source": [
    "# u --> 0\n",
    "# p --> 1\n",
    "# g --> 2\n",
    "# r --> 3\n",
    "# a --> 4\n",
    "# d --> 5"
   ]
  },
  {
   "cell_type": "code",
   "execution_count": 5,
   "id": "4d0b6657",
   "metadata": {},
   "outputs": [
    {
     "data": {
      "text/plain": [
       "'u'"
      ]
     },
     "execution_count": 5,
     "metadata": {},
     "output_type": "execute_result"
    }
   ],
   "source": [
    "a[0]"
   ]
  },
  {
   "cell_type": "code",
   "execution_count": 6,
   "id": "f7c60821",
   "metadata": {},
   "outputs": [
    {
     "data": {
      "text/plain": [
       "'upgr'"
      ]
     },
     "execution_count": 6,
     "metadata": {},
     "output_type": "execute_result"
    }
   ],
   "source": [
    "# start:stop!\n",
    "a[0:4] #0,1,2,3 | 4(not included)"
   ]
  },
  {
   "cell_type": "code",
   "execution_count": 7,
   "id": "26666a7d",
   "metadata": {},
   "outputs": [
    {
     "name": "stdout",
     "output_type": "stream",
     "text": [
      "upgrad\n"
     ]
    }
   ],
   "source": [
    "print(a)"
   ]
  },
  {
   "cell_type": "code",
   "execution_count": 8,
   "id": "efb78b01",
   "metadata": {},
   "outputs": [
    {
     "data": {
      "text/plain": [
       "'gra'"
      ]
     },
     "execution_count": 8,
     "metadata": {},
     "output_type": "execute_result"
    }
   ],
   "source": [
    "a[2:5] #2,3,4th index!"
   ]
  },
  {
   "cell_type": "code",
   "execution_count": null,
   "id": "04c7b0df",
   "metadata": {},
   "outputs": [],
   "source": []
  },
  {
   "cell_type": "code",
   "execution_count": 9,
   "id": "886f278f",
   "metadata": {},
   "outputs": [],
   "source": [
    "a2 = \"bootcamp\""
   ]
  },
  {
   "cell_type": "code",
   "execution_count": 10,
   "id": "df2f1ebd",
   "metadata": {},
   "outputs": [
    {
     "data": {
      "text/plain": [
       "'boo'"
      ]
     },
     "execution_count": 10,
     "metadata": {},
     "output_type": "execute_result"
    }
   ],
   "source": [
    "a2[:3] #start from 0,1,2 (3 not incl.)"
   ]
  },
  {
   "cell_type": "code",
   "execution_count": null,
   "id": "adca0153",
   "metadata": {},
   "outputs": [],
   "source": []
  },
  {
   "cell_type": "code",
   "execution_count": 11,
   "id": "e3eb6673",
   "metadata": {},
   "outputs": [],
   "source": [
    "a3 = \"python\""
   ]
  },
  {
   "cell_type": "code",
   "execution_count": 12,
   "id": "88c27849",
   "metadata": {},
   "outputs": [
    {
     "data": {
      "text/plain": [
       "'thon'"
      ]
     },
     "execution_count": 12,
     "metadata": {},
     "output_type": "execute_result"
    }
   ],
   "source": [
    "a3[2:]\n",
    "# start from 2nd index, everything!"
   ]
  },
  {
   "cell_type": "code",
   "execution_count": null,
   "id": "cae3e5b7",
   "metadata": {},
   "outputs": [],
   "source": []
  },
  {
   "cell_type": "code",
   "execution_count": 14,
   "id": "e4137b16",
   "metadata": {},
   "outputs": [],
   "source": [
    "a4 = \"learning\""
   ]
  },
  {
   "cell_type": "code",
   "execution_count": 15,
   "id": "70b46872",
   "metadata": {},
   "outputs": [
    {
     "data": {
      "text/plain": [
       "'in'"
      ]
     },
     "execution_count": 15,
     "metadata": {},
     "output_type": "execute_result"
    }
   ],
   "source": [
    "# start:stop\n",
    "a4[5:7] #5,6 index only!"
   ]
  },
  {
   "cell_type": "code",
   "execution_count": null,
   "id": "d3b185f7",
   "metadata": {},
   "outputs": [],
   "source": []
  },
  {
   "cell_type": "code",
   "execution_count": 16,
   "id": "d621d04f",
   "metadata": {},
   "outputs": [],
   "source": [
    "a5 = '01234567'"
   ]
  },
  {
   "cell_type": "code",
   "execution_count": 17,
   "id": "3d416668",
   "metadata": {},
   "outputs": [
    {
     "data": {
      "text/plain": [
       "'0123456'"
      ]
     },
     "execution_count": 17,
     "metadata": {},
     "output_type": "execute_result"
    }
   ],
   "source": [
    "# start:stop\n",
    "a5[0:7] #0,1,2,3,4,5,6 index in the output!"
   ]
  },
  {
   "cell_type": "code",
   "execution_count": 18,
   "id": "2156a23a",
   "metadata": {},
   "outputs": [
    {
     "data": {
      "text/plain": [
       "'0246'"
      ]
     },
     "execution_count": 18,
     "metadata": {},
     "output_type": "execute_result"
    }
   ],
   "source": [
    "# start:stop:step\n",
    "a5[0:7:2]"
   ]
  },
  {
   "cell_type": "code",
   "execution_count": null,
   "id": "7cf930f7",
   "metadata": {},
   "outputs": [],
   "source": []
  },
  {
   "cell_type": "code",
   "execution_count": 19,
   "id": "c5ac16d5",
   "metadata": {},
   "outputs": [],
   "source": [
    "a6 = \"Ankita\""
   ]
  },
  {
   "cell_type": "code",
   "execution_count": 20,
   "id": "870bbe69",
   "metadata": {},
   "outputs": [
    {
     "data": {
      "text/plain": [
       "'Anki'"
      ]
     },
     "execution_count": 20,
     "metadata": {},
     "output_type": "execute_result"
    }
   ],
   "source": [
    "# start:stop\n",
    "a6[0:4]"
   ]
  },
  {
   "cell_type": "code",
   "execution_count": 21,
   "id": "e893b34f",
   "metadata": {},
   "outputs": [
    {
     "data": {
      "text/plain": [
       "'Ak'"
      ]
     },
     "execution_count": 21,
     "metadata": {},
     "output_type": "execute_result"
    }
   ],
   "source": [
    "# start:stop:step\n",
    "a6[0:4:2]"
   ]
  },
  {
   "cell_type": "code",
   "execution_count": null,
   "id": "816fcda8",
   "metadata": {},
   "outputs": [],
   "source": []
  },
  {
   "cell_type": "code",
   "execution_count": 36,
   "id": "c74e58b9",
   "metadata": {},
   "outputs": [],
   "source": [
    "# Encrypted string : \n",
    "x = \"dienldhiia\"\n",
    "\n",
    "# This string contains a very popular\n",
    "# city and country name\n",
    "# print --> city,country"
   ]
  },
  {
   "cell_type": "code",
   "execution_count": 37,
   "id": "ed62f4ab",
   "metadata": {},
   "outputs": [
    {
     "data": {
      "text/plain": [
       "'delhi'"
      ]
     },
     "execution_count": 37,
     "metadata": {},
     "output_type": "execute_result"
    }
   ],
   "source": [
    "x[0:10:2]"
   ]
  },
  {
   "cell_type": "code",
   "execution_count": 38,
   "id": "51dff966",
   "metadata": {},
   "outputs": [
    {
     "data": {
      "text/plain": [
       "'india'"
      ]
     },
     "execution_count": 38,
     "metadata": {},
     "output_type": "execute_result"
    }
   ],
   "source": [
    "x[1:10:2]"
   ]
  },
  {
   "cell_type": "code",
   "execution_count": null,
   "id": "100d4465",
   "metadata": {},
   "outputs": [],
   "source": []
  },
  {
   "cell_type": "code",
   "execution_count": 40,
   "id": "51cb16fc",
   "metadata": {},
   "outputs": [
    {
     "data": {
      "text/plain": [
       "'delhi,india'"
      ]
     },
     "execution_count": 40,
     "metadata": {},
     "output_type": "execute_result"
    }
   ],
   "source": [
    "x[0:10:2] + \",\" + x[1:10:2]"
   ]
  },
  {
   "cell_type": "code",
   "execution_count": null,
   "id": "f0669f0a",
   "metadata": {},
   "outputs": [],
   "source": []
  },
  {
   "cell_type": "code",
   "execution_count": 28,
   "id": "8a610600",
   "metadata": {},
   "outputs": [],
   "source": [
    "x = 123"
   ]
  },
  {
   "cell_type": "code",
   "execution_count": 31,
   "id": "45b46497",
   "metadata": {},
   "outputs": [
    {
     "data": {
      "text/plain": [
       "1"
      ]
     },
     "execution_count": 31,
     "metadata": {},
     "output_type": "execute_result"
    }
   ],
   "source": [
    "int(str(x)[0])"
   ]
  },
  {
   "cell_type": "code",
   "execution_count": 32,
   "id": "3f464ecc",
   "metadata": {},
   "outputs": [
    {
     "data": {
      "text/plain": [
       "2"
      ]
     },
     "execution_count": 32,
     "metadata": {},
     "output_type": "execute_result"
    }
   ],
   "source": [
    "int(str(x)[1])"
   ]
  },
  {
   "cell_type": "code",
   "execution_count": 34,
   "id": "8d8991ca",
   "metadata": {},
   "outputs": [
    {
     "data": {
      "text/plain": [
       "3"
      ]
     },
     "execution_count": 34,
     "metadata": {},
     "output_type": "execute_result"
    }
   ],
   "source": [
    "int(str(x)[2])"
   ]
  },
  {
   "cell_type": "code",
   "execution_count": null,
   "id": "dd2b7f30",
   "metadata": {},
   "outputs": [],
   "source": []
  },
  {
   "cell_type": "code",
   "execution_count": 41,
   "id": "662c5ce7",
   "metadata": {},
   "outputs": [],
   "source": [
    "x1 = \"upgrad\"\n",
    "x2 = \"  upgrad\"\n",
    "x3 = \"upgrad           \""
   ]
  },
  {
   "cell_type": "code",
   "execution_count": 43,
   "id": "58093dfc",
   "metadata": {},
   "outputs": [
    {
     "data": {
      "text/plain": [
       "6"
      ]
     },
     "execution_count": 43,
     "metadata": {},
     "output_type": "execute_result"
    }
   ],
   "source": [
    "len(x1)"
   ]
  },
  {
   "cell_type": "code",
   "execution_count": 44,
   "id": "e80d09b0",
   "metadata": {},
   "outputs": [
    {
     "data": {
      "text/plain": [
       "8"
      ]
     },
     "execution_count": 44,
     "metadata": {},
     "output_type": "execute_result"
    }
   ],
   "source": [
    "len(x2)"
   ]
  },
  {
   "cell_type": "code",
   "execution_count": 45,
   "id": "8ad89cb1",
   "metadata": {},
   "outputs": [
    {
     "data": {
      "text/plain": [
       "17"
      ]
     },
     "execution_count": 45,
     "metadata": {},
     "output_type": "execute_result"
    }
   ],
   "source": [
    "len(x3)"
   ]
  },
  {
   "cell_type": "code",
   "execution_count": 46,
   "id": "7286d324",
   "metadata": {},
   "outputs": [
    {
     "data": {
      "text/plain": [
       "False"
      ]
     },
     "execution_count": 46,
     "metadata": {},
     "output_type": "execute_result"
    }
   ],
   "source": [
    "x1 == x2 == x3"
   ]
  },
  {
   "cell_type": "code",
   "execution_count": 47,
   "id": "20fb3796",
   "metadata": {},
   "outputs": [],
   "source": [
    "# .strip() --> removes leading & trailing spaces!"
   ]
  },
  {
   "cell_type": "code",
   "execution_count": 49,
   "id": "a67a84fe",
   "metadata": {},
   "outputs": [
    {
     "data": {
      "text/plain": [
       "'  upgrad'"
      ]
     },
     "execution_count": 49,
     "metadata": {},
     "output_type": "execute_result"
    }
   ],
   "source": [
    "x2"
   ]
  },
  {
   "cell_type": "code",
   "execution_count": 50,
   "id": "33e8d558",
   "metadata": {},
   "outputs": [
    {
     "data": {
      "text/plain": [
       "'upgrad'"
      ]
     },
     "execution_count": 50,
     "metadata": {},
     "output_type": "execute_result"
    }
   ],
   "source": [
    "x2.strip()"
   ]
  },
  {
   "cell_type": "code",
   "execution_count": 51,
   "id": "7fb699f1",
   "metadata": {},
   "outputs": [
    {
     "data": {
      "text/plain": [
       "8"
      ]
     },
     "execution_count": 51,
     "metadata": {},
     "output_type": "execute_result"
    }
   ],
   "source": [
    "len(x2)"
   ]
  },
  {
   "cell_type": "code",
   "execution_count": 52,
   "id": "7aaef115",
   "metadata": {},
   "outputs": [
    {
     "data": {
      "text/plain": [
       "6"
      ]
     },
     "execution_count": 52,
     "metadata": {},
     "output_type": "execute_result"
    }
   ],
   "source": [
    "len(x2.strip())"
   ]
  },
  {
   "cell_type": "code",
   "execution_count": 53,
   "id": "a94f1eca",
   "metadata": {},
   "outputs": [
    {
     "data": {
      "text/plain": [
       "True"
      ]
     },
     "execution_count": 53,
     "metadata": {},
     "output_type": "execute_result"
    }
   ],
   "source": [
    "x1 == x2.strip() == x3.strip()"
   ]
  },
  {
   "cell_type": "code",
   "execution_count": null,
   "id": "d711cd31",
   "metadata": {},
   "outputs": [],
   "source": []
  },
  {
   "cell_type": "code",
   "execution_count": 55,
   "id": "42b11a85",
   "metadata": {},
   "outputs": [],
   "source": [
    "x4 = \"      hello world             \"\n",
    "# x4.strip()\n",
    "# a) \"hello world\"\n",
    "# b) \"helloworld\""
   ]
  },
  {
   "cell_type": "code",
   "execution_count": 56,
   "id": "865a59ad",
   "metadata": {},
   "outputs": [
    {
     "data": {
      "text/plain": [
       "'hello world'"
      ]
     },
     "execution_count": 56,
     "metadata": {},
     "output_type": "execute_result"
    }
   ],
   "source": [
    "# a :\n",
    "x4.strip()"
   ]
  },
  {
   "cell_type": "code",
   "execution_count": null,
   "id": "a00afd39",
   "metadata": {},
   "outputs": [],
   "source": []
  },
  {
   "cell_type": "code",
   "execution_count": null,
   "id": "620b8f04",
   "metadata": {},
   "outputs": [],
   "source": []
  },
  {
   "cell_type": "code",
   "execution_count": 57,
   "id": "b01c0b59",
   "metadata": {},
   "outputs": [],
   "source": [
    "x5 = \"aupgrada\""
   ]
  },
  {
   "cell_type": "code",
   "execution_count": 58,
   "id": "82ec5e9b",
   "metadata": {},
   "outputs": [
    {
     "data": {
      "text/plain": [
       "'aupgrada'"
      ]
     },
     "execution_count": 58,
     "metadata": {},
     "output_type": "execute_result"
    }
   ],
   "source": [
    "x5.strip()"
   ]
  },
  {
   "cell_type": "code",
   "execution_count": 59,
   "id": "bd6f7bda",
   "metadata": {},
   "outputs": [
    {
     "data": {
      "text/plain": [
       "'upgrad'"
      ]
     },
     "execution_count": 59,
     "metadata": {},
     "output_type": "execute_result"
    }
   ],
   "source": [
    "x5.strip('a')"
   ]
  },
  {
   "cell_type": "code",
   "execution_count": null,
   "id": "6cbceebe",
   "metadata": {},
   "outputs": [],
   "source": []
  },
  {
   "cell_type": "code",
   "execution_count": null,
   "id": "962903f7",
   "metadata": {},
   "outputs": [],
   "source": []
  }
 ],
 "metadata": {
  "kernelspec": {
   "display_name": "Python 3 (ipykernel)",
   "language": "python",
   "name": "python3"
  },
  "language_info": {
   "codemirror_mode": {
    "name": "ipython",
    "version": 3
   },
   "file_extension": ".py",
   "mimetype": "text/x-python",
   "name": "python",
   "nbconvert_exporter": "python",
   "pygments_lexer": "ipython3",
   "version": "3.9.7"
  }
 },
 "nbformat": 4,
 "nbformat_minor": 5
}
