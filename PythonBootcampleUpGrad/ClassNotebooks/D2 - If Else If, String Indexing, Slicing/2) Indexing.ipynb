{
 "cells": [
  {
   "cell_type": "code",
   "execution_count": 2,
   "id": "19e409e5",
   "metadata": {},
   "outputs": [
    {
     "name": "stdout",
     "output_type": "stream",
     "text": [
      "upgrad\n"
     ]
    }
   ],
   "source": [
    "a = \"upgrad\"\n",
    "print(a)"
   ]
  },
  {
   "cell_type": "code",
   "execution_count": 3,
   "id": "151840eb",
   "metadata": {},
   "outputs": [
    {
     "name": "stdout",
     "output_type": "stream",
     "text": [
      "upgrad\n"
     ]
    }
   ],
   "source": [
    "a2 = 'upgrad'\n",
    "print(a2)"
   ]
  },
  {
   "cell_type": "code",
   "execution_count": null,
   "id": "2542e085",
   "metadata": {},
   "outputs": [],
   "source": []
  },
  {
   "cell_type": "code",
   "execution_count": 4,
   "id": "1f799708",
   "metadata": {},
   "outputs": [
    {
     "name": "stdout",
     "output_type": "stream",
     "text": [
      "bootcamp\n"
     ]
    }
   ],
   "source": [
    "a = \"bootcamp\"\n",
    "print(a)"
   ]
  },
  {
   "cell_type": "code",
   "execution_count": 5,
   "id": "b1296496",
   "metadata": {},
   "outputs": [
    {
     "data": {
      "text/plain": [
       "8"
      ]
     },
     "execution_count": 5,
     "metadata": {},
     "output_type": "execute_result"
    }
   ],
   "source": [
    "len(a)\n",
    "# number of characters in a"
   ]
  },
  {
   "cell_type": "code",
   "execution_count": 27,
   "id": "9ab40a78",
   "metadata": {},
   "outputs": [],
   "source": [
    "# b --> 0\n",
    "# o --> 1\n",
    "# o --> 2\n",
    "# t --> 3\n",
    "# c --> 4\n",
    "# a --> 5\n",
    "# m --> 6\n",
    "# p --> 7"
   ]
  },
  {
   "cell_type": "code",
   "execution_count": 28,
   "id": "bc643217",
   "metadata": {},
   "outputs": [],
   "source": [
    "# indexing : fetching single element!"
   ]
  },
  {
   "cell_type": "code",
   "execution_count": 29,
   "id": "53fa9355",
   "metadata": {},
   "outputs": [
    {
     "name": "stdout",
     "output_type": "stream",
     "text": [
      "bootcamp\n"
     ]
    }
   ],
   "source": [
    "print(a)"
   ]
  },
  {
   "cell_type": "code",
   "execution_count": 30,
   "id": "bf96b2cc",
   "metadata": {},
   "outputs": [
    {
     "data": {
      "text/plain": [
       "'b'"
      ]
     },
     "execution_count": 30,
     "metadata": {},
     "output_type": "execute_result"
    }
   ],
   "source": [
    "a[0]"
   ]
  },
  {
   "cell_type": "code",
   "execution_count": 31,
   "id": "95e8a31f",
   "metadata": {},
   "outputs": [
    {
     "data": {
      "text/plain": [
       "'o'"
      ]
     },
     "execution_count": 31,
     "metadata": {},
     "output_type": "execute_result"
    }
   ],
   "source": [
    "a[2]"
   ]
  },
  {
   "cell_type": "code",
   "execution_count": 32,
   "id": "e6978657",
   "metadata": {},
   "outputs": [],
   "source": [
    "inp = \"batch74\""
   ]
  },
  {
   "cell_type": "code",
   "execution_count": 33,
   "id": "1b99f122",
   "metadata": {},
   "outputs": [
    {
     "data": {
      "text/plain": [
       "'h'"
      ]
     },
     "execution_count": 33,
     "metadata": {},
     "output_type": "execute_result"
    }
   ],
   "source": [
    "inp[4]"
   ]
  },
  {
   "cell_type": "code",
   "execution_count": 34,
   "id": "02241cab",
   "metadata": {},
   "outputs": [
    {
     "data": {
      "text/plain": [
       "'t'"
      ]
     },
     "execution_count": 34,
     "metadata": {},
     "output_type": "execute_result"
    }
   ],
   "source": [
    "inp[2]"
   ]
  },
  {
   "cell_type": "code",
   "execution_count": null,
   "id": "51d9b9d6",
   "metadata": {},
   "outputs": [],
   "source": []
  },
  {
   "cell_type": "code",
   "execution_count": 35,
   "id": "bd0cee2f",
   "metadata": {},
   "outputs": [],
   "source": [
    "x = \"upgrad\""
   ]
  },
  {
   "cell_type": "code",
   "execution_count": 36,
   "id": "e4e52830",
   "metadata": {},
   "outputs": [],
   "source": [
    "# u --> 0 --> -6\n",
    "# p --> 1 --> -5\n",
    "# g --> 2 --> -4\n",
    "# r --> 3 --> -3\n",
    "# a --> 4 --> -2\n",
    "# d --> 5 --> -1"
   ]
  },
  {
   "cell_type": "code",
   "execution_count": 37,
   "id": "3e04b58a",
   "metadata": {},
   "outputs": [
    {
     "data": {
      "text/plain": [
       "'a'"
      ]
     },
     "execution_count": 37,
     "metadata": {},
     "output_type": "execute_result"
    }
   ],
   "source": [
    "x[-2]"
   ]
  },
  {
   "cell_type": "code",
   "execution_count": 38,
   "id": "63692156",
   "metadata": {},
   "outputs": [
    {
     "data": {
      "text/plain": [
       "'r'"
      ]
     },
     "execution_count": 38,
     "metadata": {},
     "output_type": "execute_result"
    }
   ],
   "source": [
    "x[3]"
   ]
  },
  {
   "cell_type": "code",
   "execution_count": 39,
   "id": "d88ce633",
   "metadata": {},
   "outputs": [
    {
     "data": {
      "text/plain": [
       "True"
      ]
     },
     "execution_count": 39,
     "metadata": {},
     "output_type": "execute_result"
    }
   ],
   "source": [
    "x[4] == x[-2]"
   ]
  },
  {
   "cell_type": "code",
   "execution_count": null,
   "id": "1ad8989c",
   "metadata": {},
   "outputs": [],
   "source": []
  },
  {
   "cell_type": "code",
   "execution_count": null,
   "id": "69d62dae",
   "metadata": {},
   "outputs": [],
   "source": []
  },
  {
   "cell_type": "code",
   "execution_count": 40,
   "id": "b0b0bae0",
   "metadata": {},
   "outputs": [],
   "source": [
    "x2 = \"Learning Python\""
   ]
  },
  {
   "cell_type": "code",
   "execution_count": 41,
   "id": "f1c1c488",
   "metadata": {},
   "outputs": [
    {
     "data": {
      "text/plain": [
       "' '"
      ]
     },
     "execution_count": 41,
     "metadata": {},
     "output_type": "execute_result"
    }
   ],
   "source": [
    "x2[8]"
   ]
  },
  {
   "cell_type": "code",
   "execution_count": null,
   "id": "dc7a5ce3",
   "metadata": {},
   "outputs": [],
   "source": []
  },
  {
   "cell_type": "code",
   "execution_count": 42,
   "id": "cc537ffe",
   "metadata": {},
   "outputs": [],
   "source": [
    "x3 = \"diwqeugfi2gr8gri3fg82g4fib3qfig4f\""
   ]
  },
  {
   "cell_type": "code",
   "execution_count": 43,
   "id": "3fab9d1a",
   "metadata": {},
   "outputs": [
    {
     "data": {
      "text/plain": [
       "'f'"
      ]
     },
     "execution_count": 43,
     "metadata": {},
     "output_type": "execute_result"
    }
   ],
   "source": [
    "x3[-1]"
   ]
  },
  {
   "cell_type": "code",
   "execution_count": 48,
   "id": "bb267831",
   "metadata": {},
   "outputs": [
    {
     "data": {
      "text/plain": [
       "'f'"
      ]
     },
     "execution_count": 48,
     "metadata": {},
     "output_type": "execute_result"
    }
   ],
   "source": [
    "x3[(len(x3)-1)]"
   ]
  },
  {
   "cell_type": "code",
   "execution_count": null,
   "id": "46da9062",
   "metadata": {},
   "outputs": [],
   "source": []
  },
  {
   "cell_type": "code",
   "execution_count": null,
   "id": "7009eac2",
   "metadata": {},
   "outputs": [],
   "source": []
  },
  {
   "cell_type": "code",
   "execution_count": 44,
   "id": "73ff855d",
   "metadata": {},
   "outputs": [],
   "source": [
    "x4 = \"abc\""
   ]
  },
  {
   "cell_type": "code",
   "execution_count": 45,
   "id": "aa220d4e",
   "metadata": {},
   "outputs": [
    {
     "data": {
      "text/plain": [
       "2"
      ]
     },
     "execution_count": 45,
     "metadata": {},
     "output_type": "execute_result"
    }
   ],
   "source": [
    "len(x4)-1"
   ]
  },
  {
   "cell_type": "code",
   "execution_count": 46,
   "id": "ce629de0",
   "metadata": {},
   "outputs": [
    {
     "data": {
      "text/plain": [
       "'c'"
      ]
     },
     "execution_count": 46,
     "metadata": {},
     "output_type": "execute_result"
    }
   ],
   "source": [
    "x4[2]"
   ]
  },
  {
   "cell_type": "code",
   "execution_count": 47,
   "id": "de8e3dba",
   "metadata": {},
   "outputs": [
    {
     "data": {
      "text/plain": [
       "'c'"
      ]
     },
     "execution_count": 47,
     "metadata": {},
     "output_type": "execute_result"
    }
   ],
   "source": [
    "x4[len(x4)-1]"
   ]
  },
  {
   "cell_type": "code",
   "execution_count": null,
   "id": "cc148f25",
   "metadata": {},
   "outputs": [],
   "source": []
  },
  {
   "cell_type": "code",
   "execution_count": null,
   "id": "758b6a3d",
   "metadata": {},
   "outputs": [],
   "source": []
  },
  {
   "cell_type": "code",
   "execution_count": 49,
   "id": "3fdf2016",
   "metadata": {},
   "outputs": [],
   "source": [
    "x5 = \"upgradschool\""
   ]
  },
  {
   "cell_type": "code",
   "execution_count": 50,
   "id": "418afdb1",
   "metadata": {},
   "outputs": [
    {
     "ename": "IndexError",
     "evalue": "string index out of range",
     "output_type": "error",
     "traceback": [
      "\u001b[0;31m---------------------------------------------------------------------------\u001b[0m",
      "\u001b[0;31mIndexError\u001b[0m                                Traceback (most recent call last)",
      "\u001b[0;32m/var/folders/dq/452wvgp96nv2qcc3dn0dv8240000gn/T/ipykernel_15573/1711663779.py\u001b[0m in \u001b[0;36m<module>\u001b[0;34m\u001b[0m\n\u001b[0;32m----> 1\u001b[0;31m \u001b[0mx5\u001b[0m\u001b[0;34m[\u001b[0m\u001b[0;36m100\u001b[0m\u001b[0;34m]\u001b[0m\u001b[0;34m\u001b[0m\u001b[0;34m\u001b[0m\u001b[0m\n\u001b[0m",
      "\u001b[0;31mIndexError\u001b[0m: string index out of range"
     ]
    }
   ],
   "source": [
    "x5[100]"
   ]
  },
  {
   "cell_type": "code",
   "execution_count": null,
   "id": "dd24f2c9",
   "metadata": {},
   "outputs": [],
   "source": []
  },
  {
   "cell_type": "code",
   "execution_count": 53,
   "id": "3f1df923",
   "metadata": {},
   "outputs": [],
   "source": [
    "x6 = \"keshav\""
   ]
  },
  {
   "cell_type": "code",
   "execution_count": 55,
   "id": "73894222",
   "metadata": {},
   "outputs": [
    {
     "data": {
      "text/plain": [
       "'v'"
      ]
     },
     "execution_count": 55,
     "metadata": {},
     "output_type": "execute_result"
    }
   ],
   "source": [
    "x6[len(x6)-1]\n",
    "# x6[6-1] = x6[5] = \"v\""
   ]
  },
  {
   "cell_type": "code",
   "execution_count": null,
   "id": "6269bc7b",
   "metadata": {},
   "outputs": [],
   "source": []
  },
  {
   "cell_type": "code",
   "execution_count": null,
   "id": "2b166eb9",
   "metadata": {},
   "outputs": [],
   "source": []
  },
  {
   "cell_type": "code",
   "execution_count": 57,
   "id": "2beba69e",
   "metadata": {},
   "outputs": [],
   "source": [
    "x = 123\n",
    "# o/p : 6 --> (1+2+3)\n",
    "# YOU CANNOT CHANGE THE INPUT!"
   ]
  },
  {
   "cell_type": "code",
   "execution_count": 61,
   "id": "0e6cd75d",
   "metadata": {},
   "outputs": [
    {
     "data": {
      "text/plain": [
       "1"
      ]
     },
     "execution_count": 61,
     "metadata": {},
     "output_type": "execute_result"
    }
   ],
   "source": [
    "int(str(x)[0])"
   ]
  },
  {
   "cell_type": "code",
   "execution_count": 62,
   "id": "20a03deb",
   "metadata": {},
   "outputs": [
    {
     "data": {
      "text/plain": [
       "2"
      ]
     },
     "execution_count": 62,
     "metadata": {},
     "output_type": "execute_result"
    }
   ],
   "source": [
    "int(str(x)[1])"
   ]
  },
  {
   "cell_type": "code",
   "execution_count": 65,
   "id": "cd346421",
   "metadata": {},
   "outputs": [
    {
     "data": {
      "text/plain": [
       "3"
      ]
     },
     "execution_count": 65,
     "metadata": {},
     "output_type": "execute_result"
    }
   ],
   "source": [
    "int(str(x)[2])"
   ]
  },
  {
   "cell_type": "code",
   "execution_count": 66,
   "id": "75b7bfe3",
   "metadata": {},
   "outputs": [
    {
     "data": {
      "text/plain": [
       "6"
      ]
     },
     "execution_count": 66,
     "metadata": {},
     "output_type": "execute_result"
    }
   ],
   "source": [
    "int(str(x)[0])+int(str(x)[1])+int(str(x)[2])"
   ]
  },
  {
   "cell_type": "code",
   "execution_count": null,
   "id": "bc4da722",
   "metadata": {},
   "outputs": [],
   "source": []
  }
 ],
 "metadata": {
  "kernelspec": {
   "display_name": "Python 3 (ipykernel)",
   "language": "python",
   "name": "python3"
  },
  "language_info": {
   "codemirror_mode": {
    "name": "ipython",
    "version": 3
   },
   "file_extension": ".py",
   "mimetype": "text/x-python",
   "name": "python",
   "nbconvert_exporter": "python",
   "pygments_lexer": "ipython3",
   "version": "3.9.7"
  }
 },
 "nbformat": 4,
 "nbformat_minor": 5
}
