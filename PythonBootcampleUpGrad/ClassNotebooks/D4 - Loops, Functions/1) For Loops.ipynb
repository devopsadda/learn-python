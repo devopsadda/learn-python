{
 "cells": [
  {
   "cell_type": "markdown",
   "id": "75bb8ae5",
   "metadata": {},
   "source": [
    "Loops are a way to repeatedly execute some code! Today we will look at two types of loops:\n",
    "\n",
    "1. for loop\n",
    "2. while loop\n",
    "\n",
    "\n",
    "\n",
    "The for loop specifies\n",
    "\n",
    "the variable name to use (in this case, planet)\n",
    "the set of values to loop over (in this case, planets)\n",
    "You use the word \"in\" to link them together.\n",
    "\n",
    "The object to the right of the \"in\" can be any object that supports iteration. Basically, if it can be thought of as a group of things, you can probably loop over it. In addition to lists, we can iterate over the elements of a tuple"
   ]
  },
  {
   "cell_type": "markdown",
   "id": "83c602c5",
   "metadata": {},
   "source": [
    "# 1. For Loop\n",
    "\n",
    "### loops over a range of something - numbers, string, list, etc. \n",
    "\n",
    "- You know exactly the number of steps\n",
    "- You won't fall into an infinite\n",
    "- The index variable is automatically incremented\n",
    "\n",
    "The for loop specifies\n",
    "\n",
    "- the variable name to use\n",
    "- the set of values to loop over \n",
    "- You use the word \"in\" to link them together.\n",
    "\n",
    "The object to the right of the \"in\" can be any object that supports iteration. Basically, if it can be thought of as a group of things, you can probably loop over it. In addition to lists, we can iterate over the elements of a tuple\n",
    "\n",
    "Let's try some examples! "
   ]
  },
  {
   "cell_type": "code",
   "execution_count": 1,
   "id": "d01fcf77",
   "metadata": {},
   "outputs": [],
   "source": [
    "s = 'upgrad'"
   ]
  },
  {
   "cell_type": "code",
   "execution_count": 2,
   "id": "e2d92dce",
   "metadata": {},
   "outputs": [
    {
     "name": "stdout",
     "output_type": "stream",
     "text": [
      "u\n",
      "p\n",
      "g\n",
      "r\n",
      "a\n",
      "d\n"
     ]
    }
   ],
   "source": [
    "for i in s :\n",
    "    print(i)"
   ]
  },
  {
   "cell_type": "code",
   "execution_count": 3,
   "id": "b9cc7dce",
   "metadata": {},
   "outputs": [
    {
     "name": "stdout",
     "output_type": "stream",
     "text": [
      "u\n",
      "p\n",
      "g\n",
      "r\n",
      "a\n",
      "d\n"
     ]
    }
   ],
   "source": [
    "for a in s:\n",
    "    print(a)"
   ]
  },
  {
   "cell_type": "code",
   "execution_count": 4,
   "id": "90b3050f",
   "metadata": {},
   "outputs": [
    {
     "name": "stdout",
     "output_type": "stream",
     "text": [
      "u\n",
      "p\n",
      "g\n",
      "r\n",
      "a\n",
      "d\n"
     ]
    }
   ],
   "source": [
    "for x in s :\n",
    "    print(x)"
   ]
  },
  {
   "cell_type": "code",
   "execution_count": 5,
   "id": "75af9382",
   "metadata": {},
   "outputs": [
    {
     "name": "stdout",
     "output_type": "stream",
     "text": [
      "u\n",
      "p\n",
      "g\n",
      "r\n",
      "a\n",
      "d\n"
     ]
    }
   ],
   "source": [
    "for yz in s :\n",
    "    print(yz)"
   ]
  },
  {
   "cell_type": "code",
   "execution_count": null,
   "id": "8e33e73d",
   "metadata": {},
   "outputs": [],
   "source": []
  },
  {
   "cell_type": "code",
   "execution_count": 8,
   "id": "616452c3",
   "metadata": {},
   "outputs": [],
   "source": [
    "s2 = \"upgrad\""
   ]
  },
  {
   "cell_type": "code",
   "execution_count": 10,
   "id": "d597dc42",
   "metadata": {},
   "outputs": [
    {
     "name": "stdout",
     "output_type": "stream",
     "text": [
      "u -- U\n",
      "p -- P\n",
      "g -- G\n",
      "r -- R\n",
      "a -- A\n",
      "d -- D\n"
     ]
    }
   ],
   "source": [
    "for i in s2 :\n",
    "    print(i,\"--\",i.upper())"
   ]
  },
  {
   "cell_type": "code",
   "execution_count": 13,
   "id": "26cef8a3",
   "metadata": {},
   "outputs": [
    {
     "data": {
      "text/plain": [
       "'upgrad'"
      ]
     },
     "execution_count": 13,
     "metadata": {},
     "output_type": "execute_result"
    }
   ],
   "source": [
    "s2"
   ]
  },
  {
   "cell_type": "code",
   "execution_count": 11,
   "id": "f50cb078",
   "metadata": {},
   "outputs": [
    {
     "name": "stdout",
     "output_type": "stream",
     "text": [
      "u -- ua\n",
      "p -- pa\n",
      "g -- ga\n",
      "r -- ra\n",
      "a -- aa\n",
      "d -- da\n"
     ]
    }
   ],
   "source": [
    "for x in s2 :\n",
    "    print(x,\"--\",x+'a')"
   ]
  },
  {
   "cell_type": "code",
   "execution_count": null,
   "id": "0945a198",
   "metadata": {},
   "outputs": [],
   "source": []
  },
  {
   "cell_type": "code",
   "execution_count": 14,
   "id": "468f776c",
   "metadata": {},
   "outputs": [],
   "source": [
    "l = [1,2,3,4]"
   ]
  },
  {
   "cell_type": "code",
   "execution_count": 15,
   "id": "5faf5fb5",
   "metadata": {},
   "outputs": [
    {
     "name": "stdout",
     "output_type": "stream",
     "text": [
      "1\n",
      "2\n",
      "3\n",
      "4\n"
     ]
    }
   ],
   "source": [
    "for i in l:\n",
    "    print(i)"
   ]
  },
  {
   "cell_type": "code",
   "execution_count": 16,
   "id": "4854fb79",
   "metadata": {},
   "outputs": [
    {
     "name": "stdout",
     "output_type": "stream",
     "text": [
      "1 square is - 1\n",
      "2 square is - 4\n",
      "3 square is - 9\n",
      "4 square is - 16\n"
     ]
    }
   ],
   "source": [
    "for i in l :\n",
    "    print(i,\"square is -\",i**2)"
   ]
  },
  {
   "cell_type": "code",
   "execution_count": null,
   "id": "6fdb8bc5",
   "metadata": {},
   "outputs": [],
   "source": []
  },
  {
   "cell_type": "code",
   "execution_count": 17,
   "id": "4b143266",
   "metadata": {},
   "outputs": [
    {
     "data": {
      "text/plain": [
       "[1, 2, 3, 4]"
      ]
     },
     "execution_count": 17,
     "metadata": {},
     "output_type": "execute_result"
    }
   ],
   "source": [
    "l"
   ]
  },
  {
   "cell_type": "code",
   "execution_count": 18,
   "id": "74e7ac27",
   "metadata": {},
   "outputs": [
    {
     "name": "stdout",
     "output_type": "stream",
     "text": [
      "2\n",
      "3\n",
      "4\n",
      "5\n"
     ]
    }
   ],
   "source": [
    "for i in l :\n",
    "    print(i+1)"
   ]
  },
  {
   "cell_type": "code",
   "execution_count": 19,
   "id": "d3a8e47a",
   "metadata": {},
   "outputs": [],
   "source": [
    "# what if i want to save the output as a list?"
   ]
  },
  {
   "cell_type": "code",
   "execution_count": 20,
   "id": "7d0fb7ba",
   "metadata": {},
   "outputs": [
    {
     "data": {
      "text/plain": [
       "[1, 2, 3, 4]"
      ]
     },
     "execution_count": 20,
     "metadata": {},
     "output_type": "execute_result"
    }
   ],
   "source": [
    "l"
   ]
  },
  {
   "cell_type": "code",
   "execution_count": 22,
   "id": "aab7a707",
   "metadata": {},
   "outputs": [
    {
     "name": "stdout",
     "output_type": "stream",
     "text": [
      "[2, 3, 4, 5]\n"
     ]
    }
   ],
   "source": [
    "nu = []\n",
    "for i in l:\n",
    "    nu.append(i+1)\n",
    "print(nu)"
   ]
  },
  {
   "cell_type": "code",
   "execution_count": 23,
   "id": "9983c53f",
   "metadata": {},
   "outputs": [],
   "source": [
    "# 1. [].append(1+1) = [2]\n",
    "# 2. [2].append(2+1) = [2,3]\n",
    "# 3. [2,3].append(3+1) = [2,3,4]\n",
    "# 4. [2,3,4].append(4+1) = [2,3,4,5]"
   ]
  },
  {
   "cell_type": "code",
   "execution_count": null,
   "id": "f276ceff",
   "metadata": {},
   "outputs": [],
   "source": []
  },
  {
   "cell_type": "code",
   "execution_count": 25,
   "id": "0a4b28ab",
   "metadata": {},
   "outputs": [],
   "source": [
    "x2 = [1,2,3]\n",
    "# sum : 6!! (Write a loop!)"
   ]
  },
  {
   "cell_type": "code",
   "execution_count": 26,
   "id": "f554a6a5",
   "metadata": {},
   "outputs": [
    {
     "name": "stdout",
     "output_type": "stream",
     "text": [
      "6\n"
     ]
    }
   ],
   "source": [
    "s = 0 \n",
    "for i in x2:\n",
    "    s = s + i #s += i \n",
    "print(s)"
   ]
  },
  {
   "cell_type": "code",
   "execution_count": 28,
   "id": "f075463c",
   "metadata": {},
   "outputs": [],
   "source": [
    "# 1) s = s + i = 0 + 1 = 1\n",
    "# 2) s = 1 + 2 = 3\n",
    "# 3) s = 3 + 3 = 6"
   ]
  },
  {
   "cell_type": "code",
   "execution_count": null,
   "id": "057876c6",
   "metadata": {},
   "outputs": [],
   "source": []
  },
  {
   "cell_type": "code",
   "execution_count": 31,
   "id": "d794582d",
   "metadata": {},
   "outputs": [
    {
     "name": "stdout",
     "output_type": "stream",
     "text": [
      "45\n"
     ]
    }
   ],
   "source": [
    "x2 = [1,2,3,4,5,6,7,8,9]\n",
    "s = 0 \n",
    "for i in x2:\n",
    "    s = s + i # s += i \n",
    "print(s)"
   ]
  },
  {
   "cell_type": "code",
   "execution_count": null,
   "id": "5833e585",
   "metadata": {},
   "outputs": [],
   "source": []
  },
  {
   "cell_type": "code",
   "execution_count": 33,
   "id": "e78d151d",
   "metadata": {},
   "outputs": [],
   "source": [
    "x3 = [1,2,3,4]\n",
    "# output : 24 (4*3*2*1) (Write a loop!)"
   ]
  },
  {
   "cell_type": "code",
   "execution_count": 36,
   "id": "01a6e00f",
   "metadata": {},
   "outputs": [
    {
     "name": "stdout",
     "output_type": "stream",
     "text": [
      "24\n"
     ]
    }
   ],
   "source": [
    "s = 1\n",
    "for i in x3 :\n",
    "    s = s*i\n",
    "print(s)"
   ]
  },
  {
   "cell_type": "code",
   "execution_count": 38,
   "id": "eced654d",
   "metadata": {},
   "outputs": [
    {
     "name": "stdout",
     "output_type": "stream",
     "text": [
      "479001600\n"
     ]
    }
   ],
   "source": [
    "x3 = [1,2,3,4,5,6,7,8,9,10,11,12]\n",
    "s = 1\n",
    "for i in x3 :\n",
    "    s = s*i\n",
    "print(s)"
   ]
  },
  {
   "cell_type": "code",
   "execution_count": null,
   "id": "58f3704f",
   "metadata": {},
   "outputs": [],
   "source": []
  },
  {
   "cell_type": "code",
   "execution_count": 39,
   "id": "7bddad16",
   "metadata": {},
   "outputs": [
    {
     "name": "stdout",
     "output_type": "stream",
     "text": [
      "0\n",
      "1\n",
      "2\n",
      "3\n",
      "4\n"
     ]
    }
   ],
   "source": [
    "for i in range(5): #0 to n-1\n",
    "    print(i)"
   ]
  },
  {
   "cell_type": "code",
   "execution_count": 40,
   "id": "0c2e959f",
   "metadata": {},
   "outputs": [
    {
     "name": "stdout",
     "output_type": "stream",
     "text": [
      "0\n",
      "1\n",
      "2\n",
      "3\n",
      "4\n",
      "5\n",
      "6\n",
      "7\n",
      "8\n",
      "9\n"
     ]
    }
   ],
   "source": [
    "for i in range(10): #0 to n-1\n",
    "    print(i)"
   ]
  },
  {
   "cell_type": "code",
   "execution_count": 42,
   "id": "d4fb0bfa",
   "metadata": {},
   "outputs": [
    {
     "name": "stdout",
     "output_type": "stream",
     "text": [
      "2\n",
      "3\n",
      "4\n",
      "5\n"
     ]
    }
   ],
   "source": [
    "for i in range(2,6):\n",
    "    print(i)"
   ]
  },
  {
   "cell_type": "code",
   "execution_count": 43,
   "id": "a1146f42",
   "metadata": {},
   "outputs": [],
   "source": [
    "x = [0,1,2,3,4,5,6,7]"
   ]
  },
  {
   "cell_type": "code",
   "execution_count": 46,
   "id": "187ccec7",
   "metadata": {},
   "outputs": [
    {
     "name": "stdout",
     "output_type": "stream",
     "text": [
      "3\n",
      "4\n",
      "5\n"
     ]
    }
   ],
   "source": [
    "for i in range(3,6):\n",
    "    print(x[i])"
   ]
  },
  {
   "cell_type": "code",
   "execution_count": 45,
   "id": "2312ed49",
   "metadata": {},
   "outputs": [
    {
     "name": "stdout",
     "output_type": "stream",
     "text": [
      "3\n",
      "4\n",
      "5\n"
     ]
    }
   ],
   "source": [
    "# i --> 3,4,5\n",
    "print(x[3])\n",
    "print(x[4])\n",
    "print(x[5])"
   ]
  },
  {
   "cell_type": "code",
   "execution_count": null,
   "id": "6df201ef",
   "metadata": {},
   "outputs": [],
   "source": []
  },
  {
   "cell_type": "code",
   "execution_count": null,
   "id": "1173dc6f",
   "metadata": {},
   "outputs": [],
   "source": []
  },
  {
   "cell_type": "code",
   "execution_count": 47,
   "id": "e759f8a8",
   "metadata": {},
   "outputs": [],
   "source": [
    "x2 = [20,30,40,10,20,30,-100,\"upgrad\"]"
   ]
  },
  {
   "cell_type": "code",
   "execution_count": 57,
   "id": "b813aca3",
   "metadata": {},
   "outputs": [
    {
     "name": "stdout",
     "output_type": "stream",
     "text": [
      "3\n",
      "4\n"
     ]
    }
   ],
   "source": [
    "for i in range(3,5):\n",
    "    print(i)"
   ]
  },
  {
   "cell_type": "code",
   "execution_count": 58,
   "id": "de3fc139",
   "metadata": {},
   "outputs": [
    {
     "name": "stdout",
     "output_type": "stream",
     "text": [
      "[10, 20]\n"
     ]
    }
   ],
   "source": [
    "print(x2[3:5])"
   ]
  },
  {
   "cell_type": "code",
   "execution_count": 59,
   "id": "38372d81",
   "metadata": {},
   "outputs": [
    {
     "name": "stdout",
     "output_type": "stream",
     "text": [
      "[20, 30]\n"
     ]
    }
   ],
   "source": [
    "print(x2[4:6])"
   ]
  },
  {
   "cell_type": "code",
   "execution_count": 49,
   "id": "2c586389",
   "metadata": {},
   "outputs": [
    {
     "name": "stdout",
     "output_type": "stream",
     "text": [
      "[10, 20]\n",
      "[20, 30]\n"
     ]
    }
   ],
   "source": [
    "for i in range(3,5):\n",
    "    print(x2[i:i+2])"
   ]
  },
  {
   "cell_type": "code",
   "execution_count": 50,
   "id": "90a0f61d",
   "metadata": {},
   "outputs": [],
   "source": [
    "# # i --> \n",
    "# 1. 3 --> print(x2[3:5])\n",
    "# 2. 4 --> print(x2[4:6])"
   ]
  },
  {
   "cell_type": "code",
   "execution_count": 51,
   "id": "cca22ade",
   "metadata": {},
   "outputs": [
    {
     "name": "stdout",
     "output_type": "stream",
     "text": [
      "[10, 20]\n",
      "[20, 30]\n"
     ]
    }
   ],
   "source": [
    "print(x2[3:5])\n",
    "print(x2[4:6])"
   ]
  },
  {
   "cell_type": "code",
   "execution_count": null,
   "id": "96473242",
   "metadata": {},
   "outputs": [],
   "source": []
  },
  {
   "cell_type": "code",
   "execution_count": null,
   "id": "9dead971",
   "metadata": {},
   "outputs": [],
   "source": []
  },
  {
   "cell_type": "code",
   "execution_count": 56,
   "id": "9efe3164",
   "metadata": {},
   "outputs": [
    {
     "name": "stdout",
     "output_type": "stream",
     "text": [
      "1 - 1\n",
      "3 - 9\n",
      "5 - 25\n",
      "7 - 49\n"
     ]
    }
   ],
   "source": [
    "x4 = [1,2,3,4,5,6,7]\n",
    "for i in x4[::2]:\n",
    "    print(i,\"-\",i**2)"
   ]
  },
  {
   "cell_type": "code",
   "execution_count": 55,
   "id": "164cb21a",
   "metadata": {},
   "outputs": [
    {
     "data": {
      "text/plain": [
       "[1, 3, 5, 7]"
      ]
     },
     "execution_count": 55,
     "metadata": {},
     "output_type": "execute_result"
    }
   ],
   "source": [
    "x4[::2]"
   ]
  },
  {
   "cell_type": "code",
   "execution_count": null,
   "id": "880c0257",
   "metadata": {},
   "outputs": [],
   "source": []
  }
 ],
 "metadata": {
  "kernelspec": {
   "display_name": "Python 3 (ipykernel)",
   "language": "python",
   "name": "python3"
  },
  "language_info": {
   "codemirror_mode": {
    "name": "ipython",
    "version": 3
   },
   "file_extension": ".py",
   "mimetype": "text/x-python",
   "name": "python",
   "nbconvert_exporter": "python",
   "pygments_lexer": "ipython3",
   "version": "3.9.7"
  }
 },
 "nbformat": 4,
 "nbformat_minor": 5
}
