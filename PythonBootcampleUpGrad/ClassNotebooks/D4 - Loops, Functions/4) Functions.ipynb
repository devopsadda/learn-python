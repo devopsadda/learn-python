{
 "cells": [
  {
   "cell_type": "code",
   "execution_count": 5,
   "id": "637a08ef",
   "metadata": {},
   "outputs": [],
   "source": [
    "# inbuilt functions :\n",
    "# len()\n",
    "# sum()\n",
    "# min()\n",
    "# max()\n",
    "# .upper()\n",
    "# .lower()"
   ]
  },
  {
   "cell_type": "code",
   "execution_count": 6,
   "id": "b01cf09a",
   "metadata": {},
   "outputs": [],
   "source": [
    "# Functions : Reusable piece of code!"
   ]
  },
  {
   "cell_type": "code",
   "execution_count": 7,
   "id": "adae8ff6",
   "metadata": {},
   "outputs": [],
   "source": [
    "def myfirstfunc(a,b):\n",
    "    return a**b"
   ]
  },
  {
   "cell_type": "code",
   "execution_count": 8,
   "id": "44ef2bf0",
   "metadata": {},
   "outputs": [
    {
     "data": {
      "text/plain": [
       "25"
      ]
     },
     "execution_count": 8,
     "metadata": {},
     "output_type": "execute_result"
    }
   ],
   "source": [
    "myfirstfunc(5,2) #5**2 = 5^2 = 25"
   ]
  },
  {
   "cell_type": "code",
   "execution_count": null,
   "id": "60d342d2",
   "metadata": {},
   "outputs": [],
   "source": []
  },
  {
   "cell_type": "code",
   "execution_count": 9,
   "id": "e94ce653",
   "metadata": {},
   "outputs": [],
   "source": [
    "def mysecfunc(a,b,c):\n",
    "    a1 = a**2\n",
    "    b1 = b/2\n",
    "    c1 = a*b*c\n",
    "    z = a1+b1+c1\n",
    "    return z"
   ]
  },
  {
   "cell_type": "code",
   "execution_count": 11,
   "id": "9f6bfc8c",
   "metadata": {},
   "outputs": [],
   "source": [
    "newvar = mysecfunc(2,4,6)"
   ]
  },
  {
   "cell_type": "code",
   "execution_count": 12,
   "id": "f4492672",
   "metadata": {},
   "outputs": [
    {
     "name": "stdout",
     "output_type": "stream",
     "text": [
      "54.0\n"
     ]
    }
   ],
   "source": [
    "print(newvar)"
   ]
  },
  {
   "cell_type": "code",
   "execution_count": null,
   "id": "afe87823",
   "metadata": {},
   "outputs": [],
   "source": []
  },
  {
   "cell_type": "code",
   "execution_count": null,
   "id": "cf158018",
   "metadata": {},
   "outputs": [],
   "source": []
  },
  {
   "cell_type": "code",
   "execution_count": 14,
   "id": "dbb84ea4",
   "metadata": {},
   "outputs": [],
   "source": [
    "def mysecfunc(a,b,c):\n",
    "    a1 = a**2\n",
    "    b1 = b/2\n",
    "    c1 = a*b*c\n",
    "    z = a1+b1+c1\n",
    "    print(z)"
   ]
  },
  {
   "cell_type": "code",
   "execution_count": 15,
   "id": "424a109d",
   "metadata": {},
   "outputs": [
    {
     "name": "stdout",
     "output_type": "stream",
     "text": [
      "54.0\n"
     ]
    }
   ],
   "source": [
    "newvar2 = mysecfunc(2,4,6)"
   ]
  },
  {
   "cell_type": "code",
   "execution_count": 16,
   "id": "253acb69",
   "metadata": {},
   "outputs": [],
   "source": [
    "newvar2"
   ]
  },
  {
   "cell_type": "code",
   "execution_count": null,
   "id": "90df220b",
   "metadata": {},
   "outputs": [],
   "source": []
  },
  {
   "cell_type": "code",
   "execution_count": 17,
   "id": "0e2cb322",
   "metadata": {},
   "outputs": [],
   "source": [
    "def mythirdfunc(a,b,c):\n",
    "    return a+b,b+c"
   ]
  },
  {
   "cell_type": "code",
   "execution_count": 18,
   "id": "a9f7f5c2",
   "metadata": {},
   "outputs": [
    {
     "data": {
      "text/plain": [
       "(3, 5)"
      ]
     },
     "execution_count": 18,
     "metadata": {},
     "output_type": "execute_result"
    }
   ],
   "source": [
    "mythirdfunc(1,2,3)"
   ]
  },
  {
   "cell_type": "code",
   "execution_count": 19,
   "id": "212d4a34",
   "metadata": {},
   "outputs": [],
   "source": [
    "x1,x2=mythirdfunc(1,2,3)"
   ]
  },
  {
   "cell_type": "code",
   "execution_count": 20,
   "id": "96755e41",
   "metadata": {},
   "outputs": [
    {
     "name": "stdout",
     "output_type": "stream",
     "text": [
      "3\n"
     ]
    }
   ],
   "source": [
    "print(x1)"
   ]
  },
  {
   "cell_type": "code",
   "execution_count": 21,
   "id": "8bbd8da1",
   "metadata": {},
   "outputs": [
    {
     "name": "stdout",
     "output_type": "stream",
     "text": [
      "5\n"
     ]
    }
   ],
   "source": [
    "print(x2)"
   ]
  },
  {
   "cell_type": "code",
   "execution_count": null,
   "id": "ad0d7a78",
   "metadata": {},
   "outputs": [],
   "source": []
  },
  {
   "cell_type": "code",
   "execution_count": 24,
   "id": "862f2149",
   "metadata": {},
   "outputs": [],
   "source": [
    "# Write a func which tells if a number is even?\n",
    "# True/False"
   ]
  },
  {
   "cell_type": "code",
   "execution_count": 27,
   "id": "998b71f8",
   "metadata": {},
   "outputs": [],
   "source": [
    "def iseven(a):\n",
    "    return a%2 == 0"
   ]
  },
  {
   "cell_type": "code",
   "execution_count": 28,
   "id": "741de013",
   "metadata": {},
   "outputs": [
    {
     "data": {
      "text/plain": [
       "True"
      ]
     },
     "execution_count": 28,
     "metadata": {},
     "output_type": "execute_result"
    }
   ],
   "source": [
    "iseven(10)"
   ]
  },
  {
   "cell_type": "code",
   "execution_count": 29,
   "id": "8726da10",
   "metadata": {},
   "outputs": [
    {
     "data": {
      "text/plain": [
       "False"
      ]
     },
     "execution_count": 29,
     "metadata": {},
     "output_type": "execute_result"
    }
   ],
   "source": [
    "iseven(11)"
   ]
  },
  {
   "cell_type": "code",
   "execution_count": null,
   "id": "b3f987bd",
   "metadata": {},
   "outputs": [],
   "source": []
  },
  {
   "cell_type": "code",
   "execution_count": null,
   "id": "1dd01406",
   "metadata": {},
   "outputs": [],
   "source": []
  },
  {
   "cell_type": "code",
   "execution_count": null,
   "id": "75db071b",
   "metadata": {},
   "outputs": [],
   "source": []
  },
  {
   "cell_type": "code",
   "execution_count": 31,
   "id": "64a53ab7",
   "metadata": {},
   "outputs": [],
   "source": [
    "# Filter and Square Odd Numbers\n",
    "# Input: [1, 2, 3, 4, 5]\n",
    "# Output: [1, 9, 25]"
   ]
  },
  {
   "cell_type": "code",
   "execution_count": 34,
   "id": "43914767",
   "metadata": {},
   "outputs": [],
   "source": [
    "inp = [1, 2, 3, 4, 5]\n",
    "odd = []\n",
    "for i in inp :\n",
    "    if i%2 != 0 :\n",
    "        odd.append(i**2)"
   ]
  },
  {
   "cell_type": "code",
   "execution_count": 35,
   "id": "8a308cc0",
   "metadata": {},
   "outputs": [
    {
     "data": {
      "text/plain": [
       "[1, 9, 25]"
      ]
     },
     "execution_count": 35,
     "metadata": {},
     "output_type": "execute_result"
    }
   ],
   "source": [
    "odd"
   ]
  },
  {
   "cell_type": "code",
   "execution_count": 40,
   "id": "76c1e09d",
   "metadata": {},
   "outputs": [],
   "source": [
    "# function : \n",
    "def oddsq(inp):\n",
    "    odd = []\n",
    "    for i in inp :\n",
    "        if i%2 != 0 :\n",
    "            odd.append(i**2)\n",
    "    return odd"
   ]
  },
  {
   "cell_type": "code",
   "execution_count": 41,
   "id": "c847d87f",
   "metadata": {},
   "outputs": [
    {
     "data": {
      "text/plain": [
       "[1, 9, 25]"
      ]
     },
     "execution_count": 41,
     "metadata": {},
     "output_type": "execute_result"
    }
   ],
   "source": [
    "oddsq(inp)"
   ]
  },
  {
   "cell_type": "code",
   "execution_count": null,
   "id": "f43cc395",
   "metadata": {},
   "outputs": [],
   "source": []
  },
  {
   "cell_type": "code",
   "execution_count": null,
   "id": "b2e532dc",
   "metadata": {},
   "outputs": [],
   "source": []
  }
 ],
 "metadata": {
  "kernelspec": {
   "display_name": "Python 3 (ipykernel)",
   "language": "python",
   "name": "python3"
  },
  "language_info": {
   "codemirror_mode": {
    "name": "ipython",
    "version": 3
   },
   "file_extension": ".py",
   "mimetype": "text/x-python",
   "name": "python",
   "nbconvert_exporter": "python",
   "pygments_lexer": "ipython3",
   "version": "3.9.7"
  }
 },
 "nbformat": 4,
 "nbformat_minor": 5
}
