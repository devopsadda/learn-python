{
 "cells": [
  {
   "cell_type": "markdown",
   "id": "75bf4da1",
   "metadata": {},
   "source": [
    "# 2. While Loop\n",
    "\n",
    "### loops until a specific condition is satisified\n",
    "\n",
    "- You don't know the number of steps\n",
    "- You can fall into an infinite loop.\n",
    "- You must explicitely increment the index variable\n",
    "\n",
    "Let's try some examples!\n"
   ]
  },
  {
   "cell_type": "code",
   "execution_count": 1,
   "id": "457d9feb",
   "metadata": {},
   "outputs": [
    {
     "name": "stdout",
     "output_type": "stream",
     "text": [
      "1\n",
      "2\n",
      "3\n",
      "4\n",
      "5\n",
      "6\n"
     ]
    }
   ],
   "source": [
    "i = 1\n",
    "while (i<=6):\n",
    "    print(i)\n",
    "    i = i + 1"
   ]
  },
  {
   "cell_type": "code",
   "execution_count": null,
   "id": "00b4dea5",
   "metadata": {},
   "outputs": [],
   "source": []
  },
  {
   "cell_type": "code",
   "execution_count": 3,
   "id": "72599ba0",
   "metadata": {},
   "outputs": [],
   "source": [
    "# # infinite\n",
    "# i = -1\n",
    "# while (i<6) :\n",
    "#     print(i)\n",
    "#     i = i-1"
   ]
  },
  {
   "cell_type": "code",
   "execution_count": null,
   "id": "3ecb211d",
   "metadata": {},
   "outputs": [],
   "source": []
  },
  {
   "cell_type": "code",
   "execution_count": 4,
   "id": "e76786b8",
   "metadata": {},
   "outputs": [
    {
     "name": "stdout",
     "output_type": "stream",
     "text": [
      "-1\n",
      "-2\n",
      "-3\n",
      "-4\n",
      "-5\n",
      "-6\n",
      "-7\n",
      "-8\n",
      "-9\n"
     ]
    }
   ],
   "source": [
    "i = -1\n",
    "while (i<6) :\n",
    "    print(i)\n",
    "    i = i-1\n",
    "    if i == -10:\n",
    "        break"
   ]
  },
  {
   "cell_type": "code",
   "execution_count": 7,
   "id": "4e3f1f93",
   "metadata": {},
   "outputs": [],
   "source": [
    "# Transfer statement!!"
   ]
  },
  {
   "cell_type": "code",
   "execution_count": 8,
   "id": "0a79331e",
   "metadata": {},
   "outputs": [
    {
     "name": "stdout",
     "output_type": "stream",
     "text": [
      "0\n",
      "1\n"
     ]
    }
   ],
   "source": [
    "for i in range(5):\n",
    "    if i == 2 :\n",
    "        break\n",
    "    print(i)"
   ]
  },
  {
   "cell_type": "code",
   "execution_count": 10,
   "id": "93900a2e",
   "metadata": {},
   "outputs": [],
   "source": [
    "# break   : Exit the loop immediately."
   ]
  },
  {
   "cell_type": "code",
   "execution_count": null,
   "id": "bd159eed",
   "metadata": {},
   "outputs": [],
   "source": []
  },
  {
   "cell_type": "code",
   "execution_count": 13,
   "id": "0e15f75c",
   "metadata": {},
   "outputs": [
    {
     "name": "stdout",
     "output_type": "stream",
     "text": [
      "0\n",
      "1\n",
      "2\n",
      "3\n",
      "4\n"
     ]
    }
   ],
   "source": [
    "for i in range(5):\n",
    "    print(i)"
   ]
  },
  {
   "cell_type": "code",
   "execution_count": 11,
   "id": "5206eb2f",
   "metadata": {},
   "outputs": [
    {
     "name": "stdout",
     "output_type": "stream",
     "text": [
      "0\n",
      "1\n",
      "3\n",
      "4\n"
     ]
    }
   ],
   "source": [
    "for i in range(5):\n",
    "    if i == 2 :\n",
    "        continue\n",
    "    print(i)"
   ]
  },
  {
   "cell_type": "code",
   "execution_count": 18,
   "id": "3eda571a",
   "metadata": {},
   "outputs": [],
   "source": [
    "# continue : Skip to the next iteration of the loop."
   ]
  },
  {
   "cell_type": "code",
   "execution_count": null,
   "id": "2433fa2e",
   "metadata": {},
   "outputs": [],
   "source": []
  },
  {
   "cell_type": "code",
   "execution_count": 20,
   "id": "01b1649c",
   "metadata": {},
   "outputs": [],
   "source": [
    "# Q1 :\n",
    "x = [1,2,3,4,5,6]\n",
    "# a. create a new list which contains\n",
    "# only even elements [2,4,6]\n",
    "\n",
    "# b. Take sum of only even elements - 12 (2+4+6)\n",
    "\n",
    "# c. Multiply all even elements - 48 (2*4*6)"
   ]
  },
  {
   "cell_type": "code",
   "execution_count": 21,
   "id": "4557bbb7",
   "metadata": {},
   "outputs": [
    {
     "name": "stdout",
     "output_type": "stream",
     "text": [
      "[2, 4, 6]\n"
     ]
    }
   ],
   "source": [
    "# a) \n",
    "new_x = []\n",
    "for i in x:\n",
    "    if i % 2 == 0: \n",
    "        new_x.append(i)\n",
    "print(new_x)"
   ]
  },
  {
   "cell_type": "code",
   "execution_count": 24,
   "id": "1cba9978",
   "metadata": {},
   "outputs": [],
   "source": [
    "# a) with while :"
   ]
  },
  {
   "cell_type": "code",
   "execution_count": 35,
   "id": "eb177b9e",
   "metadata": {},
   "outputs": [
    {
     "name": "stdout",
     "output_type": "stream",
     "text": [
      "[2, 4, 6]\n"
     ]
    }
   ],
   "source": [
    "x = [1,2,3,4,5,6]\n",
    "new_x2 = []\n",
    "i = 0 \n",
    "\n",
    "while i < len(x):\n",
    "    if x[i]%2 == 0 :\n",
    "        new_x2.append(x[i])\n",
    "    i = i + 1\n",
    "\n",
    "print(new_x2)"
   ]
  },
  {
   "cell_type": "code",
   "execution_count": null,
   "id": "79d9e190",
   "metadata": {},
   "outputs": [],
   "source": []
  },
  {
   "cell_type": "code",
   "execution_count": null,
   "id": "1b1602f0",
   "metadata": {},
   "outputs": [],
   "source": []
  },
  {
   "cell_type": "code",
   "execution_count": null,
   "id": "92648a60",
   "metadata": {},
   "outputs": [],
   "source": []
  },
  {
   "cell_type": "code",
   "execution_count": 22,
   "id": "bcdb4b25",
   "metadata": {},
   "outputs": [
    {
     "name": "stdout",
     "output_type": "stream",
     "text": [
      "12\n"
     ]
    }
   ],
   "source": [
    "# b)\n",
    "s = 0 \n",
    "for i in new_x :\n",
    "    s = s + i \n",
    "print(s)"
   ]
  },
  {
   "cell_type": "code",
   "execution_count": 23,
   "id": "b2cfe763",
   "metadata": {},
   "outputs": [
    {
     "name": "stdout",
     "output_type": "stream",
     "text": [
      "48\n"
     ]
    }
   ],
   "source": [
    "# c)\n",
    "s = 1\n",
    "for i in new_x :\n",
    "    s = s * i \n",
    "print(s)"
   ]
  },
  {
   "cell_type": "code",
   "execution_count": null,
   "id": "aa91001b",
   "metadata": {},
   "outputs": [],
   "source": []
  },
  {
   "cell_type": "code",
   "execution_count": 28,
   "id": "5ad8bc84",
   "metadata": {},
   "outputs": [],
   "source": [
    "# Q2.\n",
    "x = [2,4,6,10]\n",
    "# write a code which prints missing\n",
    "# elements in the list"
   ]
  },
  {
   "cell_type": "code",
   "execution_count": 29,
   "id": "3c23eefc",
   "metadata": {},
   "outputs": [
    {
     "name": "stdout",
     "output_type": "stream",
     "text": [
      "3\n",
      "5\n",
      "7\n",
      "8\n",
      "9\n"
     ]
    }
   ],
   "source": [
    "for i in range(min(x), max(x)):\n",
    "    if i not in x :\n",
    "        print(i)"
   ]
  },
  {
   "cell_type": "code",
   "execution_count": null,
   "id": "e0812852",
   "metadata": {},
   "outputs": [],
   "source": []
  },
  {
   "cell_type": "code",
   "execution_count": null,
   "id": "8d136df9",
   "metadata": {},
   "outputs": [],
   "source": []
  },
  {
   "cell_type": "code",
   "execution_count": null,
   "id": "63cdd435",
   "metadata": {},
   "outputs": [],
   "source": []
  }
 ],
 "metadata": {
  "kernelspec": {
   "display_name": "Python 3 (ipykernel)",
   "language": "python",
   "name": "python3"
  },
  "language_info": {
   "codemirror_mode": {
    "name": "ipython",
    "version": 3
   },
   "file_extension": ".py",
   "mimetype": "text/x-python",
   "name": "python",
   "nbconvert_exporter": "python",
   "pygments_lexer": "ipython3",
   "version": "3.9.7"
  }
 },
 "nbformat": 4,
 "nbformat_minor": 5
}
