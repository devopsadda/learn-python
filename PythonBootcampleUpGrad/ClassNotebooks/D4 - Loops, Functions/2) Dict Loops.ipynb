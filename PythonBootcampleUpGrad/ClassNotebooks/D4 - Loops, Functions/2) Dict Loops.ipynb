{
 "cells": [
  {
   "cell_type": "code",
   "execution_count": 4,
   "id": "a79b5f65",
   "metadata": {},
   "outputs": [],
   "source": [
    "dct = {1:\"upgrad\",2:\"data\",3:\"science\",4:\"course\"}"
   ]
  },
  {
   "cell_type": "code",
   "execution_count": 5,
   "id": "382d4195",
   "metadata": {},
   "outputs": [
    {
     "data": {
      "text/plain": [
       "{1: 'upgrad', 2: 'data', 3: 'science', 4: 'course'}"
      ]
     },
     "execution_count": 5,
     "metadata": {},
     "output_type": "execute_result"
    }
   ],
   "source": [
    "dct"
   ]
  },
  {
   "cell_type": "code",
   "execution_count": 6,
   "id": "c81bf992",
   "metadata": {},
   "outputs": [
    {
     "data": {
      "text/plain": [
       "dict_keys([1, 2, 3, 4])"
      ]
     },
     "execution_count": 6,
     "metadata": {},
     "output_type": "execute_result"
    }
   ],
   "source": [
    "# keys :\n",
    "dct.keys()"
   ]
  },
  {
   "cell_type": "code",
   "execution_count": 7,
   "id": "08e270dc",
   "metadata": {},
   "outputs": [
    {
     "data": {
      "text/plain": [
       "dict_values(['upgrad', 'data', 'science', 'course'])"
      ]
     },
     "execution_count": 7,
     "metadata": {},
     "output_type": "execute_result"
    }
   ],
   "source": [
    "# values :\n",
    "dct.values()"
   ]
  },
  {
   "cell_type": "code",
   "execution_count": 8,
   "id": "52826e31",
   "metadata": {},
   "outputs": [
    {
     "data": {
      "text/plain": [
       "dict_items([(1, 'upgrad'), (2, 'data'), (3, 'science'), (4, 'course')])"
      ]
     },
     "execution_count": 8,
     "metadata": {},
     "output_type": "execute_result"
    }
   ],
   "source": [
    "# both :\n",
    "dct.items()"
   ]
  },
  {
   "cell_type": "code",
   "execution_count": null,
   "id": "e8249bb8",
   "metadata": {},
   "outputs": [],
   "source": []
  },
  {
   "cell_type": "code",
   "execution_count": 9,
   "id": "dadbfa04",
   "metadata": {},
   "outputs": [
    {
     "data": {
      "text/plain": [
       "{1: 'upgrad', 2: 'data', 3: 'science', 4: 'course'}"
      ]
     },
     "execution_count": 9,
     "metadata": {},
     "output_type": "execute_result"
    }
   ],
   "source": [
    "dct"
   ]
  },
  {
   "cell_type": "code",
   "execution_count": 10,
   "id": "d822e40c",
   "metadata": {},
   "outputs": [
    {
     "name": "stdout",
     "output_type": "stream",
     "text": [
      "1\n",
      "2\n",
      "3\n",
      "4\n"
     ]
    }
   ],
   "source": [
    "for i in dct:\n",
    "    print(i) #keys!!!!"
   ]
  },
  {
   "cell_type": "code",
   "execution_count": 11,
   "id": "7c4b92bd",
   "metadata": {},
   "outputs": [
    {
     "name": "stdout",
     "output_type": "stream",
     "text": [
      "1\n",
      "2\n",
      "3\n",
      "4\n"
     ]
    }
   ],
   "source": [
    "for i in dct.keys():\n",
    "    print(i)"
   ]
  },
  {
   "cell_type": "code",
   "execution_count": null,
   "id": "635f1688",
   "metadata": {},
   "outputs": [],
   "source": []
  },
  {
   "cell_type": "code",
   "execution_count": 12,
   "id": "496523ae",
   "metadata": {},
   "outputs": [
    {
     "data": {
      "text/plain": [
       "{1: 'upgrad', 2: 'data', 3: 'science', 4: 'course'}"
      ]
     },
     "execution_count": 12,
     "metadata": {},
     "output_type": "execute_result"
    }
   ],
   "source": [
    "dct"
   ]
  },
  {
   "cell_type": "code",
   "execution_count": 16,
   "id": "5e6bd5f4",
   "metadata": {},
   "outputs": [
    {
     "name": "stdout",
     "output_type": "stream",
     "text": [
      "upgrad\n",
      "data\n",
      "science\n",
      "course\n"
     ]
    }
   ],
   "source": [
    "for i in dct.values():\n",
    "    print(i)"
   ]
  },
  {
   "cell_type": "code",
   "execution_count": null,
   "id": "82785325",
   "metadata": {},
   "outputs": [],
   "source": []
  },
  {
   "cell_type": "code",
   "execution_count": 20,
   "id": "0bd75262",
   "metadata": {},
   "outputs": [
    {
     "data": {
      "text/plain": [
       "{1: 'upgrad', 2: 'data', 3: 'science', 4: 'course'}"
      ]
     },
     "execution_count": 20,
     "metadata": {},
     "output_type": "execute_result"
    }
   ],
   "source": [
    "dct"
   ]
  },
  {
   "cell_type": "code",
   "execution_count": 21,
   "id": "57f1a98f",
   "metadata": {},
   "outputs": [
    {
     "name": "stdout",
     "output_type": "stream",
     "text": [
      "(1, 'upgrad')\n",
      "(2, 'data')\n",
      "(3, 'science')\n",
      "(4, 'course')\n"
     ]
    }
   ],
   "source": [
    "for i in dct.items():\n",
    "    print(i)"
   ]
  },
  {
   "cell_type": "code",
   "execution_count": 22,
   "id": "1f315276",
   "metadata": {},
   "outputs": [
    {
     "name": "stdout",
     "output_type": "stream",
     "text": [
      "1 - upgrad\n",
      "2 - data\n",
      "3 - science\n",
      "4 - course\n"
     ]
    }
   ],
   "source": [
    "for i,j in dct.items():\n",
    "    print(i,\"-\",j)"
   ]
  },
  {
   "cell_type": "code",
   "execution_count": null,
   "id": "ae5e2613",
   "metadata": {},
   "outputs": [],
   "source": []
  },
  {
   "cell_type": "code",
   "execution_count": null,
   "id": "744b943f",
   "metadata": {},
   "outputs": [],
   "source": []
  },
  {
   "cell_type": "code",
   "execution_count": null,
   "id": "083c684e",
   "metadata": {},
   "outputs": [],
   "source": []
  },
  {
   "cell_type": "code",
   "execution_count": null,
   "id": "4fb7d3eb",
   "metadata": {},
   "outputs": [],
   "source": []
  },
  {
   "cell_type": "code",
   "execution_count": null,
   "id": "72f70c7f",
   "metadata": {},
   "outputs": [],
   "source": []
  }
 ],
 "metadata": {
  "kernelspec": {
   "display_name": "Python 3 (ipykernel)",
   "language": "python",
   "name": "python3"
  },
  "language_info": {
   "codemirror_mode": {
    "name": "ipython",
    "version": 3
   },
   "file_extension": ".py",
   "mimetype": "text/x-python",
   "name": "python",
   "nbconvert_exporter": "python",
   "pygments_lexer": "ipython3",
   "version": "3.9.7"
  }
 },
 "nbformat": 4,
 "nbformat_minor": 5
}
