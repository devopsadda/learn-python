{
 "cells": [
  {
   "cell_type": "code",
   "execution_count": 6,
   "id": "eb3d6a59",
   "metadata": {},
   "outputs": [],
   "source": [
    "# Question 1: Write a Python function to find the \n",
    "# second-largest number in a list of integers.\n",
    "input_numbers = [4,7,1,9,9,9,9,3,7,8,8,7,7]\n",
    "# o/p : 8"
   ]
  },
  {
   "cell_type": "code",
   "execution_count": 7,
   "id": "df87396f",
   "metadata": {},
   "outputs": [],
   "source": [
    "def sechigh(input_numbers):\n",
    "    return list(set(input_numbers))[-2]"
   ]
  },
  {
   "cell_type": "code",
   "execution_count": 8,
   "id": "df992efc",
   "metadata": {},
   "outputs": [
    {
     "data": {
      "text/plain": [
       "8"
      ]
     },
     "execution_count": 8,
     "metadata": {},
     "output_type": "execute_result"
    }
   ],
   "source": [
    "sechigh([4,7,1,9,9,9,9,3,7,8,8,7,7])"
   ]
  },
  {
   "cell_type": "code",
   "execution_count": null,
   "id": "d4f2f856",
   "metadata": {},
   "outputs": [],
   "source": []
  },
  {
   "cell_type": "code",
   "execution_count": 11,
   "id": "d9980d77",
   "metadata": {},
   "outputs": [],
   "source": [
    "# 2) Question: Calculate the sum of all numbers\n",
    "# in the list \n",
    "numbers = [1, 2, 3, 4, 5]\n",
    "# o/p : 15"
   ]
  },
  {
   "cell_type": "code",
   "execution_count": 15,
   "id": "d430aef4",
   "metadata": {},
   "outputs": [
    {
     "name": "stdout",
     "output_type": "stream",
     "text": [
      "15\n"
     ]
    }
   ],
   "source": [
    "# 1) Loops\n",
    "s_um = 0 \n",
    "for i in numbers:\n",
    "    s_um = s_um + i \n",
    "print(s_um)"
   ]
  },
  {
   "cell_type": "code",
   "execution_count": 17,
   "id": "d2048b76",
   "metadata": {},
   "outputs": [
    {
     "data": {
      "text/plain": [
       "15"
      ]
     },
     "execution_count": 17,
     "metadata": {},
     "output_type": "execute_result"
    }
   ],
   "source": [
    "# 2) Lambda func and reduce \n",
    "from functools import reduce\n",
    "f = lambda a,b : a+b\n",
    "reduce(f,numbers)"
   ]
  },
  {
   "cell_type": "code",
   "execution_count": 18,
   "id": "d8d47120",
   "metadata": {},
   "outputs": [
    {
     "data": {
      "text/plain": [
       "15"
      ]
     },
     "execution_count": 18,
     "metadata": {},
     "output_type": "execute_result"
    }
   ],
   "source": [
    "# 3) def func and reduce\n",
    "def add (x, y): \n",
    "    return x + y \n",
    "reduce (add, numbers)"
   ]
  },
  {
   "cell_type": "code",
   "execution_count": null,
   "id": "2d04b709",
   "metadata": {},
   "outputs": [],
   "source": []
  },
  {
   "cell_type": "code",
   "execution_count": null,
   "id": "9a819b31",
   "metadata": {},
   "outputs": [],
   "source": []
  },
  {
   "cell_type": "code",
   "execution_count": null,
   "id": "6427d8a5",
   "metadata": {},
   "outputs": [],
   "source": []
  },
  {
   "cell_type": "code",
   "execution_count": 22,
   "id": "0ea7ba2c",
   "metadata": {},
   "outputs": [],
   "source": [
    "# Write a for loop to compute the product (multiply)\n",
    "# of all **odd numbers** in a given list.\n",
    "numbers = [1, 2, 3, 4, 5, 6, 7]\n",
    "# o/p : 7*5*3*1 = 105"
   ]
  },
  {
   "cell_type": "code",
   "execution_count": 23,
   "id": "43981140",
   "metadata": {},
   "outputs": [
    {
     "name": "stdout",
     "output_type": "stream",
     "text": [
      "105\n"
     ]
    }
   ],
   "source": [
    "x=1\n",
    "for i in numbers:\n",
    "    if i%2 !=0:\n",
    "        x=i*x \n",
    "print(x)"
   ]
  },
  {
   "cell_type": "code",
   "execution_count": null,
   "id": "e927d5d3",
   "metadata": {},
   "outputs": [],
   "source": []
  },
  {
   "cell_type": "code",
   "execution_count": null,
   "id": "2c630ec8",
   "metadata": {},
   "outputs": [],
   "source": []
  },
  {
   "cell_type": "code",
   "execution_count": 33,
   "id": "77321023",
   "metadata": {},
   "outputs": [],
   "source": [
    "# Q: Write a function  that takes a list of numbers,\n",
    "# filters out the odd numbers, \n",
    "# squares the remaining even numbers,\n",
    "# and then sums them up. \n",
    "x = [1,2,3,4]"
   ]
  },
  {
   "cell_type": "code",
   "execution_count": 34,
   "id": "3f14ed65",
   "metadata": {},
   "outputs": [
    {
     "data": {
      "text/plain": [
       "20"
      ]
     },
     "execution_count": 34,
     "metadata": {},
     "output_type": "execute_result"
    }
   ],
   "source": [
    "# 1)  Use filter, map, and the reduce function from functools.\n",
    "# [2,4] --> [4,16] --> 20\n",
    "\n",
    "def mrf(x):\n",
    "    s1 = list(filter(lambda x:x%2==0,x))\n",
    "    s2 = list(map(lambda x:x**2,s1))\n",
    "    s3 = reduce(lambda x,y:x+y,s2)\n",
    "    return s3\n",
    "\n",
    "mrf(x)"
   ]
  },
  {
   "cell_type": "code",
   "execution_count": 35,
   "id": "1d3f60c1",
   "metadata": {},
   "outputs": [
    {
     "name": "stdout",
     "output_type": "stream",
     "text": [
      "20\n"
     ]
    }
   ],
   "source": [
    "# 2) Loops\n",
    "s = 0\n",
    "for i in x :\n",
    "    if i%2 == 0 :\n",
    "        s = s+i**2\n",
    "print(s)"
   ]
  },
  {
   "cell_type": "code",
   "execution_count": null,
   "id": "9d05da4e",
   "metadata": {},
   "outputs": [],
   "source": []
  },
  {
   "cell_type": "code",
   "execution_count": 36,
   "id": "be7b80b4",
   "metadata": {},
   "outputs": [],
   "source": [
    "# # Function\n",
    "# Write a function which calculates\n",
    "# factorial of a number\n",
    "# def , while\n",
    "\n",
    "# 5! = 5*4*3*2*1 = 120\n",
    "# Condition : < 0 -> enter correct number\n",
    "# <=1  --> 1\n",
    "# 5! = 5*4*3*2*1 = 120"
   ]
  },
  {
   "cell_type": "code",
   "execution_count": 37,
   "id": "1ba43fb6",
   "metadata": {},
   "outputs": [],
   "source": [
    "# 0!=1\n",
    "# 1!=1\n",
    "# 5! = 5*4*3*2*1 = 120"
   ]
  },
  {
   "cell_type": "code",
   "execution_count": 38,
   "id": "b99a924e",
   "metadata": {},
   "outputs": [],
   "source": [
    "def fact(x):\n",
    "    if x < 0 :\n",
    "        print(\"Enter correct number\")\n",
    "    elif x <=1 :\n",
    "        return 1\n",
    "    else :\n",
    "        result = 1\n",
    "        while x > 1 :\n",
    "            result = result*x\n",
    "            x = x - 1\n",
    "        return result"
   ]
  },
  {
   "cell_type": "code",
   "execution_count": 39,
   "id": "557e564a",
   "metadata": {},
   "outputs": [
    {
     "name": "stdout",
     "output_type": "stream",
     "text": [
      "Enter correct number\n"
     ]
    }
   ],
   "source": [
    "fact(-10)"
   ]
  },
  {
   "cell_type": "code",
   "execution_count": 40,
   "id": "4f2f559d",
   "metadata": {},
   "outputs": [
    {
     "data": {
      "text/plain": [
       "1"
      ]
     },
     "execution_count": 40,
     "metadata": {},
     "output_type": "execute_result"
    }
   ],
   "source": [
    "fact(1)"
   ]
  },
  {
   "cell_type": "code",
   "execution_count": 41,
   "id": "028dfe7b",
   "metadata": {},
   "outputs": [
    {
     "data": {
      "text/plain": [
       "120"
      ]
     },
     "execution_count": 41,
     "metadata": {},
     "output_type": "execute_result"
    }
   ],
   "source": [
    "fact(5)"
   ]
  },
  {
   "cell_type": "code",
   "execution_count": null,
   "id": "d0d0105f",
   "metadata": {},
   "outputs": [],
   "source": []
  },
  {
   "cell_type": "code",
   "execution_count": 47,
   "id": "5576864c",
   "metadata": {},
   "outputs": [],
   "source": [
    "# Q: Given a list of tuples where each\n",
    "# tuple contains a product name and its price, \n",
    "# Write a code  that returns a\n",
    "# list of products priced over $20.\n",
    "\n",
    "products = [('pen', 3.50), ('notebook', 25),\n",
    "            ('pencil', 2), ('bag', 50)]\n",
    "\n",
    "# Output: [('notebook', 25), ('bag', 50)]"
   ]
  },
  {
   "cell_type": "code",
   "execution_count": 48,
   "id": "4e235f59",
   "metadata": {},
   "outputs": [
    {
     "name": "stdout",
     "output_type": "stream",
     "text": [
      "[('notebook', 25), ('bag', 50)]\n"
     ]
    }
   ],
   "source": [
    "# 1) Loops\n",
    "p = []\n",
    "for i in products:\n",
    "    if i[1]>=20:\n",
    "        p.append(i)\n",
    "print(p)"
   ]
  },
  {
   "cell_type": "code",
   "execution_count": 54,
   "id": "84f39e7f",
   "metadata": {},
   "outputs": [
    {
     "name": "stdout",
     "output_type": "stream",
     "text": [
      "[('notebook', 25), ('bag', 50)]\n"
     ]
    }
   ],
   "source": [
    "p = []\n",
    "for i,j in products:\n",
    "    if j>=20:\n",
    "        p.append((i,j))\n",
    "print(p)"
   ]
  },
  {
   "cell_type": "code",
   "execution_count": null,
   "id": "db4bb5ac",
   "metadata": {},
   "outputs": [],
   "source": []
  },
  {
   "cell_type": "code",
   "execution_count": 49,
   "id": "17f60fe7",
   "metadata": {},
   "outputs": [
    {
     "data": {
      "text/plain": [
       "[('notebook', 25), ('bag', 50)]"
      ]
     },
     "execution_count": 49,
     "metadata": {},
     "output_type": "execute_result"
    }
   ],
   "source": [
    "# 2) List comprehension\n",
    "[i for i in products if i[1]>=20]"
   ]
  },
  {
   "cell_type": "code",
   "execution_count": 50,
   "id": "200f84d5",
   "metadata": {},
   "outputs": [
    {
     "data": {
      "text/plain": [
       "[('notebook', 25), ('bag', 50)]"
      ]
     },
     "execution_count": 50,
     "metadata": {},
     "output_type": "execute_result"
    }
   ],
   "source": [
    "# 3) filter\n",
    "list(filter(lambda x : x[1]>=20, products))"
   ]
  },
  {
   "cell_type": "code",
   "execution_count": null,
   "id": "5cb58b3e",
   "metadata": {},
   "outputs": [],
   "source": []
  },
  {
   "cell_type": "code",
   "execution_count": null,
   "id": "a9f509af",
   "metadata": {},
   "outputs": [],
   "source": []
  },
  {
   "cell_type": "code",
   "execution_count": 51,
   "id": "422eb4d2",
   "metadata": {},
   "outputs": [],
   "source": [
    "# Write a code that takes a \n",
    "# list of integers and returns the \n",
    "# first element that appears more than once. \n",
    "# If no element repeats, return None.\n",
    "\n",
    "# first_repeated_element([1, 3, 2, 5, 3, 4])\n",
    "# Output: 3\n",
    "\n",
    "# first_repeated_element([1, 2, 5, 3, 4])\n",
    "# Output: None"
   ]
  },
  {
   "cell_type": "code",
   "execution_count": 56,
   "id": "3a16b3ae",
   "metadata": {},
   "outputs": [],
   "source": [
    "x = [1, 3, 2, 5, 3, 4]"
   ]
  },
  {
   "cell_type": "code",
   "execution_count": 59,
   "id": "d37d1d9d",
   "metadata": {},
   "outputs": [],
   "source": [
    "def cnt(x):\n",
    "    for i in x:\n",
    "        if x.count(i)>1:\n",
    "            return i\n",
    "    return None"
   ]
  },
  {
   "cell_type": "code",
   "execution_count": 61,
   "id": "4104f461",
   "metadata": {},
   "outputs": [
    {
     "name": "stdout",
     "output_type": "stream",
     "text": [
      "3\n"
     ]
    }
   ],
   "source": [
    "print(cnt(x))"
   ]
  },
  {
   "cell_type": "code",
   "execution_count": 62,
   "id": "0764f551",
   "metadata": {
    "scrolled": true
   },
   "outputs": [
    {
     "name": "stdout",
     "output_type": "stream",
     "text": [
      "None\n"
     ]
    }
   ],
   "source": [
    "print(cnt([1,2,3]))"
   ]
  },
  {
   "cell_type": "code",
   "execution_count": null,
   "id": "bdcc9a64",
   "metadata": {},
   "outputs": [],
   "source": []
  },
  {
   "cell_type": "code",
   "execution_count": 75,
   "id": "5174bc76",
   "metadata": {},
   "outputs": [],
   "source": [
    "dct = {1:\"data\",2:\"science\"}\n",
    "# o/p : {\"data\":1, \"science\":2}"
   ]
  },
  {
   "cell_type": "code",
   "execution_count": 76,
   "id": "20f976f2",
   "metadata": {},
   "outputs": [
    {
     "name": "stdout",
     "output_type": "stream",
     "text": [
      "{'data': 1, 'science': 2}\n"
     ]
    }
   ],
   "source": [
    "# 1) loops\n",
    "d = {}\n",
    "for x,y in dct.items():\n",
    "    d[y] = x\n",
    "print(d)"
   ]
  },
  {
   "cell_type": "code",
   "execution_count": 77,
   "id": "de9f92f7",
   "metadata": {},
   "outputs": [
    {
     "data": {
      "text/plain": [
       "{'data': 1, 'science': 2}"
      ]
     },
     "execution_count": 77,
     "metadata": {},
     "output_type": "execute_result"
    }
   ],
   "source": [
    "# 2) dict comp\n",
    "{j:i for i,j in dct.items()}"
   ]
  },
  {
   "cell_type": "code",
   "execution_count": null,
   "id": "99ae96f1",
   "metadata": {},
   "outputs": [],
   "source": []
  },
  {
   "cell_type": "code",
   "execution_count": null,
   "id": "ed703067",
   "metadata": {},
   "outputs": [],
   "source": []
  },
  {
   "cell_type": "code",
   "execution_count": 80,
   "id": "966b9ccc",
   "metadata": {},
   "outputs": [],
   "source": [
    "# Write a func given a  integer x, \n",
    "# return x with its digits reversed\n",
    "\n",
    "# Example 1:\n",
    "# x = 123\n",
    "# Output: 321\n",
    "\n",
    "# Example 2:\n",
    "# x = -123\n",
    "# Output: -321"
   ]
  },
  {
   "cell_type": "code",
   "execution_count": 96,
   "id": "ff2375f6",
   "metadata": {},
   "outputs": [
    {
     "name": "stdout",
     "output_type": "stream",
     "text": [
      "-321\n"
     ]
    }
   ],
   "source": [
    "x = -123\n",
    "if x > 0 :\n",
    "    print(int(str(x)[::-1]))\n",
    "else :\n",
    "    print(int(str(x)[1:][::-1])*-1)"
   ]
  },
  {
   "cell_type": "code",
   "execution_count": null,
   "id": "31bb5158",
   "metadata": {},
   "outputs": [],
   "source": []
  },
  {
   "cell_type": "code",
   "execution_count": 97,
   "id": "c43e9b49",
   "metadata": {},
   "outputs": [],
   "source": [
    "# Dictionaries and Functions:\n",
    "# Write a function update_scores\n",
    "# that takes a dictionary containing player names and their scores,\n",
    "# and a list of tuples where each tuple contains a\n",
    "#player's name and points to add to their score.\n",
    "\n",
    "player_scores =  {'Alice': 10, 'Bob': 8, 'Carol': 15}\n",
    "\n",
    "updates       = [('Alice', 5), ('Bob', 2), ('Dave', 7)]\n",
    "\n",
    "# O/P : {'Alice': 15, 'Bob': 10, 'Carol': 15, 'Dave': 7}"
   ]
  },
  {
   "cell_type": "code",
   "execution_count": null,
   "id": "25a84c24",
   "metadata": {},
   "outputs": [],
   "source": []
  },
  {
   "cell_type": "code",
   "execution_count": null,
   "id": "e4633557",
   "metadata": {},
   "outputs": [],
   "source": []
  }
 ],
 "metadata": {
  "kernelspec": {
   "display_name": "Python 3 (ipykernel)",
   "language": "python",
   "name": "python3"
  },
  "language_info": {
   "codemirror_mode": {
    "name": "ipython",
    "version": 3
   },
   "file_extension": ".py",
   "mimetype": "text/x-python",
   "name": "python",
   "nbconvert_exporter": "python",
   "pygments_lexer": "ipython3",
   "version": "3.9.7"
  }
 },
 "nbformat": 4,
 "nbformat_minor": 5
}
