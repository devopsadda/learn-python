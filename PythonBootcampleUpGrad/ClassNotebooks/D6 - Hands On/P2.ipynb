{
 "cells": [
  {
   "cell_type": "code",
   "execution_count": 6,
   "id": "fa4481be",
   "metadata": {},
   "outputs": [],
   "source": [
    "# Question 1: Write a Python function to find the \n",
    "# second-largest number in a list of integers.\n",
    "input_numbers = [4,7,1,9,9,9,9,3,7,8,8,7,7]\n",
    "# o/p : 8"
   ]
  },
  {
   "cell_type": "code",
   "execution_count": 7,
   "id": "77464be0",
   "metadata": {},
   "outputs": [],
   "source": [
    "def sechigh(input_numbers):\n",
    "    return list(set(input_numbers))[-2]"
   ]
  },
  {
   "cell_type": "code",
   "execution_count": 8,
   "id": "8ee2184e",
   "metadata": {},
   "outputs": [
    {
     "data": {
      "text/plain": [
       "8"
      ]
     },
     "execution_count": 8,
     "metadata": {},
     "output_type": "execute_result"
    }
   ],
   "source": [
    "sechigh([4,7,1,9,9,9,9,3,7,8,8,7,7])"
   ]
  },
  {
   "cell_type": "code",
   "execution_count": null,
   "id": "bc80282b",
   "metadata": {},
   "outputs": [],
   "source": []
  },
  {
   "cell_type": "code",
   "execution_count": 11,
   "id": "7558f261",
   "metadata": {},
   "outputs": [],
   "source": [
    "# 2) Question: Calculate the sum of all numbers\n",
    "# in the list \n",
    "numbers = [1, 2, 3, 4, 5]\n",
    "# o/p : 15"
   ]
  },
  {
   "cell_type": "code",
   "execution_count": 15,
   "id": "23eb99a7",
   "metadata": {},
   "outputs": [
    {
     "name": "stdout",
     "output_type": "stream",
     "text": [
      "15\n"
     ]
    }
   ],
   "source": [
    "# 1) Loops\n",
    "s_um = 0 \n",
    "for i in numbers:\n",
    "    s_um = s_um + i \n",
    "print(s_um)"
   ]
  },
  {
   "cell_type": "code",
   "execution_count": 17,
   "id": "7c3a3d55",
   "metadata": {},
   "outputs": [
    {
     "data": {
      "text/plain": [
       "15"
      ]
     },
     "execution_count": 17,
     "metadata": {},
     "output_type": "execute_result"
    }
   ],
   "source": [
    "# 2) Lambda func and reduce \n",
    "from functools import reduce\n",
    "f = lambda a,b : a+b\n",
    "reduce(f,numbers)"
   ]
  },
  {
   "cell_type": "code",
   "execution_count": 18,
   "id": "fe33d01c",
   "metadata": {},
   "outputs": [
    {
     "data": {
      "text/plain": [
       "15"
      ]
     },
     "execution_count": 18,
     "metadata": {},
     "output_type": "execute_result"
    }
   ],
   "source": [
    "# 3) def func and reduce\n",
    "def add (x, y): \n",
    "    return x + y \n",
    "reduce (add, numbers)"
   ]
  },
  {
   "cell_type": "code",
   "execution_count": null,
   "id": "e359d8f6",
   "metadata": {},
   "outputs": [],
   "source": []
  },
  {
   "cell_type": "code",
   "execution_count": null,
   "id": "42f8b001",
   "metadata": {},
   "outputs": [],
   "source": []
  },
  {
   "cell_type": "code",
   "execution_count": null,
   "id": "8a6f3bb9",
   "metadata": {},
   "outputs": [],
   "source": []
  },
  {
   "cell_type": "code",
   "execution_count": 22,
   "id": "da3889ac",
   "metadata": {},
   "outputs": [],
   "source": [
    "# Write a for loop to compute the product (multiply)\n",
    "# of all **odd numbers** in a given list.\n",
    "numbers = [1, 2, 3, 4, 5, 6, 7]\n",
    "# o/p : 7*5*3*1 = 105"
   ]
  },
  {
   "cell_type": "code",
   "execution_count": 23,
   "id": "0e0b8bf8",
   "metadata": {},
   "outputs": [
    {
     "name": "stdout",
     "output_type": "stream",
     "text": [
      "105\n"
     ]
    }
   ],
   "source": [
    "x=1\n",
    "for i in numbers:\n",
    "    if i%2 !=0:\n",
    "        x=i*x \n",
    "print(x)"
   ]
  },
  {
   "cell_type": "code",
   "execution_count": null,
   "id": "d58cff90",
   "metadata": {},
   "outputs": [],
   "source": []
  },
  {
   "cell_type": "code",
   "execution_count": null,
   "id": "5053773e",
   "metadata": {},
   "outputs": [],
   "source": []
  },
  {
   "cell_type": "code",
   "execution_count": 33,
   "id": "4f9ea162",
   "metadata": {},
   "outputs": [],
   "source": [
    "# Q: Write a function  that takes a list of numbers,\n",
    "# filters out the odd numbers, \n",
    "# squares the remaining even numbers,\n",
    "# and then sums them up. \n",
    "x = [1,2,3,4]"
   ]
  },
  {
   "cell_type": "code",
   "execution_count": 34,
   "id": "526d9e5e",
   "metadata": {},
   "outputs": [
    {
     "data": {
      "text/plain": [
       "20"
      ]
     },
     "execution_count": 34,
     "metadata": {},
     "output_type": "execute_result"
    }
   ],
   "source": [
    "# 1)  Use filter, map, and the reduce function from functools.\n",
    "# [2,4] --> [4,16] --> 20\n",
    "\n",
    "def mrf(x):\n",
    "    s1 = list(filter(lambda x:x%2==0,x))\n",
    "    s2 = list(map(lambda x:x**2,s1))\n",
    "    s3 = reduce(lambda x,y:x+y,s2)\n",
    "    return s3\n",
    "\n",
    "mrf(x)"
   ]
  },
  {
   "cell_type": "code",
   "execution_count": 35,
   "id": "93cee72a",
   "metadata": {},
   "outputs": [
    {
     "name": "stdout",
     "output_type": "stream",
     "text": [
      "20\n"
     ]
    }
   ],
   "source": [
    "# 2) Loops\n",
    "s = 0\n",
    "for i in x :\n",
    "    if i%2 == 0 :\n",
    "        s = s+i**2\n",
    "print(s)"
   ]
  },
  {
   "cell_type": "code",
   "execution_count": null,
   "id": "8331949f",
   "metadata": {},
   "outputs": [],
   "source": []
  },
  {
   "cell_type": "code",
   "execution_count": 36,
   "id": "77fb5724",
   "metadata": {},
   "outputs": [],
   "source": [
    "# # Function\n",
    "# Write a function which calculates\n",
    "# factorial of a number\n",
    "# def , while\n",
    "\n",
    "# 5! = 5*4*3*2*1 = 120\n",
    "# Condition : < 0 -> enter correct number\n",
    "# <=1  --> 1\n",
    "# 5! = 5*4*3*2*1 = 120"
   ]
  },
  {
   "cell_type": "code",
   "execution_count": 37,
   "id": "965b59ff",
   "metadata": {},
   "outputs": [],
   "source": [
    "# 0!=1\n",
    "# 1!=1\n",
    "# 5! = 5*4*3*2*1 = 120"
   ]
  },
  {
   "cell_type": "code",
   "execution_count": 38,
   "id": "059f773f",
   "metadata": {},
   "outputs": [],
   "source": [
    "def fact(x):\n",
    "    if x < 0 :\n",
    "        print(\"Enter correct number\")\n",
    "    elif x <=1 :\n",
    "        return 1\n",
    "    else :\n",
    "        result = 1\n",
    "        while x > 1 :\n",
    "            result = result*x\n",
    "            x = x - 1\n",
    "        return result"
   ]
  },
  {
   "cell_type": "code",
   "execution_count": 39,
   "id": "4f962028",
   "metadata": {},
   "outputs": [
    {
     "name": "stdout",
     "output_type": "stream",
     "text": [
      "Enter correct number\n"
     ]
    }
   ],
   "source": [
    "fact(-10)"
   ]
  },
  {
   "cell_type": "code",
   "execution_count": 40,
   "id": "c2043613",
   "metadata": {},
   "outputs": [
    {
     "data": {
      "text/plain": [
       "1"
      ]
     },
     "execution_count": 40,
     "metadata": {},
     "output_type": "execute_result"
    }
   ],
   "source": [
    "fact(1)"
   ]
  },
  {
   "cell_type": "code",
   "execution_count": 41,
   "id": "3c567258",
   "metadata": {},
   "outputs": [
    {
     "data": {
      "text/plain": [
       "120"
      ]
     },
     "execution_count": 41,
     "metadata": {},
     "output_type": "execute_result"
    }
   ],
   "source": [
    "fact(5)"
   ]
  },
  {
   "cell_type": "code",
   "execution_count": null,
   "id": "9ae5eb36",
   "metadata": {},
   "outputs": [],
   "source": []
  },
  {
   "cell_type": "code",
   "execution_count": 47,
   "id": "6bd860b8",
   "metadata": {},
   "outputs": [],
   "source": [
    "# Q: Given a list of tuples where each\n",
    "# tuple contains a product name and its price, \n",
    "# Write a code  that returns a\n",
    "# list of products priced over $20.\n",
    "\n",
    "products = [('pen', 3.50), ('notebook', 25),\n",
    "            ('pencil', 2), ('bag', 50)]\n",
    "\n",
    "# Output: [('notebook', 25), ('bag', 50)]"
   ]
  },
  {
   "cell_type": "code",
   "execution_count": 48,
   "id": "88ab22e1",
   "metadata": {},
   "outputs": [
    {
     "name": "stdout",
     "output_type": "stream",
     "text": [
      "[('notebook', 25), ('bag', 50)]\n"
     ]
    }
   ],
   "source": [
    "# 1) Loops\n",
    "p = []\n",
    "for i in products:\n",
    "    if i[1]>=20:\n",
    "        p.append(i)\n",
    "print(p)"
   ]
  },
  {
   "cell_type": "code",
   "execution_count": 54,
   "id": "ca174d49",
   "metadata": {},
   "outputs": [
    {
     "name": "stdout",
     "output_type": "stream",
     "text": [
      "[('notebook', 25), ('bag', 50)]\n"
     ]
    }
   ],
   "source": [
    "p = []\n",
    "for i,j in products:\n",
    "    if j>=20:\n",
    "        p.append((i,j))\n",
    "print(p)"
   ]
  },
  {
   "cell_type": "code",
   "execution_count": null,
   "id": "acedfd31",
   "metadata": {},
   "outputs": [],
   "source": []
  },
  {
   "cell_type": "code",
   "execution_count": 49,
   "id": "ede1496a",
   "metadata": {},
   "outputs": [
    {
     "data": {
      "text/plain": [
       "[('notebook', 25), ('bag', 50)]"
      ]
     },
     "execution_count": 49,
     "metadata": {},
     "output_type": "execute_result"
    }
   ],
   "source": [
    "# 2) List comprehension\n",
    "[i for i in products if i[1]>=20]"
   ]
  },
  {
   "cell_type": "code",
   "execution_count": 50,
   "id": "39739cd8",
   "metadata": {},
   "outputs": [
    {
     "data": {
      "text/plain": [
       "[('notebook', 25), ('bag', 50)]"
      ]
     },
     "execution_count": 50,
     "metadata": {},
     "output_type": "execute_result"
    }
   ],
   "source": [
    "# 3) filter\n",
    "list(filter(lambda x : x[1]>=20, products))"
   ]
  },
  {
   "cell_type": "code",
   "execution_count": null,
   "id": "3a4c3a17",
   "metadata": {},
   "outputs": [],
   "source": []
  },
  {
   "cell_type": "code",
   "execution_count": null,
   "id": "a1388959",
   "metadata": {},
   "outputs": [],
   "source": []
  },
  {
   "cell_type": "code",
   "execution_count": 51,
   "id": "6af5d54a",
   "metadata": {},
   "outputs": [],
   "source": [
    "# Write a code that takes a \n",
    "# list of integers and returns the \n",
    "# first element that appears more than once. \n",
    "# If no element repeats, return None.\n",
    "\n",
    "# first_repeated_element([1, 3, 2, 5, 3, 4])\n",
    "# Output: 3\n",
    "\n",
    "# first_repeated_element([1, 2, 5, 3, 4])\n",
    "# Output: None"
   ]
  },
  {
   "cell_type": "code",
   "execution_count": 56,
   "id": "befbdc68",
   "metadata": {},
   "outputs": [],
   "source": [
    "x = [1, 3, 2, 5, 3, 4]"
   ]
  },
  {
   "cell_type": "code",
   "execution_count": 59,
   "id": "c7496039",
   "metadata": {},
   "outputs": [],
   "source": [
    "def cnt(x):\n",
    "    for i in x:\n",
    "        if x.count(i)>1:\n",
    "            return i\n",
    "    return None"
   ]
  },
  {
   "cell_type": "code",
   "execution_count": 61,
   "id": "a15809e7",
   "metadata": {},
   "outputs": [
    {
     "name": "stdout",
     "output_type": "stream",
     "text": [
      "3\n"
     ]
    }
   ],
   "source": [
    "print(cnt(x))"
   ]
  },
  {
   "cell_type": "code",
   "execution_count": 62,
   "id": "46f9e54a",
   "metadata": {
    "scrolled": true
   },
   "outputs": [
    {
     "name": "stdout",
     "output_type": "stream",
     "text": [
      "None\n"
     ]
    }
   ],
   "source": [
    "print(cnt([1,2,3]))"
   ]
  },
  {
   "cell_type": "code",
   "execution_count": null,
   "id": "5c92a453",
   "metadata": {},
   "outputs": [],
   "source": []
  },
  {
   "cell_type": "code",
   "execution_count": 69,
   "id": "ce8e529c",
   "metadata": {},
   "outputs": [],
   "source": [
    "dct = {1:\"data\",2:\"science\"}\n",
    "# o/p : {\"data\":1, \"science\":2}"
   ]
  },
  {
   "cell_type": "code",
   "execution_count": 72,
   "id": "870f63d2",
   "metadata": {},
   "outputs": [
    {
     "name": "stdout",
     "output_type": "stream",
     "text": [
      "{'data': 1, 'science': 2}\n"
     ]
    }
   ],
   "source": [
    "# 1) loops\n",
    "d = {}\n",
    "for x,y in dct.items():\n",
    "    d[y] = x\n",
    "print(d)"
   ]
  },
  {
   "cell_type": "code",
   "execution_count": 74,
   "id": "7a10b4df",
   "metadata": {},
   "outputs": [
    {
     "data": {
      "text/plain": [
       "{'data': 1, 'science': 2}"
      ]
     },
     "execution_count": 74,
     "metadata": {},
     "output_type": "execute_result"
    }
   ],
   "source": [
    "# 2) dict comp\n",
    "{j:i for i,j in dct.items()}"
   ]
  },
  {
   "cell_type": "code",
   "execution_count": null,
   "id": "60384969",
   "metadata": {},
   "outputs": [],
   "source": []
  },
  {
   "cell_type": "code",
   "execution_count": null,
   "id": "4d883d58",
   "metadata": {},
   "outputs": [],
   "source": []
  },
  {
   "cell_type": "code",
   "execution_count": null,
   "id": "5dd76290",
   "metadata": {},
   "outputs": [],
   "source": []
  },
  {
   "cell_type": "code",
   "execution_count": null,
   "id": "269e42e2",
   "metadata": {},
   "outputs": [],
   "source": []
  }
 ],
 "metadata": {
  "kernelspec": {
   "display_name": "Python 3 (ipykernel)",
   "language": "python",
   "name": "python3"
  },
  "language_info": {
   "codemirror_mode": {
    "name": "ipython",
    "version": 3
   },
   "file_extension": ".py",
   "mimetype": "text/x-python",
   "name": "python",
   "nbconvert_exporter": "python",
   "pygments_lexer": "ipython3",
   "version": "3.9.7"
  }
 },
 "nbformat": 4,
 "nbformat_minor": 5
}
