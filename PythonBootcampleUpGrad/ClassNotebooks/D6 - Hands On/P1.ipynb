{
 "cells": [
  {
   "cell_type": "code",
   "execution_count": 6,
   "id": "35dfcb2c",
   "metadata": {},
   "outputs": [],
   "source": [
    "# Question 1: Write a Python function to find the \n",
    "# second-largest number in a list of integers.\n",
    "input_numbers = [4,7,1,9,9,9,9,3,7,8,8,7,7]\n",
    "# o/p : 8"
   ]
  },
  {
   "cell_type": "code",
   "execution_count": 7,
   "id": "e2c4c3d2",
   "metadata": {},
   "outputs": [],
   "source": [
    "def sechigh(input_numbers):\n",
    "    return list(set(input_numbers))[-2]"
   ]
  },
  {
   "cell_type": "code",
   "execution_count": 8,
   "id": "b2b043af",
   "metadata": {},
   "outputs": [
    {
     "data": {
      "text/plain": [
       "8"
      ]
     },
     "execution_count": 8,
     "metadata": {},
     "output_type": "execute_result"
    }
   ],
   "source": [
    "sechigh([4,7,1,9,9,9,9,3,7,8,8,7,7])"
   ]
  },
  {
   "cell_type": "code",
   "execution_count": null,
   "id": "3137210b",
   "metadata": {},
   "outputs": [],
   "source": []
  },
  {
   "cell_type": "code",
   "execution_count": 11,
   "id": "e8a48e21",
   "metadata": {},
   "outputs": [],
   "source": [
    "# 2) Question: Calculate the sum of all numbers\n",
    "# in the list \n",
    "numbers = [1, 2, 3, 4, 5]\n",
    "# o/p : 15"
   ]
  },
  {
   "cell_type": "code",
   "execution_count": 15,
   "id": "226bc8ae",
   "metadata": {},
   "outputs": [
    {
     "name": "stdout",
     "output_type": "stream",
     "text": [
      "15\n"
     ]
    }
   ],
   "source": [
    "# 1) Loops\n",
    "s_um = 0 \n",
    "for i in numbers:\n",
    "    s_um = s_um + i \n",
    "print(s_um)"
   ]
  },
  {
   "cell_type": "code",
   "execution_count": 17,
   "id": "11b8c19b",
   "metadata": {},
   "outputs": [
    {
     "data": {
      "text/plain": [
       "15"
      ]
     },
     "execution_count": 17,
     "metadata": {},
     "output_type": "execute_result"
    }
   ],
   "source": [
    "# 2) Lambda func and reduce \n",
    "from functools import reduce\n",
    "f = lambda a,b : a+b\n",
    "reduce(f,numbers)"
   ]
  },
  {
   "cell_type": "code",
   "execution_count": 18,
   "id": "5663d9de",
   "metadata": {},
   "outputs": [
    {
     "data": {
      "text/plain": [
       "15"
      ]
     },
     "execution_count": 18,
     "metadata": {},
     "output_type": "execute_result"
    }
   ],
   "source": [
    "# 3) def func and reduce\n",
    "def add (x, y): \n",
    "    return x + y \n",
    "reduce (add, numbers)"
   ]
  },
  {
   "cell_type": "code",
   "execution_count": null,
   "id": "a6a661b5",
   "metadata": {},
   "outputs": [],
   "source": []
  },
  {
   "cell_type": "code",
   "execution_count": null,
   "id": "6ff5ab84",
   "metadata": {},
   "outputs": [],
   "source": []
  },
  {
   "cell_type": "code",
   "execution_count": null,
   "id": "a91ce9ad",
   "metadata": {},
   "outputs": [],
   "source": []
  },
  {
   "cell_type": "code",
   "execution_count": 22,
   "id": "1191685b",
   "metadata": {},
   "outputs": [],
   "source": [
    "# Write a for loop to compute the product (multiply)\n",
    "# of all **odd numbers** in a given list.\n",
    "numbers = [1, 2, 3, 4, 5, 6, 7]\n",
    "# o/p : 7*5*3*1 = 105"
   ]
  },
  {
   "cell_type": "code",
   "execution_count": 23,
   "id": "686e8ab8",
   "metadata": {},
   "outputs": [
    {
     "name": "stdout",
     "output_type": "stream",
     "text": [
      "105\n"
     ]
    }
   ],
   "source": [
    "x=1\n",
    "for i in numbers:\n",
    "    if i%2 !=0:\n",
    "        x=i*x \n",
    "print(x)"
   ]
  },
  {
   "cell_type": "code",
   "execution_count": null,
   "id": "ac877346",
   "metadata": {},
   "outputs": [],
   "source": []
  },
  {
   "cell_type": "code",
   "execution_count": null,
   "id": "7c5e6b7e",
   "metadata": {},
   "outputs": [],
   "source": []
  },
  {
   "cell_type": "code",
   "execution_count": 33,
   "id": "2d2966db",
   "metadata": {},
   "outputs": [],
   "source": [
    "# Q: Write a function  that takes a list of numbers,\n",
    "# filters out the odd numbers, \n",
    "# squares the remaining even numbers,\n",
    "# and then sums them up. \n",
    "x = [1,2,3,4]"
   ]
  },
  {
   "cell_type": "code",
   "execution_count": 34,
   "id": "c969aba7",
   "metadata": {},
   "outputs": [
    {
     "data": {
      "text/plain": [
       "20"
      ]
     },
     "execution_count": 34,
     "metadata": {},
     "output_type": "execute_result"
    }
   ],
   "source": [
    "# 1)  Use filter, map, and the reduce function from functools.\n",
    "# [2,4] --> [4,16] --> 20\n",
    "\n",
    "def mrf(x):\n",
    "    s1 = list(filter(lambda x:x%2==0,x))\n",
    "    s2 = list(map(lambda x:x**2,s1))\n",
    "    s3 = reduce(lambda x,y:x+y,s2)\n",
    "    return s3\n",
    "\n",
    "mrf(x)"
   ]
  },
  {
   "cell_type": "code",
   "execution_count": 35,
   "id": "304244d0",
   "metadata": {},
   "outputs": [
    {
     "name": "stdout",
     "output_type": "stream",
     "text": [
      "20\n"
     ]
    }
   ],
   "source": [
    "# 2) Loops\n",
    "s = 0\n",
    "for i in x :\n",
    "    if i%2 == 0 :\n",
    "        s = s+i**2\n",
    "print(s)"
   ]
  },
  {
   "cell_type": "code",
   "execution_count": null,
   "id": "83e8986d",
   "metadata": {},
   "outputs": [],
   "source": []
  },
  {
   "cell_type": "code",
   "execution_count": null,
   "id": "47f1d59e",
   "metadata": {},
   "outputs": [],
   "source": []
  },
  {
   "cell_type": "code",
   "execution_count": null,
   "id": "f6c4b0e3",
   "metadata": {},
   "outputs": [],
   "source": []
  },
  {
   "cell_type": "code",
   "execution_count": null,
   "id": "7c4be72c",
   "metadata": {},
   "outputs": [],
   "source": []
  }
 ],
 "metadata": {
  "kernelspec": {
   "display_name": "Python 3 (ipykernel)",
   "language": "python",
   "name": "python3"
  },
  "language_info": {
   "codemirror_mode": {
    "name": "ipython",
    "version": 3
   },
   "file_extension": ".py",
   "mimetype": "text/x-python",
   "name": "python",
   "nbconvert_exporter": "python",
   "pygments_lexer": "ipython3",
   "version": "3.9.7"
  }
 },
 "nbformat": 4,
 "nbformat_minor": 5
}
