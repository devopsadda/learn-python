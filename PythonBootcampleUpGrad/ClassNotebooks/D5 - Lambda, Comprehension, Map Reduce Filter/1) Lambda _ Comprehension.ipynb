{
 "cells": [
  {
   "cell_type": "code",
   "execution_count": 1,
   "id": "42b6d92b",
   "metadata": {},
   "outputs": [],
   "source": [
    "# basic data types - int float str bool\n",
    "# pythonic data types - list tuples sets dict\n",
    "# functions - def return\n",
    "# loops - if else elif for while continue break!"
   ]
  },
  {
   "cell_type": "code",
   "execution_count": 2,
   "id": "dae0c61c",
   "metadata": {},
   "outputs": [],
   "source": [
    "# functions : reusable piece of codes!\n",
    "# i can use that func n number of times!"
   ]
  },
  {
   "cell_type": "code",
   "execution_count": 3,
   "id": "83e962c8",
   "metadata": {},
   "outputs": [],
   "source": [
    "def myfirstfunc(a,b):\n",
    "    return a**b"
   ]
  },
  {
   "cell_type": "code",
   "execution_count": 4,
   "id": "7a3c3594",
   "metadata": {},
   "outputs": [
    {
     "name": "stdout",
     "output_type": "stream",
     "text": [
      "25\n"
     ]
    }
   ],
   "source": [
    "x = myfirstfunc(5,2)\n",
    "print(x)"
   ]
  },
  {
   "cell_type": "code",
   "execution_count": 5,
   "id": "c4d7fcee",
   "metadata": {},
   "outputs": [],
   "source": [
    "def mysecfunc(a,b):\n",
    "    return (a+b)*5"
   ]
  },
  {
   "cell_type": "code",
   "execution_count": 6,
   "id": "1ecb5cbf",
   "metadata": {},
   "outputs": [
    {
     "name": "stdout",
     "output_type": "stream",
     "text": [
      "100\n"
     ]
    }
   ],
   "source": [
    "x2 = mysecfunc(10,10)\n",
    "print(x2)"
   ]
  },
  {
   "cell_type": "code",
   "execution_count": null,
   "id": "123b85cc",
   "metadata": {},
   "outputs": [],
   "source": []
  },
  {
   "cell_type": "code",
   "execution_count": 7,
   "id": "1588c73c",
   "metadata": {},
   "outputs": [],
   "source": [
    "# lambda : anonymous function, quick way to write \n",
    "# a function without the def command"
   ]
  },
  {
   "cell_type": "code",
   "execution_count": 8,
   "id": "69bf2ae5",
   "metadata": {},
   "outputs": [],
   "source": [
    "# def myfirstfunc(a,b):\n",
    "#     return a**b\n",
    "f1 = lambda a,b : a**b"
   ]
  },
  {
   "cell_type": "code",
   "execution_count": 9,
   "id": "4cf7cd6e",
   "metadata": {},
   "outputs": [
    {
     "data": {
      "text/plain": [
       "25"
      ]
     },
     "execution_count": 9,
     "metadata": {},
     "output_type": "execute_result"
    }
   ],
   "source": [
    "f1(5,2)"
   ]
  },
  {
   "cell_type": "code",
   "execution_count": 10,
   "id": "5a6c85b0",
   "metadata": {},
   "outputs": [],
   "source": [
    "# def mysecfunc(a,b):\n",
    "#     return (a+b)*5\n",
    "\n",
    "f2 = lambda a,b : (a+b)*5"
   ]
  },
  {
   "cell_type": "code",
   "execution_count": 11,
   "id": "243f5792",
   "metadata": {},
   "outputs": [
    {
     "data": {
      "text/plain": [
       "100"
      ]
     },
     "execution_count": 11,
     "metadata": {},
     "output_type": "execute_result"
    }
   ],
   "source": [
    "f2(10,10)"
   ]
  },
  {
   "cell_type": "code",
   "execution_count": null,
   "id": "67153a5f",
   "metadata": {},
   "outputs": [],
   "source": []
  },
  {
   "cell_type": "code",
   "execution_count": 14,
   "id": "0c442a68",
   "metadata": {},
   "outputs": [],
   "source": [
    "# o/p : (a*b)**c\n",
    "# this func using def & lambda"
   ]
  },
  {
   "cell_type": "code",
   "execution_count": 16,
   "id": "a4e28ab3",
   "metadata": {},
   "outputs": [],
   "source": [
    "def my3func(a,b,c) :\n",
    "    return (a*b)**c\n",
    "\n",
    "f3 = lambda a,b,c:(a*b)**c"
   ]
  },
  {
   "cell_type": "code",
   "execution_count": 17,
   "id": "de24d715",
   "metadata": {},
   "outputs": [
    {
     "name": "stdout",
     "output_type": "stream",
     "text": [
      "64\n"
     ]
    }
   ],
   "source": [
    "print(my3func(2,2,3))"
   ]
  },
  {
   "cell_type": "code",
   "execution_count": 18,
   "id": "791764ae",
   "metadata": {},
   "outputs": [
    {
     "name": "stdout",
     "output_type": "stream",
     "text": [
      "64\n"
     ]
    }
   ],
   "source": [
    "print(f3(2,2,3))"
   ]
  },
  {
   "cell_type": "code",
   "execution_count": null,
   "id": "b6521e3e",
   "metadata": {},
   "outputs": [],
   "source": []
  },
  {
   "cell_type": "code",
   "execution_count": 19,
   "id": "e0d0bb25",
   "metadata": {},
   "outputs": [],
   "source": [
    "l1 = [1,2,3,4]\n",
    "# o/p : [1,4,9,16] #squares\n",
    "# do it using for loops!"
   ]
  },
  {
   "cell_type": "code",
   "execution_count": 21,
   "id": "65af13b5",
   "metadata": {},
   "outputs": [
    {
     "name": "stdout",
     "output_type": "stream",
     "text": [
      "1\n",
      "4\n",
      "9\n",
      "16\n"
     ]
    }
   ],
   "source": [
    "for i in l1 :\n",
    "    print(i**2)"
   ]
  },
  {
   "cell_type": "code",
   "execution_count": 24,
   "id": "402402fd",
   "metadata": {},
   "outputs": [
    {
     "data": {
      "text/plain": [
       "[1, 2, 3, 4]"
      ]
     },
     "execution_count": 24,
     "metadata": {},
     "output_type": "execute_result"
    }
   ],
   "source": [
    "l1"
   ]
  },
  {
   "cell_type": "code",
   "execution_count": 23,
   "id": "0c64c6ed",
   "metadata": {},
   "outputs": [
    {
     "name": "stdout",
     "output_type": "stream",
     "text": [
      "[1, 4, 9, 16]\n"
     ]
    }
   ],
   "source": [
    "nu = []\n",
    "for i in l1:\n",
    "    nu.append(i**2)\n",
    "print(nu)"
   ]
  },
  {
   "cell_type": "code",
   "execution_count": 25,
   "id": "19aefb2e",
   "metadata": {},
   "outputs": [],
   "source": [
    "# 1) Loop and square\n",
    "# 2) create a newlist & append"
   ]
  },
  {
   "cell_type": "code",
   "execution_count": 27,
   "id": "c58e8ba6",
   "metadata": {},
   "outputs": [
    {
     "data": {
      "text/plain": [
       "[1, 4, 9, 16]"
      ]
     },
     "execution_count": 27,
     "metadata": {},
     "output_type": "execute_result"
    }
   ],
   "source": [
    "# list comprehension!\n",
    "nu2 = [i**2 for i in l1]\n",
    "nu2"
   ]
  },
  {
   "cell_type": "code",
   "execution_count": null,
   "id": "1904ef41",
   "metadata": {},
   "outputs": [],
   "source": []
  },
  {
   "cell_type": "code",
   "execution_count": 31,
   "id": "d5a95540",
   "metadata": {},
   "outputs": [],
   "source": [
    "l2 = [1,2,3,4]\n",
    "# newlist : [3,4,5,6] - i+2\n",
    "# 1) Loops\n",
    "# 2) List Comprehension"
   ]
  },
  {
   "cell_type": "code",
   "execution_count": 32,
   "id": "c6ded00d",
   "metadata": {},
   "outputs": [
    {
     "name": "stdout",
     "output_type": "stream",
     "text": [
      "[3, 4, 5, 6]\n"
     ]
    }
   ],
   "source": [
    "# 1) Loops :\n",
    "nu3 = []\n",
    "for i in l2 :\n",
    "    nu3.append(i+2)\n",
    "print(nu3)"
   ]
  },
  {
   "cell_type": "code",
   "execution_count": 34,
   "id": "a54d52dd",
   "metadata": {},
   "outputs": [
    {
     "data": {
      "text/plain": [
       "[3, 4, 5, 6]"
      ]
     },
     "execution_count": 34,
     "metadata": {},
     "output_type": "execute_result"
    }
   ],
   "source": [
    "# 2) List Comprehension\n",
    "nu4 = [i+2 for i in l2]\n",
    "nu4"
   ]
  },
  {
   "cell_type": "code",
   "execution_count": null,
   "id": "700da73a",
   "metadata": {},
   "outputs": [],
   "source": []
  },
  {
   "cell_type": "code",
   "execution_count": 36,
   "id": "89847a64",
   "metadata": {},
   "outputs": [],
   "source": [
    "dct = {1:\"a\",2:\"b\",3:\"c\"}"
   ]
  },
  {
   "cell_type": "code",
   "execution_count": 37,
   "id": "6038bdc0",
   "metadata": {},
   "outputs": [
    {
     "data": {
      "text/plain": [
       "dict_keys([1, 2, 3])"
      ]
     },
     "execution_count": 37,
     "metadata": {},
     "output_type": "execute_result"
    }
   ],
   "source": [
    "dct.keys()"
   ]
  },
  {
   "cell_type": "code",
   "execution_count": 38,
   "id": "f34eb2b2",
   "metadata": {},
   "outputs": [
    {
     "data": {
      "text/plain": [
       "dict_values(['a', 'b', 'c'])"
      ]
     },
     "execution_count": 38,
     "metadata": {},
     "output_type": "execute_result"
    }
   ],
   "source": [
    "dct.values()"
   ]
  },
  {
   "cell_type": "code",
   "execution_count": 39,
   "id": "93bdfc97",
   "metadata": {},
   "outputs": [
    {
     "data": {
      "text/plain": [
       "dict_items([(1, 'a'), (2, 'b'), (3, 'c')])"
      ]
     },
     "execution_count": 39,
     "metadata": {},
     "output_type": "execute_result"
    }
   ],
   "source": [
    "dct.items()"
   ]
  },
  {
   "cell_type": "code",
   "execution_count": null,
   "id": "43e55a90",
   "metadata": {},
   "outputs": [],
   "source": []
  },
  {
   "cell_type": "code",
   "execution_count": 40,
   "id": "14701c09",
   "metadata": {},
   "outputs": [],
   "source": [
    "x1 = [1,2,3,4]\n",
    "# o/p : {1:1,2:4,3:9,4:16}\n",
    "# solve this using for loop"
   ]
  },
  {
   "cell_type": "code",
   "execution_count": 42,
   "id": "7079109f",
   "metadata": {},
   "outputs": [],
   "source": [
    "nudct = {}\n",
    "for i in x1 :\n",
    "    nudct[i] = i**2"
   ]
  },
  {
   "cell_type": "code",
   "execution_count": 43,
   "id": "44fb8811",
   "metadata": {},
   "outputs": [
    {
     "data": {
      "text/plain": [
       "{1: 1, 2: 4, 3: 9, 4: 16}"
      ]
     },
     "execution_count": 43,
     "metadata": {},
     "output_type": "execute_result"
    }
   ],
   "source": [
    "nudct"
   ]
  },
  {
   "cell_type": "code",
   "execution_count": 44,
   "id": "f6667a37",
   "metadata": {},
   "outputs": [],
   "source": [
    "# dictionary comprehension!"
   ]
  },
  {
   "cell_type": "code",
   "execution_count": 45,
   "id": "4417db0e",
   "metadata": {},
   "outputs": [
    {
     "data": {
      "text/plain": [
       "{1: 1, 2: 4, 3: 9, 4: 16}"
      ]
     },
     "execution_count": 45,
     "metadata": {},
     "output_type": "execute_result"
    }
   ],
   "source": [
    "{i:i**2 for i in x1}"
   ]
  },
  {
   "cell_type": "code",
   "execution_count": null,
   "id": "5c94f781",
   "metadata": {},
   "outputs": [],
   "source": []
  },
  {
   "cell_type": "code",
   "execution_count": 46,
   "id": "7a86c216",
   "metadata": {},
   "outputs": [],
   "source": [
    "# Given a list \n",
    "words = [\"apple\", \"banana\", \"cherry\", \"date\"]\n",
    "# o/p : {'apple': 5, 'banana': 6, 'cherry': 6, 'date': 4}\n",
    "# 1) loops\n",
    "# 2) Dict comprehension\n",
    "# 10,10AM IST"
   ]
  },
  {
   "cell_type": "code",
   "execution_count": 47,
   "id": "30d188cb",
   "metadata": {},
   "outputs": [
    {
     "name": "stdout",
     "output_type": "stream",
     "text": [
      "{'apple': 5, 'banana': 6, 'cherry': 6, 'date': 4}\n"
     ]
    }
   ],
   "source": [
    "nuword = {}\n",
    "for i in words :\n",
    "    nuword[i] = len(i)\n",
    "print(nuword)"
   ]
  },
  {
   "cell_type": "code",
   "execution_count": 48,
   "id": "0f6fe938",
   "metadata": {},
   "outputs": [
    {
     "data": {
      "text/plain": [
       "{'apple': 5, 'banana': 6, 'cherry': 6, 'date': 4}"
      ]
     },
     "execution_count": 48,
     "metadata": {},
     "output_type": "execute_result"
    }
   ],
   "source": [
    "{i:len(i) for i in words}"
   ]
  },
  {
   "cell_type": "code",
   "execution_count": null,
   "id": "2d5ca314",
   "metadata": {},
   "outputs": [],
   "source": []
  },
  {
   "cell_type": "code",
   "execution_count": null,
   "id": "194313b8",
   "metadata": {},
   "outputs": [],
   "source": []
  },
  {
   "cell_type": "code",
   "execution_count": null,
   "id": "6ab76675",
   "metadata": {},
   "outputs": [],
   "source": []
  },
  {
   "cell_type": "code",
   "execution_count": null,
   "id": "3ba2434d",
   "metadata": {},
   "outputs": [],
   "source": []
  },
  {
   "cell_type": "code",
   "execution_count": null,
   "id": "7586b2e6",
   "metadata": {},
   "outputs": [],
   "source": []
  }
 ],
 "metadata": {
  "kernelspec": {
   "display_name": "Python 3 (ipykernel)",
   "language": "python",
   "name": "python3"
  },
  "language_info": {
   "codemirror_mode": {
    "name": "ipython",
    "version": 3
   },
   "file_extension": ".py",
   "mimetype": "text/x-python",
   "name": "python",
   "nbconvert_exporter": "python",
   "pygments_lexer": "ipython3",
   "version": "3.9.7"
  }
 },
 "nbformat": 4,
 "nbformat_minor": 5
}
