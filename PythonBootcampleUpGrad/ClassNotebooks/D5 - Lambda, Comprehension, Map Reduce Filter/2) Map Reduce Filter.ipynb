{
 "cells": [
  {
   "cell_type": "code",
   "execution_count": 3,
   "id": "6bef6156",
   "metadata": {},
   "outputs": [],
   "source": [
    "x = [1,2,3]\n",
    "# o/p: [2,3,4]"
   ]
  },
  {
   "cell_type": "code",
   "execution_count": 4,
   "id": "9da31508",
   "metadata": {},
   "outputs": [
    {
     "name": "stdout",
     "output_type": "stream",
     "text": [
      "[2, 3, 4]\n"
     ]
    }
   ],
   "source": [
    "# 1) Loops :\n",
    "xnu = []\n",
    "for i in x :\n",
    "    xnu.append(i+1)\n",
    "print(xnu)"
   ]
  },
  {
   "cell_type": "code",
   "execution_count": 5,
   "id": "5f8633ed",
   "metadata": {},
   "outputs": [
    {
     "data": {
      "text/plain": [
       "[2, 3, 4]"
      ]
     },
     "execution_count": 5,
     "metadata": {},
     "output_type": "execute_result"
    }
   ],
   "source": [
    "# 2) List Comprehension\n",
    "[i+1 for i in x]"
   ]
  },
  {
   "cell_type": "code",
   "execution_count": 6,
   "id": "e9325a43",
   "metadata": {},
   "outputs": [],
   "source": [
    "# 3) map function --> list(map(func,list))\n",
    "# a. Takes 2 arguments : List, func!\n",
    "# b. func is applied on each element of the list!"
   ]
  },
  {
   "cell_type": "code",
   "execution_count": 9,
   "id": "26f18de5",
   "metadata": {},
   "outputs": [],
   "source": [
    "# list(map(func,list))\n",
    "# x = [1,2,3] -> known\n",
    "\n",
    "# f = lambda i : i + 1\n",
    "\n",
    "def f(i):\n",
    "    return i+1"
   ]
  },
  {
   "cell_type": "code",
   "execution_count": 10,
   "id": "67ad91b8",
   "metadata": {},
   "outputs": [
    {
     "data": {
      "text/plain": [
       "[2, 3, 4]"
      ]
     },
     "execution_count": 10,
     "metadata": {},
     "output_type": "execute_result"
    }
   ],
   "source": [
    "list(map(f,x))"
   ]
  },
  {
   "cell_type": "code",
   "execution_count": null,
   "id": "f5b50769",
   "metadata": {},
   "outputs": [],
   "source": []
  },
  {
   "cell_type": "code",
   "execution_count": null,
   "id": "f6b435cc",
   "metadata": {},
   "outputs": [],
   "source": []
  },
  {
   "cell_type": "code",
   "execution_count": 11,
   "id": "079fdd54",
   "metadata": {},
   "outputs": [],
   "source": [
    "a = [1,2,3,4,5,6]\n",
    "# o/p :[2, 4, 6] - only even elements in a newlist\n",
    "# 1) Loops \n",
    "# 2) List Comp"
   ]
  },
  {
   "cell_type": "code",
   "execution_count": 14,
   "id": "ac881d83",
   "metadata": {},
   "outputs": [
    {
     "name": "stdout",
     "output_type": "stream",
     "text": [
      "[2, 4, 6]\n"
     ]
    }
   ],
   "source": [
    "# 1) Loops\n",
    "nua = []\n",
    "for i in a :\n",
    "    if i%2 == 0 :\n",
    "        nua.append(i)\n",
    "print(nua)"
   ]
  },
  {
   "cell_type": "code",
   "execution_count": 16,
   "id": "81bd2e5c",
   "metadata": {},
   "outputs": [
    {
     "data": {
      "text/plain": [
       "[2, 4, 6]"
      ]
     },
     "execution_count": 16,
     "metadata": {},
     "output_type": "execute_result"
    }
   ],
   "source": [
    "# 2) List comprehension!\n",
    "[i for i in a if i%2 == 0]"
   ]
  },
  {
   "cell_type": "code",
   "execution_count": 21,
   "id": "887fc535",
   "metadata": {},
   "outputs": [
    {
     "data": {
      "text/plain": [
       "[2, 4, 6]"
      ]
     },
     "execution_count": 21,
     "metadata": {},
     "output_type": "execute_result"
    }
   ],
   "source": [
    "# 3) filter --> filters based on a condition\n",
    "# list(filter(func,list))\n",
    "# a = [1,2,3,4,5,6] --> Known!\n",
    "ev = lambda i : i%2==0\n",
    "list(filter(ev, a))"
   ]
  },
  {
   "cell_type": "code",
   "execution_count": null,
   "id": "32b365be",
   "metadata": {},
   "outputs": [],
   "source": []
  },
  {
   "cell_type": "code",
   "execution_count": null,
   "id": "f8625c95",
   "metadata": {},
   "outputs": [],
   "source": []
  },
  {
   "cell_type": "code",
   "execution_count": 25,
   "id": "5b502b17",
   "metadata": {},
   "outputs": [],
   "source": [
    "x = [1,2,3,4]\n",
    "# o/p : 10 using loops"
   ]
  },
  {
   "cell_type": "code",
   "execution_count": 27,
   "id": "238ba911",
   "metadata": {},
   "outputs": [
    {
     "name": "stdout",
     "output_type": "stream",
     "text": [
      "10\n"
     ]
    }
   ],
   "source": [
    "s = 0\n",
    "for i in x :\n",
    "    s = s + i\n",
    "print(s)"
   ]
  },
  {
   "cell_type": "code",
   "execution_count": 28,
   "id": "4bc0f94c",
   "metadata": {},
   "outputs": [],
   "source": [
    "# reduce --> will keep on running an operation \n",
    "# until it CANNOT"
   ]
  },
  {
   "cell_type": "code",
   "execution_count": 29,
   "id": "e4fab961",
   "metadata": {},
   "outputs": [],
   "source": [
    "# reduce(func,list)\n",
    "# x = [1,2,3,4] --> known\n",
    "# function : \n",
    "f = lambda a,b : a+b"
   ]
  },
  {
   "cell_type": "code",
   "execution_count": 31,
   "id": "0d7ceadf",
   "metadata": {},
   "outputs": [
    {
     "data": {
      "text/plain": [
       "10"
      ]
     },
     "execution_count": 31,
     "metadata": {},
     "output_type": "execute_result"
    }
   ],
   "source": [
    "from functools import reduce\n",
    "reduce(f,x)"
   ]
  },
  {
   "cell_type": "code",
   "execution_count": 32,
   "id": "c5d2984e",
   "metadata": {},
   "outputs": [],
   "source": [
    "# [1,2,3,4]\n",
    "# [3,3,4]\n",
    "# [6,4]\n",
    "# 10"
   ]
  },
  {
   "cell_type": "code",
   "execution_count": 36,
   "id": "f84a37d7",
   "metadata": {},
   "outputs": [],
   "source": [
    "# map :  takes a func, applies on each element of the list!\n",
    "# filter : takes a func and filters the element in a list!\n",
    "# reduce : perform a repititive operation!"
   ]
  },
  {
   "cell_type": "code",
   "execution_count": null,
   "id": "8090b71d",
   "metadata": {},
   "outputs": [],
   "source": []
  },
  {
   "cell_type": "code",
   "execution_count": 41,
   "id": "52a24564",
   "metadata": {},
   "outputs": [],
   "source": [
    "numbers = [1, 2, 3, 4, 5, 6]\n",
    "# o/p : [odd,even,odd,even,odd,even]\n",
    "# a. Loops\n",
    "# b. List comprehension"
   ]
  },
  {
   "cell_type": "code",
   "execution_count": 42,
   "id": "d1daaf9a",
   "metadata": {},
   "outputs": [
    {
     "name": "stdout",
     "output_type": "stream",
     "text": [
      "['Odd', 'Even', 'Odd', 'Even', 'Odd', 'Even']\n"
     ]
    }
   ],
   "source": [
    "# a. Loops\n",
    "nu_num =[]\n",
    "for i in numbers :\n",
    "    if i%2 == 0 :\n",
    "        nu_num.append(\"Even\")\n",
    "    else : \n",
    "        nu_num.append(\"Odd\")\n",
    "print(nu_num)"
   ]
  },
  {
   "cell_type": "code",
   "execution_count": 44,
   "id": "4ee619ca",
   "metadata": {},
   "outputs": [
    {
     "data": {
      "text/plain": [
       "['Odd', 'Even', 'Odd', 'Even', 'Odd', 'Even']"
      ]
     },
     "execution_count": 44,
     "metadata": {},
     "output_type": "execute_result"
    }
   ],
   "source": [
    "# b. List Comprehension\n",
    "[\"Even\" if i%2==0 else \"Odd\" for i in numbers]"
   ]
  },
  {
   "cell_type": "code",
   "execution_count": null,
   "id": "b637aaa5",
   "metadata": {},
   "outputs": [],
   "source": []
  },
  {
   "cell_type": "code",
   "execution_count": null,
   "id": "285941da",
   "metadata": {},
   "outputs": [],
   "source": []
  },
  {
   "cell_type": "code",
   "execution_count": null,
   "id": "24958735",
   "metadata": {},
   "outputs": [],
   "source": []
  },
  {
   "cell_type": "code",
   "execution_count": null,
   "id": "aebe1712",
   "metadata": {},
   "outputs": [],
   "source": []
  }
 ],
 "metadata": {
  "kernelspec": {
   "display_name": "Python 3 (ipykernel)",
   "language": "python",
   "name": "python3"
  },
  "language_info": {
   "codemirror_mode": {
    "name": "ipython",
    "version": 3
   },
   "file_extension": ".py",
   "mimetype": "text/x-python",
   "name": "python",
   "nbconvert_exporter": "python",
   "pygments_lexer": "ipython3",
   "version": "3.9.7"
  }
 },
 "nbformat": 4,
 "nbformat_minor": 5
}
