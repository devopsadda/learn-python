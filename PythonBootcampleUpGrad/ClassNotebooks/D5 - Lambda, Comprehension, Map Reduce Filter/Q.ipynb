{
 "cells": [
  {
   "cell_type": "code",
   "execution_count": 3,
   "id": "933177b2",
   "metadata": {},
   "outputs": [],
   "source": [
    "products = [(100, 5), (80, 10), (200, 15), (50, 7)]\n",
    "\n",
    "# [(price,quantity),(price,quantity),.....]\n",
    "\n",
    "# quantity >= 10 , 20% discount\n",
    "# quantity < 10  , no discount\n",
    "\n",
    "# o/p : [500,640,2400,350]"
   ]
  },
  {
   "cell_type": "code",
   "execution_count": 5,
   "id": "bc200fd6",
   "metadata": {},
   "outputs": [
    {
     "name": "stdout",
     "output_type": "stream",
     "text": [
      "(100, 5)\n",
      "(80, 10)\n",
      "(200, 15)\n",
      "(50, 7)\n"
     ]
    }
   ],
   "source": [
    "# 1) Loops\n",
    "for i in products :\n",
    "    print(i)"
   ]
  },
  {
   "cell_type": "code",
   "execution_count": 7,
   "id": "f71b7eb2",
   "metadata": {},
   "outputs": [
    {
     "name": "stdout",
     "output_type": "stream",
     "text": [
      "[500, 800, 3000, 350]\n"
     ]
    }
   ],
   "source": [
    "nu = []\n",
    "for i in products :\n",
    "    nu.append(i[0]*i[1])\n",
    "print(nu)"
   ]
  },
  {
   "cell_type": "code",
   "execution_count": 8,
   "id": "53df7259",
   "metadata": {},
   "outputs": [
    {
     "name": "stdout",
     "output_type": "stream",
     "text": [
      "[500, 640.0, 2400.0, 350]\n"
     ]
    }
   ],
   "source": [
    "nu = []\n",
    "for i in products :\n",
    "    if i[1]>=10 :\n",
    "        nu.append(i[0]*i[1]*0.8)\n",
    "    else : \n",
    "         nu.append(i[0]*i[1])\n",
    "print(nu)"
   ]
  },
  {
   "cell_type": "code",
   "execution_count": null,
   "id": "259affe2",
   "metadata": {},
   "outputs": [],
   "source": []
  },
  {
   "cell_type": "code",
   "execution_count": null,
   "id": "14ff4b8a",
   "metadata": {},
   "outputs": [],
   "source": []
  },
  {
   "cell_type": "code",
   "execution_count": 11,
   "id": "f4dbf4cf",
   "metadata": {},
   "outputs": [
    {
     "name": "stdout",
     "output_type": "stream",
     "text": [
      "[500, 640, 2400, 350]\n"
     ]
    }
   ],
   "source": [
    "products = [(100, 5), (80, 10), (200, 15), (50, 7)]\n",
    "total_prices = []\n",
    "\n",
    "for price, quantity in products: \n",
    "    if quantity >= 10: \n",
    "        total_prices.append(int(price *quantity* 0.8))\n",
    "    else: \n",
    "        total_prices.append(price *quantity)\n",
    "print (total_prices)"
   ]
  },
  {
   "cell_type": "code",
   "execution_count": null,
   "id": "9e5cd825",
   "metadata": {},
   "outputs": [],
   "source": []
  },
  {
   "cell_type": "code",
   "execution_count": 13,
   "id": "c84a8baf",
   "metadata": {},
   "outputs": [],
   "source": [
    "sdict = {'a': 1, 'b': 2, 'c': 3}\n",
    "# add 1 to the value \n",
    "#o/p :  {'a': 2, 'b': 3, 'c': 4}"
   ]
  },
  {
   "cell_type": "code",
   "execution_count": 15,
   "id": "84d289a9",
   "metadata": {},
   "outputs": [
    {
     "data": {
      "text/plain": [
       "{'a': 2, 'b': 3, 'c': 4}"
      ]
     },
     "execution_count": 15,
     "metadata": {},
     "output_type": "execute_result"
    }
   ],
   "source": [
    "u_dict = {key:value +1 for key,value in sdict.items()}\n",
    "u_dict"
   ]
  },
  {
   "cell_type": "code",
   "execution_count": null,
   "id": "6f6929e7",
   "metadata": {},
   "outputs": [],
   "source": []
  },
  {
   "cell_type": "code",
   "execution_count": null,
   "id": "72718865",
   "metadata": {},
   "outputs": [],
   "source": []
  },
  {
   "cell_type": "code",
   "execution_count": null,
   "id": "7c6fc59a",
   "metadata": {},
   "outputs": [],
   "source": []
  },
  {
   "cell_type": "code",
   "execution_count": null,
   "id": "bed7ca27",
   "metadata": {},
   "outputs": [],
   "source": []
  }
 ],
 "metadata": {
  "kernelspec": {
   "display_name": "Python 3 (ipykernel)",
   "language": "python",
   "name": "python3"
  },
  "language_info": {
   "codemirror_mode": {
    "name": "ipython",
    "version": 3
   },
   "file_extension": ".py",
   "mimetype": "text/x-python",
   "name": "python",
   "nbconvert_exporter": "python",
   "pygments_lexer": "ipython3",
   "version": "3.9.7"
  }
 },
 "nbformat": 4,
 "nbformat_minor": 5
}
