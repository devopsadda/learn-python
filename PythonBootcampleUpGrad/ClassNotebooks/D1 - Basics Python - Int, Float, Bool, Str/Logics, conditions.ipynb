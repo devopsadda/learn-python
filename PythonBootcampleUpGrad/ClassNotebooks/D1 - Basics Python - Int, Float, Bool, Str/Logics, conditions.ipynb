{
 "cells": [
  {
   "cell_type": "code",
   "execution_count": 1,
   "id": "2b2fe567",
   "metadata": {},
   "outputs": [
    {
     "name": "stdout",
     "output_type": "stream",
     "text": [
      "enter name - upgrad\n"
     ]
    }
   ],
   "source": [
    "a = input(\"enter name - \")"
   ]
  },
  {
   "cell_type": "code",
   "execution_count": 2,
   "id": "a8eb28da",
   "metadata": {},
   "outputs": [
    {
     "name": "stdout",
     "output_type": "stream",
     "text": [
      "upgrad\n"
     ]
    }
   ],
   "source": [
    "print(a)"
   ]
  },
  {
   "cell_type": "code",
   "execution_count": 3,
   "id": "5bf7e5e8",
   "metadata": {},
   "outputs": [
    {
     "data": {
      "text/plain": [
       "str"
      ]
     },
     "execution_count": 3,
     "metadata": {},
     "output_type": "execute_result"
    }
   ],
   "source": [
    "type(a)"
   ]
  },
  {
   "cell_type": "code",
   "execution_count": null,
   "id": "0ce69292",
   "metadata": {},
   "outputs": [],
   "source": []
  },
  {
   "cell_type": "code",
   "execution_count": 4,
   "id": "8212a3e7",
   "metadata": {},
   "outputs": [
    {
     "name": "stdout",
     "output_type": "stream",
     "text": [
      "Enter Age - 30\n"
     ]
    }
   ],
   "source": [
    "a2 = input(\"Enter Age - \")"
   ]
  },
  {
   "cell_type": "code",
   "execution_count": 5,
   "id": "22ee647e",
   "metadata": {},
   "outputs": [
    {
     "name": "stdout",
     "output_type": "stream",
     "text": [
      "30\n"
     ]
    }
   ],
   "source": [
    "print(a2)"
   ]
  },
  {
   "cell_type": "code",
   "execution_count": 6,
   "id": "e7786f1c",
   "metadata": {},
   "outputs": [
    {
     "data": {
      "text/plain": [
       "str"
      ]
     },
     "execution_count": 6,
     "metadata": {},
     "output_type": "execute_result"
    }
   ],
   "source": [
    "type(a2)"
   ]
  },
  {
   "cell_type": "code",
   "execution_count": null,
   "id": "c71555ff",
   "metadata": {},
   "outputs": [],
   "source": []
  },
  {
   "cell_type": "code",
   "execution_count": null,
   "id": "1fa1a48e",
   "metadata": {},
   "outputs": [],
   "source": []
  },
  {
   "cell_type": "code",
   "execution_count": 7,
   "id": "2fda3b25",
   "metadata": {},
   "outputs": [
    {
     "name": "stdout",
     "output_type": "stream",
     "text": [
      "Age - 30\n"
     ]
    }
   ],
   "source": [
    "a3 = int(input(\"Age - \"))"
   ]
  },
  {
   "cell_type": "code",
   "execution_count": 8,
   "id": "ae531965",
   "metadata": {},
   "outputs": [
    {
     "name": "stdout",
     "output_type": "stream",
     "text": [
      "30\n"
     ]
    }
   ],
   "source": [
    "print(a3)"
   ]
  },
  {
   "cell_type": "code",
   "execution_count": 9,
   "id": "64abfa30",
   "metadata": {},
   "outputs": [
    {
     "data": {
      "text/plain": [
       "int"
      ]
     },
     "execution_count": 9,
     "metadata": {},
     "output_type": "execute_result"
    }
   ],
   "source": [
    "type(a3)"
   ]
  },
  {
   "cell_type": "code",
   "execution_count": null,
   "id": "a903ebdc",
   "metadata": {},
   "outputs": [],
   "source": []
  },
  {
   "cell_type": "code",
   "execution_count": null,
   "id": "a89f5e70",
   "metadata": {},
   "outputs": [],
   "source": []
  },
  {
   "cell_type": "code",
   "execution_count": null,
   "id": "2cfc59fb",
   "metadata": {},
   "outputs": [],
   "source": []
  },
  {
   "cell_type": "code",
   "execution_count": 10,
   "id": "ec3e64c1",
   "metadata": {},
   "outputs": [
    {
     "name": "stdout",
     "output_type": "stream",
     "text": [
      "Please enter age : 29\n"
     ]
    }
   ],
   "source": [
    "age = int(input(\"Please enter age : \"))"
   ]
  },
  {
   "cell_type": "code",
   "execution_count": 11,
   "id": "c5a592a2",
   "metadata": {},
   "outputs": [
    {
     "name": "stdout",
     "output_type": "stream",
     "text": [
      "29\n"
     ]
    }
   ],
   "source": [
    "print(age)"
   ]
  },
  {
   "cell_type": "code",
   "execution_count": 12,
   "id": "b9960ec4",
   "metadata": {},
   "outputs": [
    {
     "name": "stdout",
     "output_type": "stream",
     "text": [
      "Vote\n"
     ]
    }
   ],
   "source": [
    "if age >= 18:\n",
    "    print(\"Vote\")\n",
    "else :\n",
    "    print(\"CANNOT\")"
   ]
  },
  {
   "cell_type": "code",
   "execution_count": null,
   "id": "5f44126d",
   "metadata": {},
   "outputs": [],
   "source": []
  },
  {
   "cell_type": "code",
   "execution_count": 13,
   "id": "d1a0acd4",
   "metadata": {},
   "outputs": [
    {
     "name": "stdout",
     "output_type": "stream",
     "text": [
      "CANNOT\n"
     ]
    }
   ],
   "source": [
    "age = 10\n",
    "if age >= 18:\n",
    "    print(\"Vote\")\n",
    "else :\n",
    "    print(\"CANNOT\")"
   ]
  },
  {
   "cell_type": "code",
   "execution_count": null,
   "id": "d9db9145",
   "metadata": {},
   "outputs": [],
   "source": []
  },
  {
   "cell_type": "code",
   "execution_count": null,
   "id": "b27d551a",
   "metadata": {},
   "outputs": [],
   "source": []
  },
  {
   "cell_type": "code",
   "execution_count": 14,
   "id": "2501d005",
   "metadata": {},
   "outputs": [
    {
     "name": "stdout",
     "output_type": "stream",
     "text": [
      "CANNOT\n"
     ]
    }
   ],
   "source": [
    "age = -100\n",
    "if age >= 18:\n",
    "    print(\"Vote\")\n",
    "else :\n",
    "    print(\"CANNOT\")"
   ]
  },
  {
   "cell_type": "code",
   "execution_count": null,
   "id": "b89601a1",
   "metadata": {},
   "outputs": [],
   "source": [
    "# when age is negative\n",
    "# it says - pls enter correct age!\n",
    "# ONLY USE IF AND ELSE"
   ]
  },
  {
   "cell_type": "code",
   "execution_count": 15,
   "id": "f44a24eb",
   "metadata": {},
   "outputs": [],
   "source": [
    "age = -100"
   ]
  },
  {
   "cell_type": "code",
   "execution_count": 16,
   "id": "ffccb9bd",
   "metadata": {},
   "outputs": [
    {
     "name": "stdout",
     "output_type": "stream",
     "text": [
      "enter correct age!\n"
     ]
    }
   ],
   "source": [
    "if age > 0 :\n",
    "    if age >=18 :\n",
    "        print(\"Vote\")\n",
    "    else :\n",
    "        print(\"CANNOT\")\n",
    "else :\n",
    "    print(\"enter correct age!\")"
   ]
  },
  {
   "cell_type": "code",
   "execution_count": null,
   "id": "a44300b6",
   "metadata": {},
   "outputs": [],
   "source": []
  },
  {
   "cell_type": "code",
   "execution_count": 17,
   "id": "891af4e1",
   "metadata": {},
   "outputs": [],
   "source": [
    "age = 100"
   ]
  },
  {
   "cell_type": "code",
   "execution_count": 18,
   "id": "5a82fce4",
   "metadata": {},
   "outputs": [
    {
     "name": "stdout",
     "output_type": "stream",
     "text": [
      "Vote\n"
     ]
    }
   ],
   "source": [
    "if age > 0 :\n",
    "    if age >=18 :\n",
    "        print(\"Vote\")\n",
    "    else :\n",
    "        print(\"CANNOT\")\n",
    "else :\n",
    "    print(\"enter correct age!\")"
   ]
  },
  {
   "cell_type": "code",
   "execution_count": null,
   "id": "d9824238",
   "metadata": {},
   "outputs": [],
   "source": []
  },
  {
   "cell_type": "code",
   "execution_count": 19,
   "id": "0f492abd",
   "metadata": {},
   "outputs": [],
   "source": [
    "age = 10 "
   ]
  },
  {
   "cell_type": "code",
   "execution_count": 20,
   "id": "a8f03cab",
   "metadata": {},
   "outputs": [
    {
     "name": "stdout",
     "output_type": "stream",
     "text": [
      "CANNOT\n"
     ]
    }
   ],
   "source": [
    "if age > 0 :\n",
    "    if age >=18 :\n",
    "        print(\"Vote\")\n",
    "    else :\n",
    "        print(\"CANNOT\")\n",
    "else :\n",
    "    print(\"enter correct age!\")"
   ]
  },
  {
   "cell_type": "code",
   "execution_count": null,
   "id": "59799b5a",
   "metadata": {},
   "outputs": [],
   "source": []
  },
  {
   "cell_type": "code",
   "execution_count": null,
   "id": "ff4a89b2",
   "metadata": {},
   "outputs": [],
   "source": []
  },
  {
   "cell_type": "code",
   "execution_count": 21,
   "id": "b555d484",
   "metadata": {},
   "outputs": [],
   "source": [
    "# # Retirment age classifer \n",
    "# 1) Take input from user - age\n",
    "# 2) >59 : Retirement is soon\n",
    "# 3) Not so soon\n",
    "\n",
    "# Make sure no negative age: print - incorrect age!"
   ]
  },
  {
   "cell_type": "code",
   "execution_count": 23,
   "id": "8108160d",
   "metadata": {},
   "outputs": [
    {
     "name": "stdout",
     "output_type": "stream",
     "text": [
      "age : 62\n"
     ]
    }
   ],
   "source": [
    "ret = int(input(\"age : \"))"
   ]
  },
  {
   "cell_type": "code",
   "execution_count": 24,
   "id": "8f361bfb",
   "metadata": {},
   "outputs": [
    {
     "name": "stdout",
     "output_type": "stream",
     "text": [
      "soon\n"
     ]
    }
   ],
   "source": [
    "if ret > 0 :\n",
    "    if ret >= 59:\n",
    "        print('soon')\n",
    "    else :\n",
    "        print('not soon')\n",
    "\n",
    "else :\n",
    "    print(\"enter correct age\")"
   ]
  },
  {
   "cell_type": "code",
   "execution_count": null,
   "id": "f2c7b4e1",
   "metadata": {},
   "outputs": [],
   "source": []
  },
  {
   "cell_type": "code",
   "execution_count": 28,
   "id": "58839b12",
   "metadata": {},
   "outputs": [],
   "source": [
    "# if else\n",
    "# elif"
   ]
  },
  {
   "cell_type": "code",
   "execution_count": null,
   "id": "6812293a",
   "metadata": {},
   "outputs": [],
   "source": []
  }
 ],
 "metadata": {
  "kernelspec": {
   "display_name": "Python 3 (ipykernel)",
   "language": "python",
   "name": "python3"
  },
  "language_info": {
   "codemirror_mode": {
    "name": "ipython",
    "version": 3
   },
   "file_extension": ".py",
   "mimetype": "text/x-python",
   "name": "python",
   "nbconvert_exporter": "python",
   "pygments_lexer": "ipython3",
   "version": "3.9.7"
  }
 },
 "nbformat": 4,
 "nbformat_minor": 5
}
